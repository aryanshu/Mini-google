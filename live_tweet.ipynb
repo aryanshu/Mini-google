{
  "nbformat": 4,
  "nbformat_minor": 0,
  "metadata": {
    "colab": {
      "name": "live_tweet.ipynb",
      "provenance": [],
      "authorship_tag": "ABX9TyOmUZYnY0LlwkTJIk4jtOe+",
      "include_colab_link": true
    },
    "kernelspec": {
      "name": "python3",
      "display_name": "Python 3"
    }
  },
  "cells": [
    {
      "cell_type": "markdown",
      "metadata": {
        "id": "view-in-github",
        "colab_type": "text"
      },
      "source": [
        "<a href=\"https://colab.research.google.com/github/aryanshu/Mini-google/blob/master/live_tweet.ipynb\" target=\"_parent\"><img src=\"https://colab.research.google.com/assets/colab-badge.svg\" alt=\"Open In Colab\"/></a>"
      ]
    },
    {
      "cell_type": "code",
      "metadata": {
        "id": "F6PxzH5ofljW",
        "colab_type": "code",
        "outputId": "8e363066-3a6f-4bc2-d147-0ecbebfa2d4d",
        "colab": {
          "base_uri": "https://localhost:8080/",
          "height": 33
        }
      },
      "source": [
        "from google.colab import drive\n",
        "drive.mount('/gdrive')"
      ],
      "execution_count": 0,
      "outputs": [
        {
          "output_type": "stream",
          "text": [
            "Drive already mounted at /gdrive; to attempt to forcibly remount, call drive.mount(\"/gdrive\", force_remount=True).\n"
          ],
          "name": "stdout"
        }
      ]
    },
    {
      "cell_type": "code",
      "metadata": {
        "id": "JlhgSCc0-ONs",
        "colab_type": "code",
        "outputId": "35d499f0-deff-4c49-e340-dfdb3906d66f",
        "colab": {
          "base_uri": "https://localhost:8080/",
          "height": 33
        }
      },
      "source": [
        "cd \"/gdrive/My Drive/Colab Notebooks\""
      ],
      "execution_count": 0,
      "outputs": [
        {
          "output_type": "stream",
          "text": [
            "/gdrive/My Drive/Colab Notebooks\n"
          ],
          "name": "stdout"
        }
      ]
    },
    {
      "cell_type": "code",
      "metadata": {
        "id": "9HsIi3X7-W6i",
        "colab_type": "code",
        "outputId": "e0fdd940-a17d-41c6-9701-27edc46ef00c",
        "colab": {
          "base_uri": "https://localhost:8080/",
          "height": 293
        }
      },
      "source": [
        "!pip install tweepy\n",
        "!pip install textblob\n",
        "!pip install jsonpickle"
      ],
      "execution_count": 0,
      "outputs": [
        {
          "output_type": "stream",
          "text": [
            "Requirement already satisfied: tweepy in /usr/local/lib/python3.6/dist-packages (3.6.0)\n",
            "Requirement already satisfied: six>=1.10.0 in /usr/local/lib/python3.6/dist-packages (from tweepy) (1.12.0)\n",
            "Requirement already satisfied: requests>=2.11.1 in /usr/local/lib/python3.6/dist-packages (from tweepy) (2.21.0)\n",
            "Requirement already satisfied: PySocks>=1.5.7 in /usr/local/lib/python3.6/dist-packages (from tweepy) (1.7.1)\n",
            "Requirement already satisfied: requests-oauthlib>=0.7.0 in /usr/local/lib/python3.6/dist-packages (from tweepy) (1.3.0)\n",
            "Requirement already satisfied: chardet<3.1.0,>=3.0.2 in /usr/local/lib/python3.6/dist-packages (from requests>=2.11.1->tweepy) (3.0.4)\n",
            "Requirement already satisfied: certifi>=2017.4.17 in /usr/local/lib/python3.6/dist-packages (from requests>=2.11.1->tweepy) (2019.11.28)\n",
            "Requirement already satisfied: urllib3<1.25,>=1.21.1 in /usr/local/lib/python3.6/dist-packages (from requests>=2.11.1->tweepy) (1.24.3)\n",
            "Requirement already satisfied: idna<2.9,>=2.5 in /usr/local/lib/python3.6/dist-packages (from requests>=2.11.1->tweepy) (2.8)\n",
            "Requirement already satisfied: oauthlib>=3.0.0 in /usr/local/lib/python3.6/dist-packages (from requests-oauthlib>=0.7.0->tweepy) (3.1.0)\n",
            "Requirement already satisfied: textblob in /usr/local/lib/python3.6/dist-packages (0.15.3)\n",
            "Requirement already satisfied: nltk>=3.1 in /usr/local/lib/python3.6/dist-packages (from textblob) (3.2.5)\n",
            "Requirement already satisfied: six in /usr/local/lib/python3.6/dist-packages (from nltk>=3.1->textblob) (1.12.0)\n",
            "Collecting jsonpickle\n",
            "  Downloading https://files.pythonhosted.org/packages/7e/6b/fbb2d499b96861a18c1641f6fefe775110d3faba65c1524950e9ad64824a/jsonpickle-1.3-py2.py3-none-any.whl\n",
            "Installing collected packages: jsonpickle\n",
            "Successfully installed jsonpickle-1.3\n"
          ],
          "name": "stdout"
        }
      ]
    },
    {
      "cell_type": "code",
      "metadata": {
        "id": "T-VCog0U-ZId",
        "colab_type": "code",
        "colab": {}
      },
      "source": [
        "class TweetAnalyzer():\n",
        "    \"\"\"\n",
        "    Functionality for analyzing and categorizing content from tweets.\n",
        "    \"\"\"\n",
        "\n",
        "    def clean_tweet(self, tweet):\n",
        "        return ' '.join(re.sub(\"(@[A-Za-z0-9]+)|([^0-9A-Za-z \\t])|(\\w+:\\/\\/\\S+)\", \" \", tweet).split())\n",
        "\n",
        "    def analyze_sentiment(self, tweet):\n",
        "        analysis = TextBlob(self.clean_tweet(tweet))\n",
        "        \n",
        "        if analysis.sentiment.polarity > 0:\n",
        "            return 1\n",
        "        elif analysis.sentiment.polarity == 0:\n",
        "            return 0\n",
        "        else:\n",
        "            return -1\n",
        "\n",
        "    def tweets_to_data_frame(self, tweets):\n",
        "        df = pd.DataFrame(data=[tweet.text[:150] for tweet in tweets], columns=['tweets'])\n",
        "\n",
        "        df['id'] = np.array([tweet.id for tweet in tweets])\n",
        "        df['date'] = np.array([tweet.created_at for tweet in tweets])\n",
        " \n",
        "        return df"
      ],
      "execution_count": 0,
      "outputs": []
    },
    {
      "cell_type": "code",
      "metadata": {
        "id": "sWeXhhWN-ewT",
        "colab_type": "code",
        "colab": {}
      },
      "source": [
        "import re \n",
        "import tweepy \n",
        "from tweepy import OAuthHandler \n",
        "from textblob import TextBlob \n",
        "from tweepy import API \n",
        "from tweepy import Cursor\n",
        "from tweepy.streaming import StreamListener\n",
        "from tweepy import Stream\n",
        "\n",
        "import matplotlib.pyplot as plt\n",
        "import numpy as np\n",
        "import pandas as pd\n",
        "import re\n",
        "import time\n",
        "\n",
        "API_KEY=\n",
        "API_SECRET=\n",
        "auth = tweepy.AppAuthHandler(API_KEY, API_SECRET)\n",
        "\n",
        "api = tweepy.API(auth,wait_on_rate_limit=True,\n",
        "\t\t\t\t   wait_on_rate_limit_notify=True)"
      ],
      "execution_count": 0,
      "outputs": []
    },
    {
      "cell_type": "code",
      "metadata": {
        "id": "RZDVa8q0_A-P",
        "colab_type": "code",
        "colab": {}
      },
      "source": [
        "import sys\n",
        "import jsonpickle\n",
        "import os\n",
        "\n",
        "#print(\"Downloading max {0} tweets\".format(maxTweets))\n",
        "def tweet_collect(query=None,maxTweets=1000,fName='tweets.txt',until=None):\n",
        "  sinceId = None\n",
        "  tweets=[]\n",
        "  max_id =-1000000\n",
        "\n",
        "  tweetCount = 0\n",
        "  searchQuery = query  \n",
        "  tweetsPerQry = 100 \n",
        "  with open(fName, 'w') as f:\n",
        "      while tweetCount < maxTweets:\n",
        "          try:\n",
        "              if (max_id <= 0):\n",
        "                  if (not sinceId):\n",
        "                      new_tweets = api.search(q=searchQuery, count=tweetsPerQry,lang=\"en\",wait_on_rate_limit=True,\n",
        "                                geocode='28.644800,77.216721,20km',until=until)\n",
        "                  else:\n",
        "                      new_tweets = api.search(q=searchQuery, count=tweetsPerQry,\n",
        "                                              since_id=sinceId,lang=\"en\",wait_on_rate_limit=True,\n",
        "                                geocode='28.644800,77.216721,20km',until=until)\n",
        "              else:\n",
        "                  if (not sinceId):\n",
        "                      new_tweets = api.search(q=searchQuery, count=tweetsPerQry,lang=\"en\",wait_on_rate_limit=True,\n",
        "                                geocode='28.644800,77.216721,20km',until=until,\n",
        "                                              max_id=str(max_id - 1))\n",
        "                  else:\n",
        "                      new_tweets = api.search(q=searchQuery, count=tweetsPerQry,lang=\"en\",wait_on_rate_limit=True,\n",
        "                                geocode='28.644800,77.216721,20km',until=until,\n",
        "                                              max_id=str(max_id - 1),\n",
        "                                              since_id=sinceId)\n",
        "              if not new_tweets:\n",
        "                  print(\"No more tweets found\")\n",
        "                  break\n",
        "              for tweet in new_tweets:\n",
        "                  f.write(jsonpickle.encode(tweet._json, unpicklable=False) +\n",
        "                          '\\n')\n",
        "                  tweets.append(tweet)\n",
        "              tweetCount += len(new_tweets)\n",
        "              print(\"Downloaded {0} tweets\".format(tweetCount))\n",
        "              max_id = new_tweets[-1].id\n",
        "          except tweepy.TweepError as e:\n",
        "              # Just exit if any error\n",
        "              print(\"some error : \" + str(e))\n",
        "              break\n",
        "\n",
        "  print (\"Downloaded {0} tweets, Saved to {1}\".format(tweetCount, fName))\n",
        "  return tweets\n"
      ],
      "execution_count": 0,
      "outputs": []
    },
    {
      "cell_type": "code",
      "metadata": {
        "id": "X0yJp5qb_dRV",
        "colab_type": "code",
        "outputId": "6453a816-6198-462a-976f-7e3c650e6982",
        "colab": {
          "base_uri": "https://localhost:8080/",
          "height": 358
        }
      },
      "source": [
        "tweet_on=tweet_collect(maxTweets=2000)"
      ],
      "execution_count": 0,
      "outputs": [
        {
          "output_type": "stream",
          "text": [
            "Downloaded 100 tweets\n",
            "Downloaded 200 tweets\n",
            "Downloaded 300 tweets\n",
            "Downloaded 400 tweets\n",
            "Downloaded 500 tweets\n",
            "Downloaded 600 tweets\n",
            "Downloaded 700 tweets\n",
            "Downloaded 800 tweets\n",
            "Downloaded 900 tweets\n",
            "Downloaded 1000 tweets\n",
            "Downloaded 1100 tweets\n",
            "Downloaded 1200 tweets\n",
            "Downloaded 1300 tweets\n",
            "Downloaded 1400 tweets\n",
            "Downloaded 1500 tweets\n",
            "Downloaded 1600 tweets\n",
            "Downloaded 1700 tweets\n",
            "Downloaded 1800 tweets\n",
            "Downloaded 1900 tweets\n",
            "Downloaded 2000 tweets\n",
            "Downloaded 2000 tweets, Saved to tweets.txt\n"
          ],
          "name": "stdout"
        }
      ]
    },
    {
      "cell_type": "code",
      "metadata": {
        "id": "TvQQtDXjAWcU",
        "colab_type": "code",
        "outputId": "c830ba3b-290d-4ea9-8d94-8c54f3a57225",
        "colab": {
          "base_uri": "https://localhost:8080/",
          "height": 53
        }
      },
      "source": [
        "tweet_on[1]"
      ],
      "execution_count": 0,
      "outputs": [
        {
          "output_type": "execute_result",
          "data": {
            "text/plain": [
              "Status(_api=<tweepy.api.API object at 0x7fc8889b1470>, _json={'created_at': 'Sun Mar 15 05:55:36 +0000 2020', 'id': 1239067705203777537, 'id_str': '1239067705203777537', 'text': 'RT @ThePrintIndia: MP Governor calls for floor test Monday after BJP claims Congress ‘pressuring’ rebels\\n\\nNeelam Pandey @NPDay reports\\n\\n#Th…', 'truncated': False, 'entities': {'hashtags': [], 'symbols': [], 'user_mentions': [{'screen_name': 'ThePrintIndia', 'name': 'ThePrint', 'id': 2930935453, 'id_str': '2930935453', 'indices': [3, 17]}, {'screen_name': 'NPDay', 'name': 'Neelam Pandey', 'id': 548128364, 'id_str': '548128364', 'indices': [120, 126]}], 'urls': []}, 'metadata': {'iso_language_code': 'en', 'result_type': 'recent'}, 'source': '<a href=\"https://mobile.twitter.com\" rel=\"nofollow\">Twitter Web App</a>', 'in_reply_to_status_id': None, 'in_reply_to_status_id_str': None, 'in_reply_to_user_id': None, 'in_reply_to_user_id_str': None, 'in_reply_to_screen_name': None, 'user': {'id': 806204521919762432, 'id_str': '806204521919762432', 'name': 'rabia', 'screen_name': 'rabiiik527', 'location': '', 'description': '', 'url': None, 'entities': {'description': {'urls': []}}, 'protected': False, 'followers_count': 104, 'friends_count': 222, 'listed_count': 0, 'created_at': 'Tue Dec 06 18:31:51 +0000 2016', 'favourites_count': 56063, 'utc_offset': None, 'time_zone': None, 'geo_enabled': False, 'verified': False, 'statuses_count': 33630, 'lang': None, 'contributors_enabled': False, 'is_translator': False, 'is_translation_enabled': False, 'profile_background_color': 'F5F8FA', 'profile_background_image_url': None, 'profile_background_image_url_https': None, 'profile_background_tile': False, 'profile_image_url': 'http://abs.twimg.com/sticky/default_profile_images/default_profile_normal.png', 'profile_image_url_https': 'https://abs.twimg.com/sticky/default_profile_images/default_profile_normal.png', 'profile_link_color': '1DA1F2', 'profile_sidebar_border_color': 'C0DEED', 'profile_sidebar_fill_color': 'DDEEF6', 'profile_text_color': '333333', 'profile_use_background_image': True, 'has_extended_profile': False, 'default_profile': True, 'default_profile_image': True, 'following': None, 'follow_request_sent': None, 'notifications': None, 'translator_type': 'none'}, 'geo': None, 'coordinates': None, 'place': None, 'contributors': None, 'retweeted_status': {'created_at': 'Sun Mar 15 05:20:00 +0000 2020', 'id': 1239058745507840000, 'id_str': '1239058745507840000', 'text': 'MP Governor calls for floor test Monday after BJP claims Congress ‘pressuring’ rebels\\n\\nNeelam Pandey @NPDay reports… https://t.co/WTrDuNqSwM', 'truncated': True, 'entities': {'hashtags': [], 'symbols': [], 'user_mentions': [{'screen_name': 'NPDay', 'name': 'Neelam Pandey', 'id': 548128364, 'id_str': '548128364', 'indices': [101, 107]}], 'urls': [{'url': 'https://t.co/WTrDuNqSwM', 'expanded_url': 'https://twitter.com/i/web/status/1239058745507840000', 'display_url': 'twitter.com/i/web/status/1…', 'indices': [117, 140]}]}, 'metadata': {'iso_language_code': 'en', 'result_type': 'recent'}, 'source': '<a href=\"https://about.twitter.com/products/tweetdeck\" rel=\"nofollow\">TweetDeck</a>', 'in_reply_to_status_id': None, 'in_reply_to_status_id_str': None, 'in_reply_to_user_id': None, 'in_reply_to_user_id_str': None, 'in_reply_to_screen_name': None, 'user': {'id': 2930935453, 'id_str': '2930935453', 'name': 'ThePrint', 'screen_name': 'ThePrintIndia', 'location': 'New Delhi, India', 'description': 'Substance of Print, Speed of Digital.', 'url': 'https://t.co/G7Kgr3k2wG', 'entities': {'url': {'urls': [{'url': 'https://t.co/G7Kgr3k2wG', 'expanded_url': 'http://theprint.in', 'display_url': 'theprint.in', 'indices': [0, 23]}]}, 'description': {'urls': []}}, 'protected': False, 'followers_count': 179647, 'friends_count': 87, 'listed_count': 610, 'created_at': 'Mon Dec 15 10:12:15 +0000 2014', 'favourites_count': 490, 'utc_offset': None, 'time_zone': None, 'geo_enabled': True, 'verified': True, 'statuses_count': 75192, 'lang': None, 'contributors_enabled': False, 'is_translator': False, 'is_translation_enabled': False, 'profile_background_color': '000000', 'profile_background_image_url': 'http://abs.twimg.com/images/themes/theme1/bg.png', 'profile_background_image_url_https': 'https://abs.twimg.com/images/themes/theme1/bg.png', 'profile_background_tile': False, 'profile_image_url': 'http://pbs.twimg.com/profile_images/973168269640134656/Ex11elFt_normal.jpg', 'profile_image_url_https': 'https://pbs.twimg.com/profile_images/973168269640134656/Ex11elFt_normal.jpg', 'profile_banner_url': 'https://pbs.twimg.com/profile_banners/2930935453/1584116202', 'profile_link_color': '89C9FA', 'profile_sidebar_border_color': '000000', 'profile_sidebar_fill_color': '000000', 'profile_text_color': '000000', 'profile_use_background_image': False, 'has_extended_profile': False, 'default_profile': False, 'default_profile_image': False, 'following': None, 'follow_request_sent': None, 'notifications': None, 'translator_type': 'none'}, 'geo': None, 'coordinates': None, 'place': None, 'contributors': None, 'is_quote_status': False, 'retweet_count': 2, 'favorite_count': 6, 'favorited': False, 'retweeted': False, 'possibly_sensitive': False, 'lang': 'en'}, 'is_quote_status': False, 'retweet_count': 2, 'favorite_count': 0, 'favorited': False, 'retweeted': False, 'lang': 'en'}, created_at=datetime.datetime(2020, 3, 15, 5, 55, 36), id=1239067705203777537, id_str='1239067705203777537', text='RT @ThePrintIndia: MP Governor calls for floor test Monday after BJP claims Congress ‘pressuring’ rebels\\n\\nNeelam Pandey @NPDay reports\\n\\n#Th…', truncated=False, entities={'hashtags': [], 'symbols': [], 'user_mentions': [{'screen_name': 'ThePrintIndia', 'name': 'ThePrint', 'id': 2930935453, 'id_str': '2930935453', 'indices': [3, 17]}, {'screen_name': 'NPDay', 'name': 'Neelam Pandey', 'id': 548128364, 'id_str': '548128364', 'indices': [120, 126]}], 'urls': []}, metadata={'iso_language_code': 'en', 'result_type': 'recent'}, source='Twitter Web App', source_url='https://mobile.twitter.com', in_reply_to_status_id=None, in_reply_to_status_id_str=None, in_reply_to_user_id=None, in_reply_to_user_id_str=None, in_reply_to_screen_name=None, author=User(_api=<tweepy.api.API object at 0x7fc8889b1470>, _json={'id': 806204521919762432, 'id_str': '806204521919762432', 'name': 'rabia', 'screen_name': 'rabiiik527', 'location': '', 'description': '', 'url': None, 'entities': {'description': {'urls': []}}, 'protected': False, 'followers_count': 104, 'friends_count': 222, 'listed_count': 0, 'created_at': 'Tue Dec 06 18:31:51 +0000 2016', 'favourites_count': 56063, 'utc_offset': None, 'time_zone': None, 'geo_enabled': False, 'verified': False, 'statuses_count': 33630, 'lang': None, 'contributors_enabled': False, 'is_translator': False, 'is_translation_enabled': False, 'profile_background_color': 'F5F8FA', 'profile_background_image_url': None, 'profile_background_image_url_https': None, 'profile_background_tile': False, 'profile_image_url': 'http://abs.twimg.com/sticky/default_profile_images/default_profile_normal.png', 'profile_image_url_https': 'https://abs.twimg.com/sticky/default_profile_images/default_profile_normal.png', 'profile_link_color': '1DA1F2', 'profile_sidebar_border_color': 'C0DEED', 'profile_sidebar_fill_color': 'DDEEF6', 'profile_text_color': '333333', 'profile_use_background_image': True, 'has_extended_profile': False, 'default_profile': True, 'default_profile_image': True, 'following': None, 'follow_request_sent': None, 'notifications': None, 'translator_type': 'none'}, id=806204521919762432, id_str='806204521919762432', name='rabia', screen_name='rabiiik527', location='', description='', url=None, entities={'description': {'urls': []}}, protected=False, followers_count=104, friends_count=222, listed_count=0, created_at=datetime.datetime(2016, 12, 6, 18, 31, 51), favourites_count=56063, utc_offset=None, time_zone=None, geo_enabled=False, verified=False, statuses_count=33630, lang=None, contributors_enabled=False, is_translator=False, is_translation_enabled=False, profile_background_color='F5F8FA', profile_background_image_url=None, profile_background_image_url_https=None, profile_background_tile=False, profile_image_url='http://abs.twimg.com/sticky/default_profile_images/default_profile_normal.png', profile_image_url_https='https://abs.twimg.com/sticky/default_profile_images/default_profile_normal.png', profile_link_color='1DA1F2', profile_sidebar_border_color='C0DEED', profile_sidebar_fill_color='DDEEF6', profile_text_color='333333', profile_use_background_image=True, has_extended_profile=False, default_profile=True, default_profile_image=True, following=False, follow_request_sent=None, notifications=None, translator_type='none'), user=User(_api=<tweepy.api.API object at 0x7fc8889b1470>, _json={'id': 806204521919762432, 'id_str': '806204521919762432', 'name': 'rabia', 'screen_name': 'rabiiik527', 'location': '', 'description': '', 'url': None, 'entities': {'description': {'urls': []}}, 'protected': False, 'followers_count': 104, 'friends_count': 222, 'listed_count': 0, 'created_at': 'Tue Dec 06 18:31:51 +0000 2016', 'favourites_count': 56063, 'utc_offset': None, 'time_zone': None, 'geo_enabled': False, 'verified': False, 'statuses_count': 33630, 'lang': None, 'contributors_enabled': False, 'is_translator': False, 'is_translation_enabled': False, 'profile_background_color': 'F5F8FA', 'profile_background_image_url': None, 'profile_background_image_url_https': None, 'profile_background_tile': False, 'profile_image_url': 'http://abs.twimg.com/sticky/default_profile_images/default_profile_normal.png', 'profile_image_url_https': 'https://abs.twimg.com/sticky/default_profile_images/default_profile_normal.png', 'profile_link_color': '1DA1F2', 'profile_sidebar_border_color': 'C0DEED', 'profile_sidebar_fill_color': 'DDEEF6', 'profile_text_color': '333333', 'profile_use_background_image': True, 'has_extended_profile': False, 'default_profile': True, 'default_profile_image': True, 'following': None, 'follow_request_sent': None, 'notifications': None, 'translator_type': 'none'}, id=806204521919762432, id_str='806204521919762432', name='rabia', screen_name='rabiiik527', location='', description='', url=None, entities={'description': {'urls': []}}, protected=False, followers_count=104, friends_count=222, listed_count=0, created_at=datetime.datetime(2016, 12, 6, 18, 31, 51), favourites_count=56063, utc_offset=None, time_zone=None, geo_enabled=False, verified=False, statuses_count=33630, lang=None, contributors_enabled=False, is_translator=False, is_translation_enabled=False, profile_background_color='F5F8FA', profile_background_image_url=None, profile_background_image_url_https=None, profile_background_tile=False, profile_image_url='http://abs.twimg.com/sticky/default_profile_images/default_profile_normal.png', profile_image_url_https='https://abs.twimg.com/sticky/default_profile_images/default_profile_normal.png', profile_link_color='1DA1F2', profile_sidebar_border_color='C0DEED', profile_sidebar_fill_color='DDEEF6', profile_text_color='333333', profile_use_background_image=True, has_extended_profile=False, default_profile=True, default_profile_image=True, following=False, follow_request_sent=None, notifications=None, translator_type='none'), geo=None, coordinates=None, place=None, contributors=None, retweeted_status=Status(_api=<tweepy.api.API object at 0x7fc8889b1470>, _json={'created_at': 'Sun Mar 15 05:20:00 +0000 2020', 'id': 1239058745507840000, 'id_str': '1239058745507840000', 'text': 'MP Governor calls for floor test Monday after BJP claims Congress ‘pressuring’ rebels\\n\\nNeelam Pandey @NPDay reports… https://t.co/WTrDuNqSwM', 'truncated': True, 'entities': {'hashtags': [], 'symbols': [], 'user_mentions': [{'screen_name': 'NPDay', 'name': 'Neelam Pandey', 'id': 548128364, 'id_str': '548128364', 'indices': [101, 107]}], 'urls': [{'url': 'https://t.co/WTrDuNqSwM', 'expanded_url': 'https://twitter.com/i/web/status/1239058745507840000', 'display_url': 'twitter.com/i/web/status/1…', 'indices': [117, 140]}]}, 'metadata': {'iso_language_code': 'en', 'result_type': 'recent'}, 'source': '<a href=\"https://about.twitter.com/products/tweetdeck\" rel=\"nofollow\">TweetDeck</a>', 'in_reply_to_status_id': None, 'in_reply_to_status_id_str': None, 'in_reply_to_user_id': None, 'in_reply_to_user_id_str': None, 'in_reply_to_screen_name': None, 'user': {'id': 2930935453, 'id_str': '2930935453', 'name': 'ThePrint', 'screen_name': 'ThePrintIndia', 'location': 'New Delhi, India', 'description': 'Substance of Print, Speed of Digital.', 'url': 'https://t.co/G7Kgr3k2wG', 'entities': {'url': {'urls': [{'url': 'https://t.co/G7Kgr3k2wG', 'expanded_url': 'http://theprint.in', 'display_url': 'theprint.in', 'indices': [0, 23]}]}, 'description': {'urls': []}}, 'protected': False, 'followers_count': 179647, 'friends_count': 87, 'listed_count': 610, 'created_at': 'Mon Dec 15 10:12:15 +0000 2014', 'favourites_count': 490, 'utc_offset': None, 'time_zone': None, 'geo_enabled': True, 'verified': True, 'statuses_count': 75192, 'lang': None, 'contributors_enabled': False, 'is_translator': False, 'is_translation_enabled': False, 'profile_background_color': '000000', 'profile_background_image_url': 'http://abs.twimg.com/images/themes/theme1/bg.png', 'profile_background_image_url_https': 'https://abs.twimg.com/images/themes/theme1/bg.png', 'profile_background_tile': False, 'profile_image_url': 'http://pbs.twimg.com/profile_images/973168269640134656/Ex11elFt_normal.jpg', 'profile_image_url_https': 'https://pbs.twimg.com/profile_images/973168269640134656/Ex11elFt_normal.jpg', 'profile_banner_url': 'https://pbs.twimg.com/profile_banners/2930935453/1584116202', 'profile_link_color': '89C9FA', 'profile_sidebar_border_color': '000000', 'profile_sidebar_fill_color': '000000', 'profile_text_color': '000000', 'profile_use_background_image': False, 'has_extended_profile': False, 'default_profile': False, 'default_profile_image': False, 'following': None, 'follow_request_sent': None, 'notifications': None, 'translator_type': 'none'}, 'geo': None, 'coordinates': None, 'place': None, 'contributors': None, 'is_quote_status': False, 'retweet_count': 2, 'favorite_count': 6, 'favorited': False, 'retweeted': False, 'possibly_sensitive': False, 'lang': 'en'}, created_at=datetime.datetime(2020, 3, 15, 5, 20), id=1239058745507840000, id_str='1239058745507840000', text='MP Governor calls for floor test Monday after BJP claims Congress ‘pressuring’ rebels\\n\\nNeelam Pandey @NPDay reports… https://t.co/WTrDuNqSwM', truncated=True, entities={'hashtags': [], 'symbols': [], 'user_mentions': [{'screen_name': 'NPDay', 'name': 'Neelam Pandey', 'id': 548128364, 'id_str': '548128364', 'indices': [101, 107]}], 'urls': [{'url': 'https://t.co/WTrDuNqSwM', 'expanded_url': 'https://twitter.com/i/web/status/1239058745507840000', 'display_url': 'twitter.com/i/web/status/1…', 'indices': [117, 140]}]}, metadata={'iso_language_code': 'en', 'result_type': 'recent'}, source='TweetDeck', source_url='https://about.twitter.com/products/tweetdeck', in_reply_to_status_id=None, in_reply_to_status_id_str=None, in_reply_to_user_id=None, in_reply_to_user_id_str=None, in_reply_to_screen_name=None, author=User(_api=<tweepy.api.API object at 0x7fc8889b1470>, _json={'id': 2930935453, 'id_str': '2930935453', 'name': 'ThePrint', 'screen_name': 'ThePrintIndia', 'location': 'New Delhi, India', 'description': 'Substance of Print, Speed of Digital.', 'url': 'https://t.co/G7Kgr3k2wG', 'entities': {'url': {'urls': [{'url': 'https://t.co/G7Kgr3k2wG', 'expanded_url': 'http://theprint.in', 'display_url': 'theprint.in', 'indices': [0, 23]}]}, 'description': {'urls': []}}, 'protected': False, 'followers_count': 179647, 'friends_count': 87, 'listed_count': 610, 'created_at': 'Mon Dec 15 10:12:15 +0000 2014', 'favourites_count': 490, 'utc_offset': None, 'time_zone': None, 'geo_enabled': True, 'verified': True, 'statuses_count': 75192, 'lang': None, 'contributors_enabled': False, 'is_translator': False, 'is_translation_enabled': False, 'profile_background_color': '000000', 'profile_background_image_url': 'http://abs.twimg.com/images/themes/theme1/bg.png', 'profile_background_image_url_https': 'https://abs.twimg.com/images/themes/theme1/bg.png', 'profile_background_tile': False, 'profile_image_url': 'http://pbs.twimg.com/profile_images/973168269640134656/Ex11elFt_normal.jpg', 'profile_image_url_https': 'https://pbs.twimg.com/profile_images/973168269640134656/Ex11elFt_normal.jpg', 'profile_banner_url': 'https://pbs.twimg.com/profile_banners/2930935453/1584116202', 'profile_link_color': '89C9FA', 'profile_sidebar_border_color': '000000', 'profile_sidebar_fill_color': '000000', 'profile_text_color': '000000', 'profile_use_background_image': False, 'has_extended_profile': False, 'default_profile': False, 'default_profile_image': False, 'following': None, 'follow_request_sent': None, 'notifications': None, 'translator_type': 'none'}, id=2930935453, id_str='2930935453', name='ThePrint', screen_name='ThePrintIndia', location='New Delhi, India', description='Substance of Print, Speed of Digital.', url='https://t.co/G7Kgr3k2wG', entities={'url': {'urls': [{'url': 'https://t.co/G7Kgr3k2wG', 'expanded_url': 'http://theprint.in', 'display_url': 'theprint.in', 'indices': [0, 23]}]}, 'description': {'urls': []}}, protected=False, followers_count=179647, friends_count=87, listed_count=610, created_at=datetime.datetime(2014, 12, 15, 10, 12, 15), favourites_count=490, utc_offset=None, time_zone=None, geo_enabled=True, verified=True, statuses_count=75192, lang=None, contributors_enabled=False, is_translator=False, is_translation_enabled=False, profile_background_color='000000', profile_background_image_url='http://abs.twimg.com/images/themes/theme1/bg.png', profile_background_image_url_https='https://abs.twimg.com/images/themes/theme1/bg.png', profile_background_tile=False, profile_image_url='http://pbs.twimg.com/profile_images/973168269640134656/Ex11elFt_normal.jpg', profile_image_url_https='https://pbs.twimg.com/profile_images/973168269640134656/Ex11elFt_normal.jpg', profile_banner_url='https://pbs.twimg.com/profile_banners/2930935453/1584116202', profile_link_color='89C9FA', profile_sidebar_border_color='000000', profile_sidebar_fill_color='000000', profile_text_color='000000', profile_use_background_image=False, has_extended_profile=False, default_profile=False, default_profile_image=False, following=False, follow_request_sent=None, notifications=None, translator_type='none'), user=User(_api=<tweepy.api.API object at 0x7fc8889b1470>, _json={'id': 2930935453, 'id_str': '2930935453', 'name': 'ThePrint', 'screen_name': 'ThePrintIndia', 'location': 'New Delhi, India', 'description': 'Substance of Print, Speed of Digital.', 'url': 'https://t.co/G7Kgr3k2wG', 'entities': {'url': {'urls': [{'url': 'https://t.co/G7Kgr3k2wG', 'expanded_url': 'http://theprint.in', 'display_url': 'theprint.in', 'indices': [0, 23]}]}, 'description': {'urls': []}}, 'protected': False, 'followers_count': 179647, 'friends_count': 87, 'listed_count': 610, 'created_at': 'Mon Dec 15 10:12:15 +0000 2014', 'favourites_count': 490, 'utc_offset': None, 'time_zone': None, 'geo_enabled': True, 'verified': True, 'statuses_count': 75192, 'lang': None, 'contributors_enabled': False, 'is_translator': False, 'is_translation_enabled': False, 'profile_background_color': '000000', 'profile_background_image_url': 'http://abs.twimg.com/images/themes/theme1/bg.png', 'profile_background_image_url_https': 'https://abs.twimg.com/images/themes/theme1/bg.png', 'profile_background_tile': False, 'profile_image_url': 'http://pbs.twimg.com/profile_images/973168269640134656/Ex11elFt_normal.jpg', 'profile_image_url_https': 'https://pbs.twimg.com/profile_images/973168269640134656/Ex11elFt_normal.jpg', 'profile_banner_url': 'https://pbs.twimg.com/profile_banners/2930935453/1584116202', 'profile_link_color': '89C9FA', 'profile_sidebar_border_color': '000000', 'profile_sidebar_fill_color': '000000', 'profile_text_color': '000000', 'profile_use_background_image': False, 'has_extended_profile': False, 'default_profile': False, 'default_profile_image': False, 'following': None, 'follow_request_sent': None, 'notifications': None, 'translator_type': 'none'}, id=2930935453, id_str='2930935453', name='ThePrint', screen_name='ThePrintIndia', location='New Delhi, India', description='Substance of Print, Speed of Digital.', url='https://t.co/G7Kgr3k2wG', entities={'url': {'urls': [{'url': 'https://t.co/G7Kgr3k2wG', 'expanded_url': 'http://theprint.in', 'display_url': 'theprint.in', 'indices': [0, 23]}]}, 'description': {'urls': []}}, protected=False, followers_count=179647, friends_count=87, listed_count=610, created_at=datetime.datetime(2014, 12, 15, 10, 12, 15), favourites_count=490, utc_offset=None, time_zone=None, geo_enabled=True, verified=True, statuses_count=75192, lang=None, contributors_enabled=False, is_translator=False, is_translation_enabled=False, profile_background_color='000000', profile_background_image_url='http://abs.twimg.com/images/themes/theme1/bg.png', profile_background_image_url_https='https://abs.twimg.com/images/themes/theme1/bg.png', profile_background_tile=False, profile_image_url='http://pbs.twimg.com/profile_images/973168269640134656/Ex11elFt_normal.jpg', profile_image_url_https='https://pbs.twimg.com/profile_images/973168269640134656/Ex11elFt_normal.jpg', profile_banner_url='https://pbs.twimg.com/profile_banners/2930935453/1584116202', profile_link_color='89C9FA', profile_sidebar_border_color='000000', profile_sidebar_fill_color='000000', profile_text_color='000000', profile_use_background_image=False, has_extended_profile=False, default_profile=False, default_profile_image=False, following=False, follow_request_sent=None, notifications=None, translator_type='none'), geo=None, coordinates=None, place=None, contributors=None, is_quote_status=False, retweet_count=2, favorite_count=6, favorited=False, retweeted=False, possibly_sensitive=False, lang='en'), is_quote_status=False, retweet_count=2, favorite_count=0, favorited=False, retweeted=False, lang='en')"
            ]
          },
          "metadata": {
            "tags": []
          },
          "execution_count": 9
        }
      ]
    },
    {
      "cell_type": "code",
      "metadata": {
        "id": "PRYUa-T3A_1t",
        "colab_type": "code",
        "colab": {}
      },
      "source": [
        "tweet_analyzer=TweetAnalyzer()"
      ],
      "execution_count": 0,
      "outputs": []
    },
    {
      "cell_type": "code",
      "metadata": {
        "id": "c9KUNvwaArU9",
        "colab_type": "code",
        "colab": {}
      },
      "source": [
        "import pandas as pd\n",
        "df = tweet_analyzer.tweets_to_data_frame(tweet_on)\n"
      ],
      "execution_count": 0,
      "outputs": []
    },
    {
      "cell_type": "code",
      "metadata": {
        "id": "mZJwrD5tBv0V",
        "colab_type": "code",
        "outputId": "4e9a9951-4eeb-4712-cec6-5c499cd3d0a6",
        "colab": {
          "base_uri": "https://localhost:8080/",
          "height": 191
        }
      },
      "source": [
        "df.head()"
      ],
      "execution_count": 0,
      "outputs": [
        {
          "output_type": "execute_result",
          "data": {
            "text/html": [
              "<div>\n",
              "<style scoped>\n",
              "    .dataframe tbody tr th:only-of-type {\n",
              "        vertical-align: middle;\n",
              "    }\n",
              "\n",
              "    .dataframe tbody tr th {\n",
              "        vertical-align: top;\n",
              "    }\n",
              "\n",
              "    .dataframe thead th {\n",
              "        text-align: right;\n",
              "    }\n",
              "</style>\n",
              "<table border=\"1\" class=\"dataframe\">\n",
              "  <thead>\n",
              "    <tr style=\"text-align: right;\">\n",
              "      <th></th>\n",
              "      <th>tweets</th>\n",
              "      <th>id</th>\n",
              "      <th>date</th>\n",
              "    </tr>\n",
              "  </thead>\n",
              "  <tbody>\n",
              "    <tr>\n",
              "      <th>0</th>\n",
              "      <td>As a EHS, expert, some suggestions.\\nUse room ...</td>\n",
              "      <td>1239067706638225408</td>\n",
              "      <td>2020-03-15 05:55:36</td>\n",
              "    </tr>\n",
              "    <tr>\n",
              "      <th>1</th>\n",
              "      <td>RT @ThePrintIndia: MP Governor calls for floor...</td>\n",
              "      <td>1239067705203777537</td>\n",
              "      <td>2020-03-15 05:55:36</td>\n",
              "    </tr>\n",
              "    <tr>\n",
              "      <th>2</th>\n",
              "      <td>RT @OpIndia_com: As wife of Spain’s PM tests p...</td>\n",
              "      <td>1239067704721469441</td>\n",
              "      <td>2020-03-15 05:55:36</td>\n",
              "    </tr>\n",
              "    <tr>\n",
              "      <th>3</th>\n",
              "      <td>RT @AMISHDEVGAN: Shocked to see former judge i...</td>\n",
              "      <td>1239067704524288001</td>\n",
              "      <td>2020-03-15 05:55:36</td>\n",
              "    </tr>\n",
              "    <tr>\n",
              "      <th>4</th>\n",
              "      <td>Corona Virus has proved once again, how much s...</td>\n",
              "      <td>1239067704478195712</td>\n",
              "      <td>2020-03-15 05:55:36</td>\n",
              "    </tr>\n",
              "  </tbody>\n",
              "</table>\n",
              "</div>"
            ],
            "text/plain": [
              "                                              tweets  ...                date\n",
              "0  As a EHS, expert, some suggestions.\\nUse room ...  ... 2020-03-15 05:55:36\n",
              "1  RT @ThePrintIndia: MP Governor calls for floor...  ... 2020-03-15 05:55:36\n",
              "2  RT @OpIndia_com: As wife of Spain’s PM tests p...  ... 2020-03-15 05:55:36\n",
              "3  RT @AMISHDEVGAN: Shocked to see former judge i...  ... 2020-03-15 05:55:36\n",
              "4  Corona Virus has proved once again, how much s...  ... 2020-03-15 05:55:36\n",
              "\n",
              "[5 rows x 3 columns]"
            ]
          },
          "metadata": {
            "tags": []
          },
          "execution_count": 12
        }
      ]
    },
    {
      "cell_type": "code",
      "metadata": {
        "id": "EHM6kfqMB5bU",
        "colab_type": "code",
        "outputId": "74624f0e-52eb-4f84-f9d5-1d38fb9c0e4d",
        "colab": {
          "base_uri": "https://localhost:8080/",
          "height": 191
        }
      },
      "source": [
        "df.drop(['id','date'],axis=1,inplace=True)\n",
        "df.head()"
      ],
      "execution_count": 0,
      "outputs": [
        {
          "output_type": "execute_result",
          "data": {
            "text/html": [
              "<div>\n",
              "<style scoped>\n",
              "    .dataframe tbody tr th:only-of-type {\n",
              "        vertical-align: middle;\n",
              "    }\n",
              "\n",
              "    .dataframe tbody tr th {\n",
              "        vertical-align: top;\n",
              "    }\n",
              "\n",
              "    .dataframe thead th {\n",
              "        text-align: right;\n",
              "    }\n",
              "</style>\n",
              "<table border=\"1\" class=\"dataframe\">\n",
              "  <thead>\n",
              "    <tr style=\"text-align: right;\">\n",
              "      <th></th>\n",
              "      <th>tweets</th>\n",
              "    </tr>\n",
              "  </thead>\n",
              "  <tbody>\n",
              "    <tr>\n",
              "      <th>0</th>\n",
              "      <td>As a EHS, expert, some suggestions.\\nUse room ...</td>\n",
              "    </tr>\n",
              "    <tr>\n",
              "      <th>1</th>\n",
              "      <td>RT @ThePrintIndia: MP Governor calls for floor...</td>\n",
              "    </tr>\n",
              "    <tr>\n",
              "      <th>2</th>\n",
              "      <td>RT @OpIndia_com: As wife of Spain’s PM tests p...</td>\n",
              "    </tr>\n",
              "    <tr>\n",
              "      <th>3</th>\n",
              "      <td>RT @AMISHDEVGAN: Shocked to see former judge i...</td>\n",
              "    </tr>\n",
              "    <tr>\n",
              "      <th>4</th>\n",
              "      <td>Corona Virus has proved once again, how much s...</td>\n",
              "    </tr>\n",
              "  </tbody>\n",
              "</table>\n",
              "</div>"
            ],
            "text/plain": [
              "                                              tweets\n",
              "0  As a EHS, expert, some suggestions.\\nUse room ...\n",
              "1  RT @ThePrintIndia: MP Governor calls for floor...\n",
              "2  RT @OpIndia_com: As wife of Spain’s PM tests p...\n",
              "3  RT @AMISHDEVGAN: Shocked to see former judge i...\n",
              "4  Corona Virus has proved once again, how much s..."
            ]
          },
          "metadata": {
            "tags": []
          },
          "execution_count": 13
        }
      ]
    },
    {
      "cell_type": "code",
      "metadata": {
        "id": "C2LfX5hlCL-l",
        "colab_type": "code",
        "colab": {}
      },
      "source": [
        "df.to_csv('live_tweet_2k.csv')"
      ],
      "execution_count": 0,
      "outputs": []
    },
    {
      "cell_type": "code",
      "metadata": {
        "id": "ARnafbyLCSYE",
        "colab_type": "code",
        "colab": {}
      },
      "source": [
        ""
      ],
      "execution_count": 0,
      "outputs": []
    }
  ]
}