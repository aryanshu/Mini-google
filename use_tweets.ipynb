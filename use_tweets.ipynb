{
  "nbformat": 4,
  "nbformat_minor": 0,
  "metadata": {
    "colab": {
      "name": "use_tweets.ipynb",
      "provenance": [],
      "collapsed_sections": [],
      "include_colab_link": true
    },
    "kernelspec": {
      "name": "python3",
      "display_name": "Python 3"
    },
    "accelerator": "GPU"
  },
  "cells": [
    {
      "cell_type": "markdown",
      "metadata": {
        "id": "view-in-github",
        "colab_type": "text"
      },
      "source": [
        "<a href=\"https://colab.research.google.com/github/aryanshu/Mini-google/blob/master/use_tweets.ipynb\" target=\"_parent\"><img src=\"https://colab.research.google.com/assets/colab-badge.svg\" alt=\"Open In Colab\"/></a>"
      ]
    },
    {
      "cell_type": "code",
      "metadata": {
        "id": "9jl0Rlj0rVj-",
        "colab_type": "code",
        "outputId": "cf6a796d-1e04-496d-82db-ebf21a50652c",
        "colab": {
          "base_uri": "https://localhost:8080/",
          "height": 34
        }
      },
      "source": [
        "from google.colab import drive\n",
        "drive.mount('/gdrive')"
      ],
      "execution_count": 0,
      "outputs": [
        {
          "output_type": "stream",
          "text": [
            "Drive already mounted at /gdrive; to attempt to forcibly remount, call drive.mount(\"/gdrive\", force_remount=True).\n"
          ],
          "name": "stdout"
        }
      ]
    },
    {
      "cell_type": "code",
      "metadata": {
        "id": "dI7HU0WnrcFi",
        "colab_type": "code",
        "outputId": "a1e461eb-b58b-4757-8e6d-1c55185a765e",
        "colab": {
          "base_uri": "https://localhost:8080/",
          "height": 34
        }
      },
      "source": [
        "cd \"/gdrive/My Drive/Colab Notebooks\""
      ],
      "execution_count": 0,
      "outputs": [
        {
          "output_type": "stream",
          "text": [
            "/gdrive/My Drive/Colab Notebooks\n"
          ],
          "name": "stdout"
        }
      ]
    },
    {
      "cell_type": "code",
      "metadata": {
        "id": "bHGdMZG2rd-O",
        "colab_type": "code",
        "colab": {}
      },
      "source": [
        "import pandas as pd"
      ],
      "execution_count": 0,
      "outputs": []
    },
    {
      "cell_type": "code",
      "metadata": {
        "id": "c02kIRc0F85E",
        "colab_type": "code",
        "colab": {}
      },
      "source": [
        "import numpy as np\n",
        "import tensorflow as tf\n",
        "import tensorflow_hub as hub\n",
        "import nltk\n",
        "\n",
        "import re\n",
        "\n",
        "import json"
      ],
      "execution_count": 0,
      "outputs": []
    },
    {
      "cell_type": "code",
      "metadata": {
        "id": "Rv8F06iPHk87",
        "colab_type": "code",
        "colab": {}
      },
      "source": [
        "module_url = \"https://tfhub.dev/google/universal-sentence-encoder-large/3\""
      ],
      "execution_count": 0,
      "outputs": []
    },
    {
      "cell_type": "code",
      "metadata": {
        "id": "HJ-BCNiMHoy2",
        "colab_type": "code",
        "colab": {}
      },
      "source": [
        "embed = hub.Module(module_url)"
      ],
      "execution_count": 0,
      "outputs": []
    },
    {
      "cell_type": "code",
      "metadata": {
        "id": "uggaj48ZHrVt",
        "colab_type": "code",
        "colab": {}
      },
      "source": [
        "\n",
        "def get_features(texts):\n",
        "    if type(texts) is str:\n",
        "        texts = [texts]\n",
        "    with tf.Session() as sess:\n",
        "        sess.run([tf.global_variables_initializer(), tf.tables_initializer()])\n",
        "        return sess.run(embed(texts))"
      ],
      "execution_count": 0,
      "outputs": []
    },
    {
      "cell_type": "code",
      "metadata": {
        "id": "07IuulQTHxN3",
        "colab_type": "code",
        "outputId": "c444fa1c-a341-4389-e430-3cdad4a41af8",
        "colab": {
          "base_uri": "https://localhost:8080/",
          "height": 204
        }
      },
      "source": [
        "df=pd.read_csv('live_tweet.csv')\n",
        "df.head()"
      ],
      "execution_count": 0,
      "outputs": [
        {
          "output_type": "execute_result",
          "data": {
            "text/html": [
              "<div>\n",
              "<style scoped>\n",
              "    .dataframe tbody tr th:only-of-type {\n",
              "        vertical-align: middle;\n",
              "    }\n",
              "\n",
              "    .dataframe tbody tr th {\n",
              "        vertical-align: top;\n",
              "    }\n",
              "\n",
              "    .dataframe thead th {\n",
              "        text-align: right;\n",
              "    }\n",
              "</style>\n",
              "<table border=\"1\" class=\"dataframe\">\n",
              "  <thead>\n",
              "    <tr style=\"text-align: right;\">\n",
              "      <th></th>\n",
              "      <th>Unnamed: 0</th>\n",
              "      <th>tweets</th>\n",
              "    </tr>\n",
              "  </thead>\n",
              "  <tbody>\n",
              "    <tr>\n",
              "      <th>0</th>\n",
              "      <td>0</td>\n",
              "      <td>RT @AkshayMarathe: Manoj Tiwari displaying his...</td>\n",
              "    </tr>\n",
              "    <tr>\n",
              "      <th>1</th>\n",
              "      <td>1</td>\n",
              "      <td>RT @kritimakhija: @CoachAshuKhanna @LinkedIn @...</td>\n",
              "    </tr>\n",
              "    <tr>\n",
              "      <th>2</th>\n",
              "      <td>2</td>\n",
              "      <td>RT @arjandewagt: Note Share Use\\n\\n #StopCOVID19</td>\n",
              "    </tr>\n",
              "    <tr>\n",
              "      <th>3</th>\n",
              "      <td>3</td>\n",
              "      <td>RT @nehabatham03: This is wht happens when you...</td>\n",
              "    </tr>\n",
              "    <tr>\n",
              "      <th>4</th>\n",
              "      <td>4</td>\n",
              "      <td>RT @sardesairajdeep: Keep these staggering num...</td>\n",
              "    </tr>\n",
              "  </tbody>\n",
              "</table>\n",
              "</div>"
            ],
            "text/plain": [
              "   Unnamed: 0                                             tweets\n",
              "0           0  RT @AkshayMarathe: Manoj Tiwari displaying his...\n",
              "1           1  RT @kritimakhija: @CoachAshuKhanna @LinkedIn @...\n",
              "2           2   RT @arjandewagt: Note Share Use\\n\\n #StopCOVID19\n",
              "3           3  RT @nehabatham03: This is wht happens when you...\n",
              "4           4  RT @sardesairajdeep: Keep these staggering num..."
            ]
          },
          "metadata": {
            "tags": []
          },
          "execution_count": 15
        }
      ]
    },
    {
      "cell_type": "code",
      "metadata": {
        "id": "SzBBaChzDa_G",
        "colab_type": "code",
        "colab": {}
      },
      "source": [
        "query='Corona'"
      ],
      "execution_count": 0,
      "outputs": []
    },
    {
      "cell_type": "code",
      "metadata": {
        "id": "17EIcEvuH_-d",
        "colab_type": "code",
        "outputId": "47a47211-6c1d-4978-a3db-064b36238dd1",
        "colab": {
          "base_uri": "https://localhost:8080/",
          "height": 204
        }
      },
      "source": [
        "df['query']=query\n",
        "df.head()"
      ],
      "execution_count": 0,
      "outputs": [
        {
          "output_type": "execute_result",
          "data": {
            "text/html": [
              "<div>\n",
              "<style scoped>\n",
              "    .dataframe tbody tr th:only-of-type {\n",
              "        vertical-align: middle;\n",
              "    }\n",
              "\n",
              "    .dataframe tbody tr th {\n",
              "        vertical-align: top;\n",
              "    }\n",
              "\n",
              "    .dataframe thead th {\n",
              "        text-align: right;\n",
              "    }\n",
              "</style>\n",
              "<table border=\"1\" class=\"dataframe\">\n",
              "  <thead>\n",
              "    <tr style=\"text-align: right;\">\n",
              "      <th></th>\n",
              "      <th>Unnamed: 0</th>\n",
              "      <th>tweets</th>\n",
              "      <th>query</th>\n",
              "    </tr>\n",
              "  </thead>\n",
              "  <tbody>\n",
              "    <tr>\n",
              "      <th>0</th>\n",
              "      <td>0</td>\n",
              "      <td>RT @AkshayMarathe: Manoj Tiwari displaying his...</td>\n",
              "      <td>Corona</td>\n",
              "    </tr>\n",
              "    <tr>\n",
              "      <th>1</th>\n",
              "      <td>1</td>\n",
              "      <td>RT @kritimakhija: @CoachAshuKhanna @LinkedIn @...</td>\n",
              "      <td>Corona</td>\n",
              "    </tr>\n",
              "    <tr>\n",
              "      <th>2</th>\n",
              "      <td>2</td>\n",
              "      <td>RT @arjandewagt: Note Share Use\\n\\n #StopCOVID19</td>\n",
              "      <td>Corona</td>\n",
              "    </tr>\n",
              "    <tr>\n",
              "      <th>3</th>\n",
              "      <td>3</td>\n",
              "      <td>RT @nehabatham03: This is wht happens when you...</td>\n",
              "      <td>Corona</td>\n",
              "    </tr>\n",
              "    <tr>\n",
              "      <th>4</th>\n",
              "      <td>4</td>\n",
              "      <td>RT @sardesairajdeep: Keep these staggering num...</td>\n",
              "      <td>Corona</td>\n",
              "    </tr>\n",
              "  </tbody>\n",
              "</table>\n",
              "</div>"
            ],
            "text/plain": [
              "   Unnamed: 0                                             tweets   query\n",
              "0           0  RT @AkshayMarathe: Manoj Tiwari displaying his...  Corona\n",
              "1           1  RT @kritimakhija: @CoachAshuKhanna @LinkedIn @...  Corona\n",
              "2           2   RT @arjandewagt: Note Share Use\\n\\n #StopCOVID19  Corona\n",
              "3           3  RT @nehabatham03: This is wht happens when you...  Corona\n",
              "4           4  RT @sardesairajdeep: Keep these staggering num...  Corona"
            ]
          },
          "metadata": {
            "tags": []
          },
          "execution_count": 17
        }
      ]
    },
    {
      "cell_type": "code",
      "metadata": {
        "id": "uKv10myrJa4g",
        "colab_type": "code",
        "outputId": "ae086379-60d0-4ad0-cd9d-11d4a04732d8",
        "colab": {
          "base_uri": "https://localhost:8080/",
          "height": 204
        }
      },
      "source": [
        "df.head()"
      ],
      "execution_count": 0,
      "outputs": [
        {
          "output_type": "execute_result",
          "data": {
            "text/html": [
              "<div>\n",
              "<style scoped>\n",
              "    .dataframe tbody tr th:only-of-type {\n",
              "        vertical-align: middle;\n",
              "    }\n",
              "\n",
              "    .dataframe tbody tr th {\n",
              "        vertical-align: top;\n",
              "    }\n",
              "\n",
              "    .dataframe thead th {\n",
              "        text-align: right;\n",
              "    }\n",
              "</style>\n",
              "<table border=\"1\" class=\"dataframe\">\n",
              "  <thead>\n",
              "    <tr style=\"text-align: right;\">\n",
              "      <th></th>\n",
              "      <th>Unnamed: 0</th>\n",
              "      <th>index</th>\n",
              "      <th>context</th>\n",
              "      <th>label</th>\n",
              "      <th>question</th>\n",
              "    </tr>\n",
              "  </thead>\n",
              "  <tbody>\n",
              "    <tr>\n",
              "      <th>0</th>\n",
              "      <td>3689</td>\n",
              "      <td>3689</td>\n",
              "      <td>The central government estimates that over 7,0...</td>\n",
              "      <td>1</td>\n",
              "      <td>What are the estimations of how many schoolroo...</td>\n",
              "    </tr>\n",
              "    <tr>\n",
              "      <th>1</th>\n",
              "      <td>30295</td>\n",
              "      <td>30295</td>\n",
              "      <td>In the human digestive system, food enters the...</td>\n",
              "      <td>1</td>\n",
              "      <td>What is in saliva that starts to digest the st...</td>\n",
              "    </tr>\n",
              "    <tr>\n",
              "      <th>2</th>\n",
              "      <td>53545</td>\n",
              "      <td>13545</td>\n",
              "      <td>Orientalist scholars of the 18th century like ...</td>\n",
              "      <td>0</td>\n",
              "      <td>What legal decision resulted in movie studios ...</td>\n",
              "    </tr>\n",
              "    <tr>\n",
              "      <th>3</th>\n",
              "      <td>55103</td>\n",
              "      <td>15103</td>\n",
              "      <td>Influential gospel/R&amp;B-influenced Aly-us relea...</td>\n",
              "      <td>0</td>\n",
              "      <td>What year was Capuano elected?</td>\n",
              "    </tr>\n",
              "    <tr>\n",
              "      <th>4</th>\n",
              "      <td>37286</td>\n",
              "      <td>37286</td>\n",
              "      <td>Gladstone returned to power after the 1892 gen...</td>\n",
              "      <td>1</td>\n",
              "      <td>What year did Gadstone return to power?</td>\n",
              "    </tr>\n",
              "  </tbody>\n",
              "</table>\n",
              "</div>"
            ],
            "text/plain": [
              "   Unnamed: 0  index  ... label                                           question\n",
              "0        3689   3689  ...     1  What are the estimations of how many schoolroo...\n",
              "1       30295  30295  ...     1  What is in saliva that starts to digest the st...\n",
              "2       53545  13545  ...     0  What legal decision resulted in movie studios ...\n",
              "3       55103  15103  ...     0                     What year was Capuano elected?\n",
              "4       37286  37286  ...     1            What year did Gadstone return to power?\n",
              "\n",
              "[5 rows x 5 columns]"
            ]
          },
          "metadata": {
            "tags": []
          },
          "execution_count": 12
        }
      ]
    },
    {
      "cell_type": "code",
      "metadata": {
        "id": "CQgCuxaTILU1",
        "colab_type": "code",
        "colab": {}
      },
      "source": [
        "def cosine_similarity(v1, v2):\n",
        "    mag1 = np.linalg.norm(v1)\n",
        "    mag2 = np.linalg.norm(v2)\n",
        "    if (not mag1) or (not mag2):\n",
        "        return 0\n",
        "    return np.dot(v1, v2) / (mag1 * mag2)"
      ],
      "execution_count": 0,
      "outputs": []
    },
    {
      "cell_type": "code",
      "metadata": {
        "id": "2zi_wpvkJAw-",
        "colab_type": "code",
        "colab": {}
      },
      "source": [
        "def test_similiarity(text1, text2):\n",
        "    vec1 = get_features(text1)[0]\n",
        "    vec2 = get_features(text2)[0]\n",
        "    #vec1=tf.\n",
        "    print(vec1.shape)\n",
        "    return cosine_similarity(vec1, vec2)"
      ],
      "execution_count": 0,
      "outputs": []
    },
    {
      "cell_type": "code",
      "metadata": {
        "id": "u2EFf8CPJBzV",
        "colab_type": "code",
        "outputId": "8f37fdf6-8a11-4bf3-a992-6eea02610483",
        "colab": {
          "base_uri": "https://localhost:8080/",
          "height": 1000
        }
      },
      "source": [
        "labelled=[]\n",
        "for i in range(100):\n",
        "  r=test_similiarity(df['query'][i],df['tweets'][i])\n",
        "  labelled.append(r)\n",
        "\n",
        "labelled"
      ],
      "execution_count": 0,
      "outputs": [
        {
          "output_type": "stream",
          "text": [
            "INFO:tensorflow:Saver not created because there are no variables in the graph to restore\n"
          ],
          "name": "stdout"
        },
        {
          "output_type": "stream",
          "text": [
            "INFO:tensorflow:Saver not created because there are no variables in the graph to restore\n"
          ],
          "name": "stderr"
        },
        {
          "output_type": "stream",
          "text": [
            "INFO:tensorflow:Saver not created because there are no variables in the graph to restore\n"
          ],
          "name": "stdout"
        },
        {
          "output_type": "stream",
          "text": [
            "INFO:tensorflow:Saver not created because there are no variables in the graph to restore\n"
          ],
          "name": "stderr"
        },
        {
          "output_type": "stream",
          "text": [
            "(512,)\n",
            "INFO:tensorflow:Saver not created because there are no variables in the graph to restore\n"
          ],
          "name": "stdout"
        },
        {
          "output_type": "stream",
          "text": [
            "INFO:tensorflow:Saver not created because there are no variables in the graph to restore\n"
          ],
          "name": "stderr"
        },
        {
          "output_type": "stream",
          "text": [
            "INFO:tensorflow:Saver not created because there are no variables in the graph to restore\n"
          ],
          "name": "stdout"
        },
        {
          "output_type": "stream",
          "text": [
            "INFO:tensorflow:Saver not created because there are no variables in the graph to restore\n"
          ],
          "name": "stderr"
        },
        {
          "output_type": "stream",
          "text": [
            "(512,)\n",
            "INFO:tensorflow:Saver not created because there are no variables in the graph to restore\n"
          ],
          "name": "stdout"
        },
        {
          "output_type": "stream",
          "text": [
            "INFO:tensorflow:Saver not created because there are no variables in the graph to restore\n"
          ],
          "name": "stderr"
        },
        {
          "output_type": "stream",
          "text": [
            "INFO:tensorflow:Saver not created because there are no variables in the graph to restore\n"
          ],
          "name": "stdout"
        },
        {
          "output_type": "stream",
          "text": [
            "INFO:tensorflow:Saver not created because there are no variables in the graph to restore\n"
          ],
          "name": "stderr"
        },
        {
          "output_type": "stream",
          "text": [
            "(512,)\n",
            "INFO:tensorflow:Saver not created because there are no variables in the graph to restore\n"
          ],
          "name": "stdout"
        },
        {
          "output_type": "stream",
          "text": [
            "INFO:tensorflow:Saver not created because there are no variables in the graph to restore\n"
          ],
          "name": "stderr"
        },
        {
          "output_type": "stream",
          "text": [
            "INFO:tensorflow:Saver not created because there are no variables in the graph to restore\n"
          ],
          "name": "stdout"
        },
        {
          "output_type": "stream",
          "text": [
            "INFO:tensorflow:Saver not created because there are no variables in the graph to restore\n"
          ],
          "name": "stderr"
        },
        {
          "output_type": "stream",
          "text": [
            "(512,)\n",
            "INFO:tensorflow:Saver not created because there are no variables in the graph to restore\n"
          ],
          "name": "stdout"
        },
        {
          "output_type": "stream",
          "text": [
            "INFO:tensorflow:Saver not created because there are no variables in the graph to restore\n"
          ],
          "name": "stderr"
        },
        {
          "output_type": "stream",
          "text": [
            "INFO:tensorflow:Saver not created because there are no variables in the graph to restore\n"
          ],
          "name": "stdout"
        },
        {
          "output_type": "stream",
          "text": [
            "INFO:tensorflow:Saver not created because there are no variables in the graph to restore\n"
          ],
          "name": "stderr"
        },
        {
          "output_type": "stream",
          "text": [
            "(512,)\n",
            "INFO:tensorflow:Saver not created because there are no variables in the graph to restore\n"
          ],
          "name": "stdout"
        },
        {
          "output_type": "stream",
          "text": [
            "INFO:tensorflow:Saver not created because there are no variables in the graph to restore\n"
          ],
          "name": "stderr"
        },
        {
          "output_type": "stream",
          "text": [
            "INFO:tensorflow:Saver not created because there are no variables in the graph to restore\n"
          ],
          "name": "stdout"
        },
        {
          "output_type": "stream",
          "text": [
            "INFO:tensorflow:Saver not created because there are no variables in the graph to restore\n"
          ],
          "name": "stderr"
        },
        {
          "output_type": "stream",
          "text": [
            "(512,)\n",
            "INFO:tensorflow:Saver not created because there are no variables in the graph to restore\n"
          ],
          "name": "stdout"
        },
        {
          "output_type": "stream",
          "text": [
            "INFO:tensorflow:Saver not created because there are no variables in the graph to restore\n"
          ],
          "name": "stderr"
        },
        {
          "output_type": "stream",
          "text": [
            "INFO:tensorflow:Saver not created because there are no variables in the graph to restore\n"
          ],
          "name": "stdout"
        },
        {
          "output_type": "stream",
          "text": [
            "INFO:tensorflow:Saver not created because there are no variables in the graph to restore\n"
          ],
          "name": "stderr"
        },
        {
          "output_type": "stream",
          "text": [
            "(512,)\n",
            "INFO:tensorflow:Saver not created because there are no variables in the graph to restore\n"
          ],
          "name": "stdout"
        },
        {
          "output_type": "stream",
          "text": [
            "INFO:tensorflow:Saver not created because there are no variables in the graph to restore\n"
          ],
          "name": "stderr"
        },
        {
          "output_type": "stream",
          "text": [
            "INFO:tensorflow:Saver not created because there are no variables in the graph to restore\n"
          ],
          "name": "stdout"
        },
        {
          "output_type": "stream",
          "text": [
            "INFO:tensorflow:Saver not created because there are no variables in the graph to restore\n"
          ],
          "name": "stderr"
        },
        {
          "output_type": "stream",
          "text": [
            "(512,)\n"
          ],
          "name": "stdout"
        },
        {
          "output_type": "error",
          "ename": "KeyboardInterrupt",
          "evalue": "ignored",
          "traceback": [
            "\u001b[0;31m---------------------------------------------------------------------------\u001b[0m",
            "\u001b[0;31mKeyboardInterrupt\u001b[0m                         Traceback (most recent call last)",
            "\u001b[0;32m<ipython-input-22-3df0824f260b>\u001b[0m in \u001b[0;36m<module>\u001b[0;34m()\u001b[0m\n\u001b[1;32m      1\u001b[0m \u001b[0mlabelled\u001b[0m\u001b[0;34m=\u001b[0m\u001b[0;34m[\u001b[0m\u001b[0;34m]\u001b[0m\u001b[0;34m\u001b[0m\u001b[0;34m\u001b[0m\u001b[0m\n\u001b[1;32m      2\u001b[0m \u001b[0;32mfor\u001b[0m \u001b[0mi\u001b[0m \u001b[0;32min\u001b[0m \u001b[0mrange\u001b[0m\u001b[0;34m(\u001b[0m\u001b[0;36m100\u001b[0m\u001b[0;34m)\u001b[0m\u001b[0;34m:\u001b[0m\u001b[0;34m\u001b[0m\u001b[0;34m\u001b[0m\u001b[0m\n\u001b[0;32m----> 3\u001b[0;31m   \u001b[0mr\u001b[0m\u001b[0;34m=\u001b[0m\u001b[0mtest_similiarity\u001b[0m\u001b[0;34m(\u001b[0m\u001b[0mdf\u001b[0m\u001b[0;34m[\u001b[0m\u001b[0;34m'query'\u001b[0m\u001b[0;34m]\u001b[0m\u001b[0;34m[\u001b[0m\u001b[0mi\u001b[0m\u001b[0;34m]\u001b[0m\u001b[0;34m,\u001b[0m\u001b[0mdf\u001b[0m\u001b[0;34m[\u001b[0m\u001b[0;34m'tweets'\u001b[0m\u001b[0;34m]\u001b[0m\u001b[0;34m[\u001b[0m\u001b[0mi\u001b[0m\u001b[0;34m]\u001b[0m\u001b[0;34m)\u001b[0m\u001b[0;34m\u001b[0m\u001b[0;34m\u001b[0m\u001b[0m\n\u001b[0m\u001b[1;32m      4\u001b[0m   \u001b[0mlabelled\u001b[0m\u001b[0;34m.\u001b[0m\u001b[0mappend\u001b[0m\u001b[0;34m(\u001b[0m\u001b[0mr\u001b[0m\u001b[0;34m)\u001b[0m\u001b[0;34m\u001b[0m\u001b[0;34m\u001b[0m\u001b[0m\n\u001b[1;32m      5\u001b[0m \u001b[0;34m\u001b[0m\u001b[0m\n",
            "\u001b[0;32m<ipython-input-20-7a2e51250895>\u001b[0m in \u001b[0;36mtest_similiarity\u001b[0;34m(text1, text2)\u001b[0m\n\u001b[1;32m      1\u001b[0m \u001b[0;32mdef\u001b[0m \u001b[0mtest_similiarity\u001b[0m\u001b[0;34m(\u001b[0m\u001b[0mtext1\u001b[0m\u001b[0;34m,\u001b[0m \u001b[0mtext2\u001b[0m\u001b[0;34m)\u001b[0m\u001b[0;34m:\u001b[0m\u001b[0;34m\u001b[0m\u001b[0;34m\u001b[0m\u001b[0m\n\u001b[0;32m----> 2\u001b[0;31m     \u001b[0mvec1\u001b[0m \u001b[0;34m=\u001b[0m \u001b[0mget_features\u001b[0m\u001b[0;34m(\u001b[0m\u001b[0mtext1\u001b[0m\u001b[0;34m)\u001b[0m\u001b[0;34m[\u001b[0m\u001b[0;36m0\u001b[0m\u001b[0;34m]\u001b[0m\u001b[0;34m\u001b[0m\u001b[0;34m\u001b[0m\u001b[0m\n\u001b[0m\u001b[1;32m      3\u001b[0m     \u001b[0mvec2\u001b[0m \u001b[0;34m=\u001b[0m \u001b[0mget_features\u001b[0m\u001b[0;34m(\u001b[0m\u001b[0mtext2\u001b[0m\u001b[0;34m)\u001b[0m\u001b[0;34m[\u001b[0m\u001b[0;36m0\u001b[0m\u001b[0;34m]\u001b[0m\u001b[0;34m\u001b[0m\u001b[0;34m\u001b[0m\u001b[0m\n\u001b[1;32m      4\u001b[0m     \u001b[0;31m#vec1=tf.\u001b[0m\u001b[0;34m\u001b[0m\u001b[0;34m\u001b[0m\u001b[0;34m\u001b[0m\u001b[0m\n\u001b[1;32m      5\u001b[0m     \u001b[0mprint\u001b[0m\u001b[0;34m(\u001b[0m\u001b[0mvec1\u001b[0m\u001b[0;34m.\u001b[0m\u001b[0mshape\u001b[0m\u001b[0;34m)\u001b[0m\u001b[0;34m\u001b[0m\u001b[0;34m\u001b[0m\u001b[0m\n",
            "\u001b[0;32m<ipython-input-14-bbac1a7375b1>\u001b[0m in \u001b[0;36mget_features\u001b[0;34m(texts)\u001b[0m\n\u001b[1;32m      4\u001b[0m         \u001b[0mtexts\u001b[0m \u001b[0;34m=\u001b[0m \u001b[0;34m[\u001b[0m\u001b[0mtexts\u001b[0m\u001b[0;34m]\u001b[0m\u001b[0;34m\u001b[0m\u001b[0;34m\u001b[0m\u001b[0m\n\u001b[1;32m      5\u001b[0m     \u001b[0;32mwith\u001b[0m \u001b[0mtf\u001b[0m\u001b[0;34m.\u001b[0m\u001b[0mSession\u001b[0m\u001b[0;34m(\u001b[0m\u001b[0;34m)\u001b[0m \u001b[0;32mas\u001b[0m \u001b[0msess\u001b[0m\u001b[0;34m:\u001b[0m\u001b[0;34m\u001b[0m\u001b[0;34m\u001b[0m\u001b[0m\n\u001b[0;32m----> 6\u001b[0;31m         \u001b[0msess\u001b[0m\u001b[0;34m.\u001b[0m\u001b[0mrun\u001b[0m\u001b[0;34m(\u001b[0m\u001b[0;34m[\u001b[0m\u001b[0mtf\u001b[0m\u001b[0;34m.\u001b[0m\u001b[0mglobal_variables_initializer\u001b[0m\u001b[0;34m(\u001b[0m\u001b[0;34m)\u001b[0m\u001b[0;34m,\u001b[0m \u001b[0mtf\u001b[0m\u001b[0;34m.\u001b[0m\u001b[0mtables_initializer\u001b[0m\u001b[0;34m(\u001b[0m\u001b[0;34m)\u001b[0m\u001b[0;34m]\u001b[0m\u001b[0;34m)\u001b[0m\u001b[0;34m\u001b[0m\u001b[0;34m\u001b[0m\u001b[0m\n\u001b[0m\u001b[1;32m      7\u001b[0m         \u001b[0;32mreturn\u001b[0m \u001b[0msess\u001b[0m\u001b[0;34m.\u001b[0m\u001b[0mrun\u001b[0m\u001b[0;34m(\u001b[0m\u001b[0membed\u001b[0m\u001b[0;34m(\u001b[0m\u001b[0mtexts\u001b[0m\u001b[0;34m)\u001b[0m\u001b[0;34m)\u001b[0m\u001b[0;34m\u001b[0m\u001b[0;34m\u001b[0m\u001b[0m\n",
            "\u001b[0;32m/usr/local/lib/python3.6/dist-packages/tensorflow_core/python/client/session.py\u001b[0m in \u001b[0;36mrun\u001b[0;34m(self, fetches, feed_dict, options, run_metadata)\u001b[0m\n\u001b[1;32m    954\u001b[0m     \u001b[0;32mtry\u001b[0m\u001b[0;34m:\u001b[0m\u001b[0;34m\u001b[0m\u001b[0;34m\u001b[0m\u001b[0m\n\u001b[1;32m    955\u001b[0m       result = self._run(None, fetches, feed_dict, options_ptr,\n\u001b[0;32m--> 956\u001b[0;31m                          run_metadata_ptr)\n\u001b[0m\u001b[1;32m    957\u001b[0m       \u001b[0;32mif\u001b[0m \u001b[0mrun_metadata\u001b[0m\u001b[0;34m:\u001b[0m\u001b[0;34m\u001b[0m\u001b[0;34m\u001b[0m\u001b[0m\n\u001b[1;32m    958\u001b[0m         \u001b[0mproto_data\u001b[0m \u001b[0;34m=\u001b[0m \u001b[0mtf_session\u001b[0m\u001b[0;34m.\u001b[0m\u001b[0mTF_GetBuffer\u001b[0m\u001b[0;34m(\u001b[0m\u001b[0mrun_metadata_ptr\u001b[0m\u001b[0;34m)\u001b[0m\u001b[0;34m\u001b[0m\u001b[0;34m\u001b[0m\u001b[0m\n",
            "\u001b[0;32m/usr/local/lib/python3.6/dist-packages/tensorflow_core/python/client/session.py\u001b[0m in \u001b[0;36m_run\u001b[0;34m(self, handle, fetches, feed_dict, options, run_metadata)\u001b[0m\n\u001b[1;32m   1178\u001b[0m     \u001b[0;32mif\u001b[0m \u001b[0mfinal_fetches\u001b[0m \u001b[0;32mor\u001b[0m \u001b[0mfinal_targets\u001b[0m \u001b[0;32mor\u001b[0m \u001b[0;34m(\u001b[0m\u001b[0mhandle\u001b[0m \u001b[0;32mand\u001b[0m \u001b[0mfeed_dict_tensor\u001b[0m\u001b[0;34m)\u001b[0m\u001b[0;34m:\u001b[0m\u001b[0;34m\u001b[0m\u001b[0;34m\u001b[0m\u001b[0m\n\u001b[1;32m   1179\u001b[0m       results = self._do_run(handle, final_targets, final_fetches,\n\u001b[0;32m-> 1180\u001b[0;31m                              feed_dict_tensor, options, run_metadata)\n\u001b[0m\u001b[1;32m   1181\u001b[0m     \u001b[0;32melse\u001b[0m\u001b[0;34m:\u001b[0m\u001b[0;34m\u001b[0m\u001b[0;34m\u001b[0m\u001b[0m\n\u001b[1;32m   1182\u001b[0m       \u001b[0mresults\u001b[0m \u001b[0;34m=\u001b[0m \u001b[0;34m[\u001b[0m\u001b[0;34m]\u001b[0m\u001b[0;34m\u001b[0m\u001b[0;34m\u001b[0m\u001b[0m\n",
            "\u001b[0;32m/usr/local/lib/python3.6/dist-packages/tensorflow_core/python/client/session.py\u001b[0m in \u001b[0;36m_do_run\u001b[0;34m(self, handle, target_list, fetch_list, feed_dict, options, run_metadata)\u001b[0m\n\u001b[1;32m   1357\u001b[0m     \u001b[0;32mif\u001b[0m \u001b[0mhandle\u001b[0m \u001b[0;32mis\u001b[0m \u001b[0;32mNone\u001b[0m\u001b[0;34m:\u001b[0m\u001b[0;34m\u001b[0m\u001b[0;34m\u001b[0m\u001b[0m\n\u001b[1;32m   1358\u001b[0m       return self._do_call(_run_fn, feeds, fetches, targets, options,\n\u001b[0;32m-> 1359\u001b[0;31m                            run_metadata)\n\u001b[0m\u001b[1;32m   1360\u001b[0m     \u001b[0;32melse\u001b[0m\u001b[0;34m:\u001b[0m\u001b[0;34m\u001b[0m\u001b[0;34m\u001b[0m\u001b[0m\n\u001b[1;32m   1361\u001b[0m       \u001b[0;32mreturn\u001b[0m \u001b[0mself\u001b[0m\u001b[0;34m.\u001b[0m\u001b[0m_do_call\u001b[0m\u001b[0;34m(\u001b[0m\u001b[0m_prun_fn\u001b[0m\u001b[0;34m,\u001b[0m \u001b[0mhandle\u001b[0m\u001b[0;34m,\u001b[0m \u001b[0mfeeds\u001b[0m\u001b[0;34m,\u001b[0m \u001b[0mfetches\u001b[0m\u001b[0;34m)\u001b[0m\u001b[0;34m\u001b[0m\u001b[0;34m\u001b[0m\u001b[0m\n",
            "\u001b[0;32m/usr/local/lib/python3.6/dist-packages/tensorflow_core/python/client/session.py\u001b[0m in \u001b[0;36m_do_call\u001b[0;34m(self, fn, *args)\u001b[0m\n\u001b[1;32m   1363\u001b[0m   \u001b[0;32mdef\u001b[0m \u001b[0m_do_call\u001b[0m\u001b[0;34m(\u001b[0m\u001b[0mself\u001b[0m\u001b[0;34m,\u001b[0m \u001b[0mfn\u001b[0m\u001b[0;34m,\u001b[0m \u001b[0;34m*\u001b[0m\u001b[0margs\u001b[0m\u001b[0;34m)\u001b[0m\u001b[0;34m:\u001b[0m\u001b[0;34m\u001b[0m\u001b[0;34m\u001b[0m\u001b[0m\n\u001b[1;32m   1364\u001b[0m     \u001b[0;32mtry\u001b[0m\u001b[0;34m:\u001b[0m\u001b[0;34m\u001b[0m\u001b[0;34m\u001b[0m\u001b[0m\n\u001b[0;32m-> 1365\u001b[0;31m       \u001b[0;32mreturn\u001b[0m \u001b[0mfn\u001b[0m\u001b[0;34m(\u001b[0m\u001b[0;34m*\u001b[0m\u001b[0margs\u001b[0m\u001b[0;34m)\u001b[0m\u001b[0;34m\u001b[0m\u001b[0;34m\u001b[0m\u001b[0m\n\u001b[0m\u001b[1;32m   1366\u001b[0m     \u001b[0;32mexcept\u001b[0m \u001b[0merrors\u001b[0m\u001b[0;34m.\u001b[0m\u001b[0mOpError\u001b[0m \u001b[0;32mas\u001b[0m \u001b[0me\u001b[0m\u001b[0;34m:\u001b[0m\u001b[0;34m\u001b[0m\u001b[0;34m\u001b[0m\u001b[0m\n\u001b[1;32m   1367\u001b[0m       \u001b[0mmessage\u001b[0m \u001b[0;34m=\u001b[0m \u001b[0mcompat\u001b[0m\u001b[0;34m.\u001b[0m\u001b[0mas_text\u001b[0m\u001b[0;34m(\u001b[0m\u001b[0me\u001b[0m\u001b[0;34m.\u001b[0m\u001b[0mmessage\u001b[0m\u001b[0;34m)\u001b[0m\u001b[0;34m\u001b[0m\u001b[0;34m\u001b[0m\u001b[0m\n",
            "\u001b[0;32m/usr/local/lib/python3.6/dist-packages/tensorflow_core/python/client/session.py\u001b[0m in \u001b[0;36m_run_fn\u001b[0;34m(feed_dict, fetch_list, target_list, options, run_metadata)\u001b[0m\n\u001b[1;32m   1348\u001b[0m       \u001b[0mself\u001b[0m\u001b[0;34m.\u001b[0m\u001b[0m_extend_graph\u001b[0m\u001b[0;34m(\u001b[0m\u001b[0;34m)\u001b[0m\u001b[0;34m\u001b[0m\u001b[0;34m\u001b[0m\u001b[0m\n\u001b[1;32m   1349\u001b[0m       return self._call_tf_sessionrun(options, feed_dict, fetch_list,\n\u001b[0;32m-> 1350\u001b[0;31m                                       target_list, run_metadata)\n\u001b[0m\u001b[1;32m   1351\u001b[0m \u001b[0;34m\u001b[0m\u001b[0m\n\u001b[1;32m   1352\u001b[0m     \u001b[0;32mdef\u001b[0m \u001b[0m_prun_fn\u001b[0m\u001b[0;34m(\u001b[0m\u001b[0mhandle\u001b[0m\u001b[0;34m,\u001b[0m \u001b[0mfeed_dict\u001b[0m\u001b[0;34m,\u001b[0m \u001b[0mfetch_list\u001b[0m\u001b[0;34m)\u001b[0m\u001b[0;34m:\u001b[0m\u001b[0;34m\u001b[0m\u001b[0;34m\u001b[0m\u001b[0m\n",
            "\u001b[0;32m/usr/local/lib/python3.6/dist-packages/tensorflow_core/python/client/session.py\u001b[0m in \u001b[0;36m_call_tf_sessionrun\u001b[0;34m(self, options, feed_dict, fetch_list, target_list, run_metadata)\u001b[0m\n\u001b[1;32m   1441\u001b[0m     return tf_session.TF_SessionRun_wrapper(self._session, options, feed_dict,\n\u001b[1;32m   1442\u001b[0m                                             \u001b[0mfetch_list\u001b[0m\u001b[0;34m,\u001b[0m \u001b[0mtarget_list\u001b[0m\u001b[0;34m,\u001b[0m\u001b[0;34m\u001b[0m\u001b[0;34m\u001b[0m\u001b[0m\n\u001b[0;32m-> 1443\u001b[0;31m                                             run_metadata)\n\u001b[0m\u001b[1;32m   1444\u001b[0m \u001b[0;34m\u001b[0m\u001b[0m\n\u001b[1;32m   1445\u001b[0m   \u001b[0;32mdef\u001b[0m \u001b[0m_call_tf_sessionprun\u001b[0m\u001b[0;34m(\u001b[0m\u001b[0mself\u001b[0m\u001b[0;34m,\u001b[0m \u001b[0mhandle\u001b[0m\u001b[0;34m,\u001b[0m \u001b[0mfeed_dict\u001b[0m\u001b[0;34m,\u001b[0m \u001b[0mfetch_list\u001b[0m\u001b[0;34m)\u001b[0m\u001b[0;34m:\u001b[0m\u001b[0;34m\u001b[0m\u001b[0;34m\u001b[0m\u001b[0m\n",
            "\u001b[0;31mKeyboardInterrupt\u001b[0m: "
          ]
        }
      ]
    },
    {
      "cell_type": "code",
      "metadata": {
        "id": "yhD4382xGqzU",
        "colab_type": "code",
        "outputId": "1ea1687b-b5b9-46eb-9b51-baf03b23cd98",
        "colab": {
          "base_uri": "https://localhost:8080/",
          "height": 153
        }
      },
      "source": [
        "labelled"
      ],
      "execution_count": 0,
      "outputs": [
        {
          "output_type": "execute_result",
          "data": {
            "text/plain": [
              "[-0.058473125,\n",
              " 0.15675904,\n",
              " 0.096096024,\n",
              " 0.063447945,\n",
              " 0.0012264774,\n",
              " 0.012337501,\n",
              " -0.030431002,\n",
              " -0.014689722]"
            ]
          },
          "metadata": {
            "tags": []
          },
          "execution_count": 23
        }
      ]
    },
    {
      "cell_type": "code",
      "metadata": {
        "id": "ES8d1bW3R4OF",
        "colab_type": "code",
        "outputId": "0139bbc0-1deb-44b2-ae6a-bd07c1fa44bd",
        "colab": {
          "base_uri": "https://localhost:8080/",
          "height": 163
        }
      },
      "source": [
        "type(vec1)"
      ],
      "execution_count": 0,
      "outputs": [
        {
          "output_type": "error",
          "ename": "NameError",
          "evalue": "ignored",
          "traceback": [
            "\u001b[0;31m---------------------------------------------------------------------------\u001b[0m",
            "\u001b[0;31mNameError\u001b[0m                                 Traceback (most recent call last)",
            "\u001b[0;32m<ipython-input-44-8128e8ef1315>\u001b[0m in \u001b[0;36m<module>\u001b[0;34m()\u001b[0m\n\u001b[0;32m----> 1\u001b[0;31m \u001b[0mtype\u001b[0m\u001b[0;34m(\u001b[0m\u001b[0mvec1\u001b[0m\u001b[0;34m)\u001b[0m\u001b[0;34m\u001b[0m\u001b[0;34m\u001b[0m\u001b[0m\n\u001b[0m",
            "\u001b[0;31mNameError\u001b[0m: name 'vec1' is not defined"
          ]
        }
      ]
    },
    {
      "cell_type": "code",
      "metadata": {
        "id": "WjOZpRvuKSsd",
        "colab_type": "code",
        "colab": {}
      },
      "source": [
        "import warnings\n",
        "warnings.filterwarnings(\"ignore\")"
      ],
      "execution_count": 0,
      "outputs": []
    },
    {
      "cell_type": "code",
      "metadata": {
        "id": "CcSIUjv_LUSP",
        "colab_type": "code",
        "colab": {}
      },
      "source": [
        "import torch"
      ],
      "execution_count": 0,
      "outputs": []
    },
    {
      "cell_type": "code",
      "metadata": {
        "id": "_MXbfsvGMqsm",
        "colab_type": "code",
        "outputId": "b2de5d95-73ab-497c-ab92-6b4e064ad54d",
        "colab": {
          "base_uri": "https://localhost:8080/",
          "height": 34
        }
      },
      "source": [
        "# Check if the server/ instance is having GPU/ CPU from python code\n",
        "import sys\n",
        "from tensorflow.python.client import device_lib\n",
        "import tensorflow as tf\n",
        "# device_lib.list_local_devices()     ## this command list all the processing device GPU and CPU\n",
        "\n",
        "\n",
        "device_name = [x.name for x in device_lib.list_local_devices() if x.device_type == 'GPU']\n",
        "if device_name[0] == \"/device:GPU:0\":\n",
        "    device_name = \"/gpu:0\"\n",
        "    print('GPU')\n",
        "else:\n",
        "    #print('CPU')\n",
        "    device_name = \"/cpu:0\""
      ],
      "execution_count": 0,
      "outputs": [
        {
          "output_type": "stream",
          "text": [
            "GPU\n"
          ],
          "name": "stdout"
        }
      ]
    },
    {
      "cell_type": "code",
      "metadata": {
        "id": "J5rxQaPVONIO",
        "colab_type": "code",
        "colab": {}
      },
      "source": [
        "device='cuda'"
      ],
      "execution_count": 0,
      "outputs": []
    },
    {
      "cell_type": "code",
      "metadata": {
        "id": "dJXEGUR6QYE1",
        "colab_type": "code",
        "outputId": "ec16d0e7-191f-42c6-de46-b61a468a9f59",
        "colab": {
          "base_uri": "https://localhost:8080/",
          "height": 163
        }
      },
      "source": [
        "a=a.ToTenosr()"
      ],
      "execution_count": 0,
      "outputs": [
        {
          "output_type": "error",
          "ename": "AttributeError",
          "evalue": "ignored",
          "traceback": [
            "\u001b[0;31m---------------------------------------------------------------------------\u001b[0m",
            "\u001b[0;31mAttributeError\u001b[0m                            Traceback (most recent call last)",
            "\u001b[0;32m<ipython-input-43-333aeb36a8e4>\u001b[0m in \u001b[0;36m<module>\u001b[0;34m()\u001b[0m\n\u001b[0;32m----> 1\u001b[0;31m \u001b[0ma\u001b[0m\u001b[0;34m=\u001b[0m\u001b[0ma\u001b[0m\u001b[0;34m.\u001b[0m\u001b[0mToTenosr\u001b[0m\u001b[0;34m(\u001b[0m\u001b[0;34m)\u001b[0m\u001b[0;34m\u001b[0m\u001b[0;34m\u001b[0m\u001b[0m\n\u001b[0m",
            "\u001b[0;31mAttributeError\u001b[0m: 'numpy.ndarray' object has no attribute 'ToTenosr'"
          ]
        }
      ]
    },
    {
      "cell_type": "code",
      "metadata": {
        "id": "q3qmP8kKQpaD",
        "colab_type": "code",
        "outputId": "b1abc029-978d-470d-8a7d-e7cfcfaceada",
        "colab": {
          "base_uri": "https://localhost:8080/",
          "height": 163
        }
      },
      "source": [
        "device(a)"
      ],
      "execution_count": 0,
      "outputs": [
        {
          "output_type": "error",
          "ename": "NameError",
          "evalue": "ignored",
          "traceback": [
            "\u001b[0;31m---------------------------------------------------------------------------\u001b[0m",
            "\u001b[0;31mNameError\u001b[0m                                 Traceback (most recent call last)",
            "\u001b[0;32m<ipython-input-38-96cf0e422fb1>\u001b[0m in \u001b[0;36m<module>\u001b[0;34m()\u001b[0m\n\u001b[0;32m----> 1\u001b[0;31m \u001b[0mdevice\u001b[0m\u001b[0;34m(\u001b[0m\u001b[0ma\u001b[0m\u001b[0;34m)\u001b[0m\u001b[0;34m\u001b[0m\u001b[0;34m\u001b[0m\u001b[0m\n\u001b[0m",
            "\u001b[0;31mNameError\u001b[0m: name 'device' is not defined"
          ]
        }
      ]
    },
    {
      "cell_type": "code",
      "metadata": {
        "id": "8dc1BaobUSDD",
        "colab_type": "code",
        "colab": {}
      },
      "source": [
        "from sklearn.metrics import accuracy_score,f1_score,recall_score,precision_score"
      ],
      "execution_count": 0,
      "outputs": []
    },
    {
      "cell_type": "code",
      "metadata": {
        "id": "05HodsFcQq5y",
        "colab_type": "code",
        "colab": {}
      },
      "source": [
        "def performance_report(value, score_list):\n",
        "    # the value (0-1) is the cosine similarity score to determine if a pair of questions\n",
        "    # have the same meaning or not.\n",
        "    scores = []\n",
        "    for score in score_list:\n",
        "        if score >= value:\n",
        "            scores.append(1)\n",
        "        else:\n",
        "            scores.append(0)\n",
        "\n",
        "    accuracy = accuracy_score(r, scores) * 100\n",
        "    print(\"Accuracy score is {}%.\".format(round(accuracy),1))\n",
        "    f1=f1_score(r,scores)\n",
        "    print(f1)\n",
        "    re=recall_score(r,scores)\n",
        "    print(re)\n",
        "    pe=precision_score(r,scores)\n",
        "    print(pe)"
      ],
      "execution_count": 0,
      "outputs": []
    },
    {
      "cell_type": "code",
      "metadata": {
        "id": "0ktlpql3Ud0a",
        "colab_type": "code",
        "outputId": "8986dce0-a853-4f32-e5f9-be7fabae16cf",
        "colab": {
          "base_uri": "https://localhost:8080/",
          "height": 1000
        }
      },
      "source": [
        "for i in range(100):\n",
        "  rr=performance_report(i*(.01), labelled)\n",
        "  print(i,rr)"
      ],
      "execution_count": 0,
      "outputs": [
        {
          "output_type": "stream",
          "text": [
            "Accuracy score is 67.0%.\n",
            "0.8\n",
            "1.0\n",
            "0.6666666666666666\n",
            "0 None\n",
            "Accuracy score is 67.0%.\n",
            "0.8\n",
            "1.0\n",
            "0.6666666666666666\n",
            "1 None\n",
            "Accuracy score is 71.0%.\n",
            "0.8205128205128205\n",
            "1.0\n",
            "0.6956521739130435\n",
            "2 None\n",
            "Accuracy score is 71.0%.\n",
            "0.8205128205128205\n",
            "1.0\n",
            "0.6956521739130435\n",
            "3 None\n",
            "Accuracy score is 71.0%.\n",
            "0.8205128205128205\n",
            "1.0\n",
            "0.6956521739130435\n",
            "4 None\n",
            "Accuracy score is 71.0%.\n",
            "0.8205128205128205\n",
            "1.0\n",
            "0.6956521739130435\n",
            "5 None\n",
            "Accuracy score is 71.0%.\n",
            "0.8205128205128205\n",
            "1.0\n",
            "0.6956521739130435\n",
            "6 None\n",
            "Accuracy score is 75.0%.\n",
            "0.8421052631578948\n",
            "1.0\n",
            "0.7272727272727273\n",
            "7 None\n",
            "Accuracy score is 75.0%.\n",
            "0.8421052631578948\n",
            "1.0\n",
            "0.7272727272727273\n",
            "8 None\n",
            "Accuracy score is 75.0%.\n",
            "0.8421052631578948\n",
            "1.0\n",
            "0.7272727272727273\n",
            "9 None\n",
            "Accuracy score is 75.0%.\n",
            "0.8421052631578948\n",
            "1.0\n",
            "0.7272727272727273\n",
            "10 None\n",
            "Accuracy score is 75.0%.\n",
            "0.8421052631578948\n",
            "1.0\n",
            "0.7272727272727273\n",
            "11 None\n",
            "Accuracy score is 79.0%.\n",
            "0.8648648648648648\n",
            "1.0\n",
            "0.7619047619047619\n",
            "12 None\n",
            "Accuracy score is 79.0%.\n",
            "0.8648648648648648\n",
            "1.0\n",
            "0.7619047619047619\n",
            "13 None\n",
            "Accuracy score is 83.0%.\n",
            "0.888888888888889\n",
            "1.0\n",
            "0.8\n",
            "14 None\n",
            "Accuracy score is 88.0%.\n",
            "0.9142857142857143\n",
            "1.0\n",
            "0.8421052631578947\n",
            "15 None\n",
            "Accuracy score is 88.0%.\n",
            "0.9142857142857143\n",
            "1.0\n",
            "0.8421052631578947\n",
            "16 None\n",
            "Accuracy score is 96.0%.\n",
            "0.9696969696969697\n",
            "1.0\n",
            "0.9411764705882353\n",
            "17 None\n",
            "Accuracy score is 96.0%.\n",
            "0.9696969696969697\n",
            "1.0\n",
            "0.9411764705882353\n",
            "18 None\n",
            "Accuracy score is 96.0%.\n",
            "0.9696969696969697\n",
            "1.0\n",
            "0.9411764705882353\n",
            "19 None\n",
            "Accuracy score is 96.0%.\n",
            "0.9696969696969697\n",
            "1.0\n",
            "0.9411764705882353\n",
            "20 None\n",
            "Accuracy score is 96.0%.\n",
            "0.9696969696969697\n",
            "1.0\n",
            "0.9411764705882353\n",
            "21 None\n",
            "Accuracy score is 96.0%.\n",
            "0.9696969696969697\n",
            "1.0\n",
            "0.9411764705882353\n",
            "22 None\n",
            "Accuracy score is 92.0%.\n",
            "0.9375\n",
            "0.9375\n",
            "0.9375\n",
            "23 None\n",
            "Accuracy score is 92.0%.\n",
            "0.9375\n",
            "0.9375\n",
            "0.9375\n",
            "24 None\n",
            "Accuracy score is 92.0%.\n",
            "0.9375\n",
            "0.9375\n",
            "0.9375\n",
            "25 None\n",
            "Accuracy score is 92.0%.\n",
            "0.9375\n",
            "0.9375\n",
            "0.9375\n",
            "26 None\n",
            "Accuracy score is 88.0%.\n",
            "0.9032258064516129\n",
            "0.875\n",
            "0.9333333333333333\n",
            "27 None\n",
            "Accuracy score is 88.0%.\n",
            "0.9032258064516129\n",
            "0.875\n",
            "0.9333333333333333\n",
            "28 None\n",
            "Accuracy score is 88.0%.\n",
            "0.9032258064516129\n",
            "0.875\n",
            "0.9333333333333333\n",
            "29 None\n",
            "Accuracy score is 88.0%.\n",
            "0.9032258064516129\n",
            "0.875\n",
            "0.9333333333333333\n",
            "30 None\n",
            "Accuracy score is 88.0%.\n",
            "0.9032258064516129\n",
            "0.875\n",
            "0.9333333333333333\n",
            "31 None\n",
            "Accuracy score is 92.0%.\n",
            "0.9333333333333333\n",
            "0.875\n",
            "1.0\n",
            "32 None\n",
            "Accuracy score is 92.0%.\n",
            "0.9333333333333333\n",
            "0.875\n",
            "1.0\n",
            "33 None\n",
            "Accuracy score is 88.0%.\n",
            "0.896551724137931\n",
            "0.8125\n",
            "1.0\n",
            "34 None\n",
            "Accuracy score is 88.0%.\n",
            "0.896551724137931\n",
            "0.8125\n",
            "1.0\n",
            "35 None\n",
            "Accuracy score is 88.0%.\n",
            "0.896551724137931\n",
            "0.8125\n",
            "1.0\n",
            "36 None\n",
            "Accuracy score is 88.0%.\n",
            "0.896551724137931\n",
            "0.8125\n",
            "1.0\n",
            "37 None\n",
            "Accuracy score is 88.0%.\n",
            "0.896551724137931\n",
            "0.8125\n",
            "1.0\n",
            "38 None\n",
            "Accuracy score is 88.0%.\n",
            "0.896551724137931\n",
            "0.8125\n",
            "1.0\n",
            "39 None\n",
            "Accuracy score is 88.0%.\n",
            "0.896551724137931\n",
            "0.8125\n",
            "1.0\n",
            "40 None\n",
            "Accuracy score is 88.0%.\n",
            "0.896551724137931\n",
            "0.8125\n",
            "1.0\n",
            "41 None\n",
            "Accuracy score is 83.0%.\n",
            "0.8571428571428571\n",
            "0.75\n",
            "1.0\n",
            "42 None\n",
            "Accuracy score is 83.0%.\n",
            "0.8571428571428571\n",
            "0.75\n",
            "1.0\n",
            "43 None\n",
            "Accuracy score is 83.0%.\n",
            "0.8571428571428571\n",
            "0.75\n",
            "1.0\n",
            "44 None\n",
            "Accuracy score is 83.0%.\n",
            "0.8571428571428571\n",
            "0.75\n",
            "1.0\n",
            "45 None\n",
            "Accuracy score is 83.0%.\n",
            "0.8571428571428571\n",
            "0.75\n",
            "1.0\n",
            "46 None\n",
            "Accuracy score is 83.0%.\n",
            "0.8571428571428571\n",
            "0.75\n",
            "1.0\n",
            "47 None\n",
            "Accuracy score is 83.0%.\n",
            "0.8571428571428571\n",
            "0.75\n",
            "1.0\n",
            "48 None\n",
            "Accuracy score is 83.0%.\n",
            "0.8571428571428571\n",
            "0.75\n",
            "1.0\n",
            "49 None\n",
            "Accuracy score is 83.0%.\n",
            "0.8571428571428571\n",
            "0.75\n",
            "1.0\n",
            "50 None\n",
            "Accuracy score is 83.0%.\n",
            "0.8571428571428571\n",
            "0.75\n",
            "1.0\n",
            "51 None\n",
            "Accuracy score is 83.0%.\n",
            "0.8571428571428571\n",
            "0.75\n",
            "1.0\n",
            "52 None\n",
            "Accuracy score is 83.0%.\n",
            "0.8571428571428571\n",
            "0.75\n",
            "1.0\n",
            "53 None\n",
            "Accuracy score is 83.0%.\n",
            "0.8571428571428571\n",
            "0.75\n",
            "1.0\n",
            "54 None\n",
            "Accuracy score is 83.0%.\n",
            "0.8571428571428571\n",
            "0.75\n",
            "1.0\n",
            "55 None\n",
            "Accuracy score is 83.0%.\n",
            "0.8571428571428571\n",
            "0.75\n",
            "1.0\n",
            "56 None\n",
            "Accuracy score is 79.0%.\n",
            "0.8148148148148148\n",
            "0.6875\n",
            "1.0\n",
            "57 None\n",
            "Accuracy score is 79.0%.\n",
            "0.8148148148148148\n",
            "0.6875\n",
            "1.0\n",
            "58 None\n",
            "Accuracy score is 79.0%.\n",
            "0.8148148148148148\n",
            "0.6875\n",
            "1.0\n",
            "59 None\n",
            "Accuracy score is 79.0%.\n",
            "0.8148148148148148\n",
            "0.6875\n",
            "1.0\n",
            "60 None\n",
            "Accuracy score is 75.0%.\n",
            "0.7692307692307693\n",
            "0.625\n",
            "1.0\n",
            "61 None\n",
            "Accuracy score is 75.0%.\n",
            "0.7692307692307693\n",
            "0.625\n",
            "1.0\n",
            "62 None\n",
            "Accuracy score is 71.0%.\n",
            "0.72\n",
            "0.5625\n",
            "1.0\n",
            "63 None\n",
            "Accuracy score is 71.0%.\n",
            "0.72\n",
            "0.5625\n",
            "1.0\n",
            "64 None\n",
            "Accuracy score is 67.0%.\n",
            "0.6666666666666666\n",
            "0.5\n",
            "1.0\n",
            "65 None\n",
            "Accuracy score is 67.0%.\n",
            "0.6666666666666666\n",
            "0.5\n",
            "1.0\n",
            "66 None\n",
            "Accuracy score is 62.0%.\n",
            "0.6086956521739131\n",
            "0.4375\n",
            "1.0\n",
            "67 None\n",
            "Accuracy score is 50.0%.\n",
            "0.4\n",
            "0.25\n",
            "1.0\n",
            "68 None\n",
            "Accuracy score is 50.0%.\n",
            "0.4\n",
            "0.25\n",
            "1.0\n",
            "69 None\n",
            "Accuracy score is 42.0%.\n",
            "0.2222222222222222\n",
            "0.125\n",
            "1.0\n",
            "70 None\n",
            "Accuracy score is 38.0%.\n",
            "0.11764705882352941\n",
            "0.0625\n",
            "1.0\n",
            "71 None\n",
            "Accuracy score is 33.0%.\n",
            "0.0\n",
            "0.0\n",
            "0.0\n",
            "72 None\n",
            "Accuracy score is 33.0%.\n",
            "0.0\n",
            "0.0\n",
            "0.0\n",
            "73 None\n",
            "Accuracy score is 33.0%.\n",
            "0.0\n",
            "0.0\n",
            "0.0\n",
            "74 None\n",
            "Accuracy score is 33.0%.\n",
            "0.0\n",
            "0.0\n",
            "0.0\n",
            "75 None\n",
            "Accuracy score is 33.0%.\n",
            "0.0\n",
            "0.0\n",
            "0.0\n",
            "76 None\n",
            "Accuracy score is 33.0%.\n",
            "0.0\n",
            "0.0\n",
            "0.0\n",
            "77 None\n",
            "Accuracy score is 33.0%.\n",
            "0.0\n",
            "0.0\n",
            "0.0\n",
            "78 None\n",
            "Accuracy score is 33.0%.\n",
            "0.0\n",
            "0.0\n",
            "0.0\n",
            "79 None\n",
            "Accuracy score is 33.0%.\n",
            "0.0\n",
            "0.0\n",
            "0.0\n",
            "80 None\n",
            "Accuracy score is 33.0%.\n",
            "0.0\n",
            "0.0\n",
            "0.0\n",
            "81 None\n",
            "Accuracy score is 33.0%.\n",
            "0.0\n",
            "0.0\n",
            "0.0\n",
            "82 None\n",
            "Accuracy score is 33.0%.\n",
            "0.0\n",
            "0.0\n",
            "0.0\n",
            "83 None\n",
            "Accuracy score is 33.0%.\n",
            "0.0\n",
            "0.0\n",
            "0.0\n",
            "84 None\n",
            "Accuracy score is 33.0%.\n",
            "0.0\n",
            "0.0\n",
            "0.0\n",
            "85 None\n",
            "Accuracy score is 33.0%.\n",
            "0.0\n",
            "0.0\n",
            "0.0\n",
            "86 None\n",
            "Accuracy score is 33.0%.\n",
            "0.0\n",
            "0.0\n",
            "0.0\n",
            "87 None\n",
            "Accuracy score is 33.0%.\n",
            "0.0\n",
            "0.0\n",
            "0.0\n",
            "88 None\n",
            "Accuracy score is 33.0%.\n",
            "0.0\n",
            "0.0\n",
            "0.0\n",
            "89 None\n",
            "Accuracy score is 33.0%.\n",
            "0.0\n",
            "0.0\n",
            "0.0\n",
            "90 None\n",
            "Accuracy score is 33.0%.\n",
            "0.0\n",
            "0.0\n",
            "0.0\n",
            "91 None\n",
            "Accuracy score is 33.0%.\n",
            "0.0\n",
            "0.0\n",
            "0.0\n",
            "92 None\n",
            "Accuracy score is 33.0%.\n",
            "0.0\n",
            "0.0\n",
            "0.0\n",
            "93 None\n",
            "Accuracy score is 33.0%.\n",
            "0.0\n",
            "0.0\n",
            "0.0\n",
            "94 None\n",
            "Accuracy score is 33.0%.\n",
            "0.0\n",
            "0.0\n",
            "0.0\n",
            "95 None\n",
            "Accuracy score is 33.0%.\n",
            "0.0\n",
            "0.0\n",
            "0.0\n",
            "96 None\n",
            "Accuracy score is 33.0%.\n",
            "0.0\n",
            "0.0\n",
            "0.0\n",
            "97 None\n",
            "Accuracy score is 33.0%.\n",
            "0.0\n",
            "0.0\n",
            "0.0\n",
            "98 None\n",
            "Accuracy score is 33.0%.\n",
            "0.0\n",
            "0.0\n",
            "0.0\n",
            "99 None\n"
          ],
          "name": "stdout"
        },
        {
          "output_type": "stream",
          "text": [
            "/usr/local/lib/python3.6/dist-packages/sklearn/metrics/classification.py:1437: UndefinedMetricWarning: F-score is ill-defined and being set to 0.0 due to no predicted samples.\n",
            "  'precision', 'predicted', average, warn_for)\n",
            "/usr/local/lib/python3.6/dist-packages/sklearn/metrics/classification.py:1437: UndefinedMetricWarning: Precision is ill-defined and being set to 0.0 due to no predicted samples.\n",
            "  'precision', 'predicted', average, warn_for)\n"
          ],
          "name": "stderr"
        }
      ]
    },
    {
      "cell_type": "code",
      "metadata": {
        "id": "74ipoPMiVLVS",
        "colab_type": "code",
        "colab": {}
      },
      "source": [
        "r=df.label[:len(labelled)]"
      ],
      "execution_count": 0,
      "outputs": []
    },
    {
      "cell_type": "code",
      "metadata": {
        "id": "5mZJlKJbXJY6",
        "colab_type": "code",
        "outputId": "f92e329e-8c3d-464d-d0de-ea2d8a12b9c6",
        "colab": {
          "base_uri": "https://localhost:8080/",
          "height": 442
        }
      },
      "source": [
        "r"
      ],
      "execution_count": 0,
      "outputs": [
        {
          "output_type": "execute_result",
          "data": {
            "text/plain": [
              "0     1\n",
              "1     1\n",
              "2     0\n",
              "3     0\n",
              "4     1\n",
              "5     1\n",
              "6     1\n",
              "7     1\n",
              "8     0\n",
              "9     0\n",
              "10    1\n",
              "11    0\n",
              "12    0\n",
              "13    1\n",
              "14    1\n",
              "15    0\n",
              "16    1\n",
              "17    1\n",
              "18    1\n",
              "19    1\n",
              "20    1\n",
              "21    0\n",
              "22    1\n",
              "23    1\n",
              "Name: label, dtype: int64"
            ]
          },
          "metadata": {
            "tags": []
          },
          "execution_count": 28
        }
      ]
    },
    {
      "cell_type": "code",
      "metadata": {
        "id": "Qavi8uBqYAJk",
        "colab_type": "code",
        "colab": {}
      },
      "source": [
        ""
      ],
      "execution_count": 0,
      "outputs": []
    }
  ]
}