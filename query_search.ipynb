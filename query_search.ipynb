{
  "nbformat": 4,
  "nbformat_minor": 0,
  "metadata": {
    "colab": {
      "name": "query_search.ipynb",
      "provenance": [],
      "include_colab_link": true
    },
    "kernelspec": {
      "name": "python3",
      "display_name": "Python 3"
    },
    "accelerator": "GPU"
  },
  "cells": [
    {
      "cell_type": "markdown",
      "metadata": {
        "id": "view-in-github",
        "colab_type": "text"
      },
      "source": [
        "<a href=\"https://colab.research.google.com/github/aryanshu/Mini-google/blob/master/query_search.ipynb\" target=\"_parent\"><img src=\"https://colab.research.google.com/assets/colab-badge.svg\" alt=\"Open In Colab\"/></a>"
      ]
    },
    {
      "cell_type": "code",
      "metadata": {
        "id": "DPUNejb6foIW",
        "colab_type": "code",
        "outputId": "50d08fcb-cadf-4beb-96ac-47bea8400bab",
        "colab": {
          "base_uri": "https://localhost:8080/",
          "height": 118
        }
      },
      "source": [
        "from google.colab import drive\n",
        "drive.mount('/gdrive')"
      ],
      "execution_count": 0,
      "outputs": [
        {
          "output_type": "stream",
          "text": [
            "Go to this URL in a browser: https://accounts.google.com/o/oauth2/auth?client_id=947318989803-6bn6qk8qdgf4n4g3pfee6491hc0brc4i.apps.googleusercontent.com&redirect_uri=urn%3aietf%3awg%3aoauth%3a2.0%3aoob&response_type=code&scope=email%20https%3a%2f%2fwww.googleapis.com%2fauth%2fdocs.test%20https%3a%2f%2fwww.googleapis.com%2fauth%2fdrive%20https%3a%2f%2fwww.googleapis.com%2fauth%2fdrive.photos.readonly%20https%3a%2f%2fwww.googleapis.com%2fauth%2fpeopleapi.readonly\n",
            "\n",
            "Enter your authorization code:\n",
            "··········\n",
            "Mounted at /gdrive\n"
          ],
          "name": "stdout"
        }
      ]
    },
    {
      "cell_type": "code",
      "metadata": {
        "id": "37wSy46MhWUV",
        "colab_type": "code",
        "outputId": "fc82c1bc-61a0-4515-a846-cd66e3f7f120",
        "colab": {
          "base_uri": "https://localhost:8080/",
          "height": 33
        }
      },
      "source": [
        "cd \"/gdrive/My Drive/Colab Notebooks\""
      ],
      "execution_count": 0,
      "outputs": [
        {
          "output_type": "stream",
          "text": [
            "/gdrive/My Drive/Colab Notebooks\n"
          ],
          "name": "stdout"
        }
      ]
    },
    {
      "cell_type": "code",
      "metadata": {
        "id": "wem5weWaiSEp",
        "colab_type": "code",
        "outputId": "55d53cd9-bf80-4080-d06b-043f5d68d7f6",
        "colab": {
          "base_uri": "https://localhost:8080/",
          "height": 119
        }
      },
      "source": [
        "!mkdir encoder\n",
        "!curl -Lo encoder/infersent1.pkl https://dl.fbaipublicfiles.com/infersent/infersent1.pkl\n",
        "!curl -Lo encoder/infersent2.pkl https://dl.fbaipublicfiles.com/infersent/infersent2.pkl"
      ],
      "execution_count": 0,
      "outputs": [
        {
          "output_type": "stream",
          "text": [
            "  % Total    % Received % Xferd  Average Speed   Time    Time     Time  Current\n",
            "                                 Dload  Upload   Total   Spent    Left  Speed\n",
            "100  146M  100  146M    0     0  10.5M      0  0:00:13  0:00:13 --:--:-- 12.2M\n",
            "  % Total    % Received % Xferd  Average Speed   Time    Time     Time  Current\n",
            "                                 Dload  Upload   Total   Spent    Left  Speed\n",
            "100  146M  100  146M    0     0  10.7M      0  0:00:13  0:00:13 --:--:-- 12.3M\n"
          ],
          "name": "stdout"
        }
      ]
    },
    {
      "cell_type": "code",
      "metadata": {
        "id": "y_nASFimiFeB",
        "colab_type": "code",
        "outputId": "f9a6ea1b-7c23-4535-b51f-ba509fdf1386",
        "colab": {
          "base_uri": "https://localhost:8080/",
          "height": 488
        }
      },
      "source": [
        "!mkdir GloVe\n",
        "!curl -Lo GloVe/glove.840B.300d.zip http://nlp.stanford.edu/data/glove.840B.300d.zip\n",
        "!unzip GloVe/glove.840B.300d.zip -d GloVe/\n",
        "!mkdir fastText\n",
        "!curl -Lo fastText/crawl-300d-2M.vec.zip https://dl.fbaipublicfiles.com/fasttext/vectors-english/crawl-300d-2M.vec.zip\n",
        "!unzip fastText/crawl-300d-2M.vec.zip -d fastText/"
      ],
      "execution_count": 0,
      "outputs": [
        {
          "output_type": "stream",
          "text": [
            "mkdir: cannot create directory ‘GloVe’: File exists\n",
            "  % Total    % Received % Xferd  Average Speed   Time    Time     Time  Current\n",
            "                                 Dload  Upload   Total   Spent    Left  Speed\n",
            "  0   315    0     0    0     0      0      0 --:--:-- --:--:-- --:--:--     0\n",
            "  0   352    0     0    0     0      0      0 --:--:--  0:00:01 --:--:--     0\n"
          ],
          "name": "stdout"
        },
        {
          "output_type": "error",
          "ename": "KeyboardInterrupt",
          "evalue": "ignored",
          "traceback": [
            "\u001b[0;31m---------------------------------------------------------------------------\u001b[0m",
            "\u001b[0;31mKeyboardInterrupt\u001b[0m                         Traceback (most recent call last)",
            "\u001b[0;32m<ipython-input-6-f4e6a8f2dde9>\u001b[0m in \u001b[0;36m<module>\u001b[0;34m()\u001b[0m\n\u001b[1;32m      1\u001b[0m \u001b[0mget_ipython\u001b[0m\u001b[0;34m(\u001b[0m\u001b[0;34m)\u001b[0m\u001b[0;34m.\u001b[0m\u001b[0msystem\u001b[0m\u001b[0;34m(\u001b[0m\u001b[0;34m'mkdir GloVe'\u001b[0m\u001b[0;34m)\u001b[0m\u001b[0;34m\u001b[0m\u001b[0;34m\u001b[0m\u001b[0m\n\u001b[0;32m----> 2\u001b[0;31m \u001b[0mget_ipython\u001b[0m\u001b[0;34m(\u001b[0m\u001b[0;34m)\u001b[0m\u001b[0;34m.\u001b[0m\u001b[0msystem\u001b[0m\u001b[0;34m(\u001b[0m\u001b[0;34m'curl -Lo GloVe/glove.840B.300d.zip http://nlp.stanford.edu/data/glove.840B.300d.zip'\u001b[0m\u001b[0;34m)\u001b[0m\u001b[0;34m\u001b[0m\u001b[0;34m\u001b[0m\u001b[0m\n\u001b[0m\u001b[1;32m      3\u001b[0m \u001b[0mget_ipython\u001b[0m\u001b[0;34m(\u001b[0m\u001b[0;34m)\u001b[0m\u001b[0;34m.\u001b[0m\u001b[0msystem\u001b[0m\u001b[0;34m(\u001b[0m\u001b[0;34m'unzip GloVe/glove.840B.300d.zip -d GloVe/'\u001b[0m\u001b[0;34m)\u001b[0m\u001b[0;34m\u001b[0m\u001b[0;34m\u001b[0m\u001b[0m\n\u001b[1;32m      4\u001b[0m \u001b[0mget_ipython\u001b[0m\u001b[0;34m(\u001b[0m\u001b[0;34m)\u001b[0m\u001b[0;34m.\u001b[0m\u001b[0msystem\u001b[0m\u001b[0;34m(\u001b[0m\u001b[0;34m'mkdir fastText'\u001b[0m\u001b[0;34m)\u001b[0m\u001b[0;34m\u001b[0m\u001b[0;34m\u001b[0m\u001b[0m\n\u001b[1;32m      5\u001b[0m \u001b[0mget_ipython\u001b[0m\u001b[0;34m(\u001b[0m\u001b[0;34m)\u001b[0m\u001b[0;34m.\u001b[0m\u001b[0msystem\u001b[0m\u001b[0;34m(\u001b[0m\u001b[0;34m'curl -Lo fastText/crawl-300d-2M.vec.zip https://dl.fbaipublicfiles.com/fasttext/vectors-english/crawl-300d-2M.vec.zip'\u001b[0m\u001b[0;34m)\u001b[0m\u001b[0;34m\u001b[0m\u001b[0;34m\u001b[0m\u001b[0m\n",
            "\u001b[0;32m/usr/local/lib/python3.6/dist-packages/google/colab/_shell.py\u001b[0m in \u001b[0;36msystem\u001b[0;34m(self, *args, **kwargs)\u001b[0m\n\u001b[1;32m     94\u001b[0m       \u001b[0mkwargs\u001b[0m\u001b[0;34m.\u001b[0m\u001b[0mupdate\u001b[0m\u001b[0;34m(\u001b[0m\u001b[0;34m{\u001b[0m\u001b[0;34m'also_return_output'\u001b[0m\u001b[0;34m:\u001b[0m \u001b[0;32mTrue\u001b[0m\u001b[0;34m}\u001b[0m\u001b[0;34m)\u001b[0m\u001b[0;34m\u001b[0m\u001b[0;34m\u001b[0m\u001b[0m\n\u001b[1;32m     95\u001b[0m \u001b[0;34m\u001b[0m\u001b[0m\n\u001b[0;32m---> 96\u001b[0;31m     \u001b[0moutput\u001b[0m \u001b[0;34m=\u001b[0m \u001b[0m_system_commands\u001b[0m\u001b[0;34m.\u001b[0m\u001b[0m_system_compat\u001b[0m\u001b[0;34m(\u001b[0m\u001b[0mself\u001b[0m\u001b[0;34m,\u001b[0m \u001b[0;34m*\u001b[0m\u001b[0margs\u001b[0m\u001b[0;34m,\u001b[0m \u001b[0;34m**\u001b[0m\u001b[0mkwargs\u001b[0m\u001b[0;34m)\u001b[0m  \u001b[0;31m# pylint:disable=protected-access\u001b[0m\u001b[0;34m\u001b[0m\u001b[0;34m\u001b[0m\u001b[0m\n\u001b[0m\u001b[1;32m     97\u001b[0m \u001b[0;34m\u001b[0m\u001b[0m\n\u001b[1;32m     98\u001b[0m     \u001b[0;32mif\u001b[0m \u001b[0mpip_warn\u001b[0m\u001b[0;34m:\u001b[0m\u001b[0;34m\u001b[0m\u001b[0;34m\u001b[0m\u001b[0m\n",
            "\u001b[0;32m/usr/local/lib/python3.6/dist-packages/google/colab/_system_commands.py\u001b[0m in \u001b[0;36m_system_compat\u001b[0;34m(shell, cmd, also_return_output)\u001b[0m\n\u001b[1;32m    436\u001b[0m   \u001b[0;31m# stack.\u001b[0m\u001b[0;34m\u001b[0m\u001b[0;34m\u001b[0m\u001b[0;34m\u001b[0m\u001b[0m\n\u001b[1;32m    437\u001b[0m   result = _run_command(\n\u001b[0;32m--> 438\u001b[0;31m       shell.var_expand(cmd, depth=2), clear_streamed_output=False)\n\u001b[0m\u001b[1;32m    439\u001b[0m   \u001b[0mshell\u001b[0m\u001b[0;34m.\u001b[0m\u001b[0muser_ns\u001b[0m\u001b[0;34m[\u001b[0m\u001b[0;34m'_exit_code'\u001b[0m\u001b[0;34m]\u001b[0m \u001b[0;34m=\u001b[0m \u001b[0mresult\u001b[0m\u001b[0;34m.\u001b[0m\u001b[0mreturncode\u001b[0m\u001b[0;34m\u001b[0m\u001b[0;34m\u001b[0m\u001b[0m\n\u001b[1;32m    440\u001b[0m   \u001b[0;32mif\u001b[0m \u001b[0;34m-\u001b[0m\u001b[0mresult\u001b[0m\u001b[0;34m.\u001b[0m\u001b[0mreturncode\u001b[0m \u001b[0;32min\u001b[0m \u001b[0m_INTERRUPTED_SIGNALS\u001b[0m\u001b[0;34m:\u001b[0m\u001b[0;34m\u001b[0m\u001b[0;34m\u001b[0m\u001b[0m\n",
            "\u001b[0;32m/usr/local/lib/python3.6/dist-packages/google/colab/_system_commands.py\u001b[0m in \u001b[0;36m_run_command\u001b[0;34m(cmd, clear_streamed_output)\u001b[0m\n\u001b[1;32m    193\u001b[0m       \u001b[0mos\u001b[0m\u001b[0;34m.\u001b[0m\u001b[0mclose\u001b[0m\u001b[0;34m(\u001b[0m\u001b[0mchild_pty\u001b[0m\u001b[0;34m)\u001b[0m\u001b[0;34m\u001b[0m\u001b[0;34m\u001b[0m\u001b[0m\n\u001b[1;32m    194\u001b[0m \u001b[0;34m\u001b[0m\u001b[0m\n\u001b[0;32m--> 195\u001b[0;31m       \u001b[0;32mreturn\u001b[0m \u001b[0m_monitor_process\u001b[0m\u001b[0;34m(\u001b[0m\u001b[0mparent_pty\u001b[0m\u001b[0;34m,\u001b[0m \u001b[0mepoll\u001b[0m\u001b[0;34m,\u001b[0m \u001b[0mp\u001b[0m\u001b[0;34m,\u001b[0m \u001b[0mcmd\u001b[0m\u001b[0;34m,\u001b[0m \u001b[0mupdate_stdin_widget\u001b[0m\u001b[0;34m)\u001b[0m\u001b[0;34m\u001b[0m\u001b[0;34m\u001b[0m\u001b[0m\n\u001b[0m\u001b[1;32m    196\u001b[0m   \u001b[0;32mfinally\u001b[0m\u001b[0;34m:\u001b[0m\u001b[0;34m\u001b[0m\u001b[0;34m\u001b[0m\u001b[0m\n\u001b[1;32m    197\u001b[0m     \u001b[0mepoll\u001b[0m\u001b[0;34m.\u001b[0m\u001b[0mclose\u001b[0m\u001b[0;34m(\u001b[0m\u001b[0;34m)\u001b[0m\u001b[0;34m\u001b[0m\u001b[0;34m\u001b[0m\u001b[0m\n",
            "\u001b[0;32m/usr/local/lib/python3.6/dist-packages/google/colab/_system_commands.py\u001b[0m in \u001b[0;36m_monitor_process\u001b[0;34m(parent_pty, epoll, p, cmd, update_stdin_widget)\u001b[0m\n\u001b[1;32m    220\u001b[0m   \u001b[0;32mwhile\u001b[0m \u001b[0;32mTrue\u001b[0m\u001b[0;34m:\u001b[0m\u001b[0;34m\u001b[0m\u001b[0;34m\u001b[0m\u001b[0m\n\u001b[1;32m    221\u001b[0m     \u001b[0;32mtry\u001b[0m\u001b[0;34m:\u001b[0m\u001b[0;34m\u001b[0m\u001b[0;34m\u001b[0m\u001b[0m\n\u001b[0;32m--> 222\u001b[0;31m       \u001b[0mresult\u001b[0m \u001b[0;34m=\u001b[0m \u001b[0m_poll_process\u001b[0m\u001b[0;34m(\u001b[0m\u001b[0mparent_pty\u001b[0m\u001b[0;34m,\u001b[0m \u001b[0mepoll\u001b[0m\u001b[0;34m,\u001b[0m \u001b[0mp\u001b[0m\u001b[0;34m,\u001b[0m \u001b[0mcmd\u001b[0m\u001b[0;34m,\u001b[0m \u001b[0mdecoder\u001b[0m\u001b[0;34m,\u001b[0m \u001b[0mstate\u001b[0m\u001b[0;34m)\u001b[0m\u001b[0;34m\u001b[0m\u001b[0;34m\u001b[0m\u001b[0m\n\u001b[0m\u001b[1;32m    223\u001b[0m       \u001b[0;32mif\u001b[0m \u001b[0mresult\u001b[0m \u001b[0;32mis\u001b[0m \u001b[0;32mnot\u001b[0m \u001b[0;32mNone\u001b[0m\u001b[0;34m:\u001b[0m\u001b[0;34m\u001b[0m\u001b[0;34m\u001b[0m\u001b[0m\n\u001b[1;32m    224\u001b[0m         \u001b[0;32mreturn\u001b[0m \u001b[0mresult\u001b[0m\u001b[0;34m\u001b[0m\u001b[0;34m\u001b[0m\u001b[0m\n",
            "\u001b[0;32m/usr/local/lib/python3.6/dist-packages/google/colab/_system_commands.py\u001b[0m in \u001b[0;36m_poll_process\u001b[0;34m(parent_pty, epoll, p, cmd, decoder, state)\u001b[0m\n\u001b[1;32m    322\u001b[0m     \u001b[0;31m# TODO(b/115527726): Rather than sleep, poll for incoming messages from\u001b[0m\u001b[0;34m\u001b[0m\u001b[0;34m\u001b[0m\u001b[0;34m\u001b[0m\u001b[0m\n\u001b[1;32m    323\u001b[0m     \u001b[0;31m# the frontend in the same poll as for the output.\u001b[0m\u001b[0;34m\u001b[0m\u001b[0;34m\u001b[0m\u001b[0;34m\u001b[0m\u001b[0m\n\u001b[0;32m--> 324\u001b[0;31m     \u001b[0mtime\u001b[0m\u001b[0;34m.\u001b[0m\u001b[0msleep\u001b[0m\u001b[0;34m(\u001b[0m\u001b[0;36m0.1\u001b[0m\u001b[0;34m)\u001b[0m\u001b[0;34m\u001b[0m\u001b[0;34m\u001b[0m\u001b[0m\n\u001b[0m\u001b[1;32m    325\u001b[0m \u001b[0;34m\u001b[0m\u001b[0m\n\u001b[1;32m    326\u001b[0m \u001b[0;34m\u001b[0m\u001b[0m\n",
            "\u001b[0;31mKeyboardInterrupt\u001b[0m: "
          ]
        }
      ]
    },
    {
      "cell_type": "code",
      "metadata": {
        "id": "Seb1EY-ghfaZ",
        "colab_type": "code",
        "outputId": "437afa44-66b4-4780-b7ce-cfc4f429fce2",
        "colab": {
          "base_uri": "https://localhost:8080/",
          "height": 33
        }
      },
      "source": [
        "from models import InferSent\n",
        "import torch\n",
        "model_version = 1\n",
        "MODEL_PATH = \"encoder/infersent%s.pkl\" % model_version\n",
        "params_model = {'bsize': 64, 'word_emb_dim': 300, 'enc_lstm_dim': 2048,\n",
        "                'pool_type': 'max', 'dpout_model': 0.0, 'version': model_version}\n",
        "model = InferSent(params_model)\n",
        "model.load_state_dict(torch.load(MODEL_PATH))"
      ],
      "execution_count": 0,
      "outputs": [
        {
          "output_type": "execute_result",
          "data": {
            "text/plain": [
              "<All keys matched successfully>"
            ]
          },
          "metadata": {
            "tags": []
          },
          "execution_count": 3
        }
      ]
    },
    {
      "cell_type": "code",
      "metadata": {
        "id": "TJYz_BoFkbl6",
        "colab_type": "code",
        "outputId": "9661334b-08be-415f-8ffd-5d20e41dbb97",
        "colab": {
          "base_uri": "https://localhost:8080/",
          "height": 66
        }
      },
      "source": [
        "import nltk\n",
        "nltk.download('punkt')"
      ],
      "execution_count": 0,
      "outputs": [
        {
          "output_type": "stream",
          "text": [
            "[nltk_data] Downloading package punkt to /root/nltk_data...\n",
            "[nltk_data]   Unzipping tokenizers/punkt.zip.\n"
          ],
          "name": "stdout"
        },
        {
          "output_type": "execute_result",
          "data": {
            "text/plain": [
              "True"
            ]
          },
          "metadata": {
            "tags": []
          },
          "execution_count": 4
        }
      ]
    },
    {
      "cell_type": "code",
      "metadata": {
        "id": "yvdCv0mxkpiC",
        "colab_type": "code",
        "colab": {}
      },
      "source": [
        "\n",
        "# Keep it on CPU or put it on GPU\n",
        "use_cuda = True\n",
        "model = model.cuda() if use_cuda else model"
      ],
      "execution_count": 0,
      "outputs": []
    },
    {
      "cell_type": "code",
      "metadata": {
        "id": "h-iwPv4Vkwuw",
        "colab_type": "code",
        "colab": {}
      },
      "source": [
        "W2V_PATH = 'GloVe/glove.840B.300d.txt' if model_version == 1 else 'fastText/crawl-300d-2M.vec'\n",
        "model.set_w2v_path(W2V_PATH)"
      ],
      "execution_count": 0,
      "outputs": []
    },
    {
      "cell_type": "code",
      "metadata": {
        "id": "GGudEAsyl7za",
        "colab_type": "code",
        "colab": {}
      },
      "source": [
        "import pandas as pd\n",
        "import numpy as np"
      ],
      "execution_count": 0,
      "outputs": []
    },
    {
      "cell_type": "code",
      "metadata": {
        "id": "rSXLilJdGzgX",
        "colab_type": "code",
        "outputId": "68db1cb1-3de3-493b-e687-74ede8cff2c8",
        "colab": {
          "base_uri": "https://localhost:8080/",
          "height": 191
        }
      },
      "source": [
        "df=pd.read_csv('live_tweet.csv')\n",
        "df.head()"
      ],
      "execution_count": 0,
      "outputs": [
        {
          "output_type": "execute_result",
          "data": {
            "text/html": [
              "<div>\n",
              "<style scoped>\n",
              "    .dataframe tbody tr th:only-of-type {\n",
              "        vertical-align: middle;\n",
              "    }\n",
              "\n",
              "    .dataframe tbody tr th {\n",
              "        vertical-align: top;\n",
              "    }\n",
              "\n",
              "    .dataframe thead th {\n",
              "        text-align: right;\n",
              "    }\n",
              "</style>\n",
              "<table border=\"1\" class=\"dataframe\">\n",
              "  <thead>\n",
              "    <tr style=\"text-align: right;\">\n",
              "      <th></th>\n",
              "      <th>Unnamed: 0</th>\n",
              "      <th>tweets</th>\n",
              "    </tr>\n",
              "  </thead>\n",
              "  <tbody>\n",
              "    <tr>\n",
              "      <th>0</th>\n",
              "      <td>0</td>\n",
              "      <td>@RaniaKhalek People should understand that vir...</td>\n",
              "    </tr>\n",
              "    <tr>\n",
              "      <th>1</th>\n",
              "      <td>1</td>\n",
              "      <td>RT @bainjal: Leaked audio of Finance Minister ...</td>\n",
              "    </tr>\n",
              "    <tr>\n",
              "      <th>2</th>\n",
              "      <td>2</td>\n",
              "      <td>RT @drharshvardhan: Don’t chase the Sanitizer\\...</td>\n",
              "    </tr>\n",
              "    <tr>\n",
              "      <th>3</th>\n",
              "      <td>3</td>\n",
              "      <td>RT @DrAMSinghvi: Bill moved by me in the Rajya...</td>\n",
              "    </tr>\n",
              "    <tr>\n",
              "      <th>4</th>\n",
              "      <td>4</td>\n",
              "      <td>@F1 can we have an event hosted in India under...</td>\n",
              "    </tr>\n",
              "  </tbody>\n",
              "</table>\n",
              "</div>"
            ],
            "text/plain": [
              "   Unnamed: 0                                             tweets\n",
              "0           0  @RaniaKhalek People should understand that vir...\n",
              "1           1  RT @bainjal: Leaked audio of Finance Minister ...\n",
              "2           2  RT @drharshvardhan: Don’t chase the Sanitizer\\...\n",
              "3           3  RT @DrAMSinghvi: Bill moved by me in the Rajya...\n",
              "4           4  @F1 can we have an event hosted in India under..."
            ]
          },
          "metadata": {
            "tags": []
          },
          "execution_count": 41
        }
      ]
    },
    {
      "cell_type": "code",
      "metadata": {
        "id": "Oc60n21slUHy",
        "colab_type": "code",
        "outputId": "91e53118-54f0-4a97-ca1e-154b6dda67bb",
        "colab": {
          "base_uri": "https://localhost:8080/",
          "height": 33
        }
      },
      "source": [
        "len(df)"
      ],
      "execution_count": 0,
      "outputs": [
        {
          "output_type": "execute_result",
          "data": {
            "text/plain": [
              "20056"
            ]
          },
          "metadata": {
            "tags": []
          },
          "execution_count": 42
        }
      ]
    },
    {
      "cell_type": "code",
      "metadata": {
        "id": "NfaFiHHfSwko",
        "colab_type": "code",
        "colab": {}
      },
      "source": [
        "sentences=df['tweets'].tolist()"
      ],
      "execution_count": 0,
      "outputs": []
    },
    {
      "cell_type": "code",
      "metadata": {
        "id": "9Pb05y6rk1H6",
        "colab_type": "code",
        "outputId": "05c7f144-d9c8-480e-a1aa-cc4c5735a9de",
        "colab": {
          "base_uri": "https://localhost:8080/",
          "height": 50
        }
      },
      "source": [
        "model.build_vocab(sentences, tokenize=True)"
      ],
      "execution_count": 0,
      "outputs": [
        {
          "output_type": "stream",
          "text": [
            "Found 14542(/28001) words with w2v vectors\n",
            "Vocab size : 14542\n"
          ],
          "name": "stdout"
        }
      ]
    },
    {
      "cell_type": "code",
      "metadata": {
        "id": "ED9ceztUeWFf",
        "colab_type": "code",
        "outputId": "47c2ffe6-b298-4fd7-e441-bab88fb8be6e",
        "colab": {
          "base_uri": "https://localhost:8080/",
          "height": 33
        }
      },
      "source": [
        "query=input()\n",
        "sent2=[query]"
      ],
      "execution_count": 0,
      "outputs": [
        {
          "output_type": "stream",
          "text": [
            "Delhi riots\n"
          ],
          "name": "stdout"
        }
      ]
    },
    {
      "cell_type": "code",
      "metadata": {
        "id": "emlRuhyoeyWj",
        "colab_type": "code",
        "outputId": "af5b0299-4196-46c0-a06c-bdba8aa35044",
        "colab": {
          "base_uri": "https://localhost:8080/",
          "height": 33
        }
      },
      "source": [
        "sent2"
      ],
      "execution_count": 0,
      "outputs": [
        {
          "output_type": "execute_result",
          "data": {
            "text/plain": [
              "['Delhi riots']"
            ]
          },
          "metadata": {
            "tags": []
          },
          "execution_count": 14
        }
      ]
    },
    {
      "cell_type": "code",
      "metadata": {
        "id": "g-78_KzrX3gE",
        "colab_type": "code",
        "outputId": "45d8d289-c7ca-4a95-c415-1a4fce41359e",
        "colab": {
          "base_uri": "https://localhost:8080/",
          "height": 50
        }
      },
      "source": [
        "model.update_vocab(sent2)"
      ],
      "execution_count": 0,
      "outputs": [
        {
          "output_type": "stream",
          "text": [
            "Found 0(/1) words with w2v vectors\n",
            "New vocab size : 4533 (added 0 words)\n"
          ],
          "name": "stdout"
        }
      ]
    },
    {
      "cell_type": "code",
      "metadata": {
        "id": "fbZmMhhcYg1X",
        "colab_type": "code",
        "outputId": "59abd35e-099c-4264-d859-e9a9d7c92dda",
        "colab": {
          "base_uri": "https://localhost:8080/",
          "height": 33
        }
      },
      "source": [
        "embeddings = model.encode(sentences, bsize=128)\n",
        "print('nb sentences encoded : {0}'.format(len(embeddings)))"
      ],
      "execution_count": 0,
      "outputs": [
        {
          "output_type": "stream",
          "text": [
            "nb sentences encoded : 20056\n"
          ],
          "name": "stdout"
        }
      ]
    },
    {
      "cell_type": "code",
      "metadata": {
        "id": "U0kFt47Tk_ff",
        "colab_type": "code",
        "outputId": "ca6da7fb-a3d9-4e22-dae6-91e451064023",
        "colab": {
          "base_uri": "https://localhost:8080/",
          "height": 66
        }
      },
      "source": [
        "#embeddings = model.encode(sentences, bsize=128, tokenize=False, verbose=True)\n",
        "#print('nb sentences encoded : {0}'.format(len(embeddings)))"
      ],
      "execution_count": 0,
      "outputs": [
        {
          "output_type": "stream",
          "text": [
            "Nb words kept : 29723/39403 (75.4%)\n",
            "Speed : 37.6 sentences/s (cpu mode, bsize=128)\n",
            "nb sentences encoded : 2000\n"
          ],
          "name": "stdout"
        }
      ]
    },
    {
      "cell_type": "code",
      "metadata": {
        "id": "JlylbKY9lL6C",
        "colab_type": "code",
        "colab": {}
      },
      "source": [
        "def cosine(u, v):\n",
        "    return np.dot(u, v) / (np.linalg.norm(u) * np.linalg.norm(v))"
      ],
      "execution_count": 0,
      "outputs": []
    },
    {
      "cell_type": "code",
      "metadata": {
        "id": "Eq0PMFUlILkO",
        "colab_type": "code",
        "outputId": "04e6bd5e-b5de-4116-a34a-9c9db00151b7",
        "colab": {
          "base_uri": "https://localhost:8080/",
          "height": 50
        }
      },
      "source": [
        "embeddings[1]"
      ],
      "execution_count": 0,
      "outputs": [
        {
          "output_type": "execute_result",
          "data": {
            "text/plain": [
              "array([0.05731931, 0.13585961, 0.11496196, ..., 0.        , 0.08438367,\n",
              "       0.07925383], dtype=float32)"
            ]
          },
          "metadata": {
            "tags": []
          },
          "execution_count": 17
        }
      ]
    },
    {
      "cell_type": "code",
      "metadata": {
        "id": "ao3wDq_ifcj4",
        "colab_type": "code",
        "outputId": "d142e767-1ef9-47d6-b312-95c567a9b7dd",
        "colab": {
          "base_uri": "https://localhost:8080/",
          "height": 33
        }
      },
      "source": [
        "query2=model.encode(sent2)[0]\n",
        "len(query2)"
      ],
      "execution_count": 0,
      "outputs": [
        {
          "output_type": "execute_result",
          "data": {
            "text/plain": [
              "4096"
            ]
          },
          "metadata": {
            "tags": []
          },
          "execution_count": 18
        }
      ]
    },
    {
      "cell_type": "code",
      "metadata": {
        "id": "XaKmtO5JRPf8",
        "colab_type": "code",
        "colab": {}
      },
      "source": [
        "import time\n",
        "start=time.time() \n",
        "label=[]\n",
        "query2=model.encode(sent2)[0]\n",
        "for i in range(len(embeddings)):\n",
        "  \n",
        "  r=cosine(query2,embeddings[i])\n",
        "  label.append([i,r])\n",
        "  "
      ],
      "execution_count": 0,
      "outputs": []
    },
    {
      "cell_type": "code",
      "metadata": {
        "id": "nXkl_04kR1xT",
        "colab_type": "code",
        "outputId": "761829e1-d37a-45ea-bf0e-7979e5d1603f",
        "colab": {
          "base_uri": "https://localhost:8080/",
          "height": 180
        }
      },
      "source": [
        "label[:10]"
      ],
      "execution_count": 0,
      "outputs": [
        {
          "output_type": "execute_result",
          "data": {
            "text/plain": [
              "[[0, 0.10443588324728266],\n",
              " [1, 0.24265742600068482],\n",
              " [2, 0.08106836554533055],\n",
              " [3, 0.20437415074940335],\n",
              " [4, 0.22912096199077736],\n",
              " [5, 0.04433247786417467],\n",
              " [6, 0.12426184153807181],\n",
              " [7, 0.21790849073462232],\n",
              " [8, 0.10261531039362988],\n",
              " [9, 0.31183878629741285]]"
            ]
          },
          "metadata": {
            "tags": []
          },
          "execution_count": 34
        }
      ]
    },
    {
      "cell_type": "code",
      "metadata": {
        "id": "9Q2daCfILBiu",
        "colab_type": "code",
        "colab": {}
      },
      "source": [
        "label=sorted(label,key=lambda l:l[1], reverse=True)\n"
      ],
      "execution_count": 0,
      "outputs": []
    },
    {
      "cell_type": "code",
      "metadata": {
        "id": "_nMROr9GZuJj",
        "colab_type": "code",
        "outputId": "7e827b2b-ab6f-4b12-e675-3b4e610ffeb3",
        "colab": {
          "base_uri": "https://localhost:8080/",
          "height": 423
        }
      },
      "source": [
        "\n",
        "label[:25]"
      ],
      "execution_count": 0,
      "outputs": [
        {
          "output_type": "execute_result",
          "data": {
            "text/plain": [
              "[[437, 0.39349751549451395],\n",
              " [1356, 0.36132332373740994],\n",
              " [99, 0.331307313532439],\n",
              " [482, 0.3309579759729943],\n",
              " [539, 0.3309579759729943],\n",
              " [882, 0.3309579759729943],\n",
              " [966, 0.3309579759729943],\n",
              " [1064, 0.3309579759729943],\n",
              " [1506, 0.3309579759729943],\n",
              " [1062, 0.33001788587372743],\n",
              " [700, 0.3300178841825376],\n",
              " [866, 0.3300178841825376],\n",
              " [1707, 0.3300178841825376],\n",
              " [78, 0.32879012965300924],\n",
              " [1292, 0.32728869515950587],\n",
              " [736, 0.32220124408816625],\n",
              " [1976, 0.319308965642642],\n",
              " [175, 0.31421526358113555],\n",
              " [1258, 0.31421526358113555],\n",
              " [1538, 0.31421526358113555],\n",
              " [1933, 0.31421526358113555],\n",
              " [9, 0.31183878629741285],\n",
              " [432, 0.31183878629741285],\n",
              " [1270, 0.31183878629741285],\n",
              " [1285, 0.31183878629741285]]"
            ]
          },
          "metadata": {
            "tags": []
          },
          "execution_count": 36
        }
      ]
    },
    {
      "cell_type": "code",
      "metadata": {
        "id": "lxGSuJPHuA_G",
        "colab_type": "code",
        "colab": {}
      },
      "source": [
        "index_2=[i[1] for i in label[:10]]"
      ],
      "execution_count": 0,
      "outputs": []
    },
    {
      "cell_type": "code",
      "metadata": {
        "id": "Ws3Tchv4EnoM",
        "colab_type": "code",
        "outputId": "46fc4835-582e-458e-8ea9-b85753c2405e",
        "colab": {
          "base_uri": "https://localhost:8080/",
          "height": 33
        }
      },
      "source": [
        "import statistics \n",
        "x = statistics.mean(index_2)\n",
        "print(x)"
      ],
      "execution_count": 0,
      "outputs": [
        {
          "output_type": "stream",
          "text": [
            "0.34018938944760563\n"
          ],
          "name": "stdout"
        }
      ]
    },
    {
      "cell_type": "code",
      "metadata": {
        "id": "9XM5ApvlU_lU",
        "colab_type": "code",
        "colab": {}
      },
      "source": [
        "index=[i[0] for i in label[:1000]]\n"
      ],
      "execution_count": 0,
      "outputs": []
    },
    {
      "cell_type": "code",
      "metadata": {
        "id": "BFgwMnRJWNCr",
        "colab_type": "code",
        "outputId": "5a9f7d15-db5c-42e5-e5da-ad661d34c0da",
        "colab": {
          "base_uri": "https://localhost:8080/",
          "height": 33
        }
      },
      "source": [
        "len(index)"
      ],
      "execution_count": 0,
      "outputs": [
        {
          "output_type": "execute_result",
          "data": {
            "text/plain": [
              "1000"
            ]
          },
          "metadata": {
            "tags": []
          },
          "execution_count": 24
        }
      ]
    },
    {
      "cell_type": "code",
      "metadata": {
        "id": "reeJfI9Vpdky",
        "colab_type": "code",
        "outputId": "e91c65dd-c615-42d5-eaaf-56d8047eb5ed",
        "colab": {
          "base_uri": "https://localhost:8080/",
          "height": 1000
        }
      },
      "source": [
        "index"
      ],
      "execution_count": 0,
      "outputs": [
        {
          "output_type": "execute_result",
          "data": {
            "text/plain": [
              "[1412,\n",
              " 124,\n",
              " 198,\n",
              " 1173,\n",
              " 244,\n",
              " 626,\n",
              " 1763,\n",
              " 4,\n",
              " 1640,\n",
              " 193,\n",
              " 1141,\n",
              " 428,\n",
              " 1885,\n",
              " 246,\n",
              " 1571,\n",
              " 1313,\n",
              " 520,\n",
              " 418,\n",
              " 994,\n",
              " 996,\n",
              " 1184,\n",
              " 400,\n",
              " 1063,\n",
              " 125,\n",
              " 995,\n",
              " 1340,\n",
              " 1791,\n",
              " 373,\n",
              " 940,\n",
              " 665,\n",
              " 963,\n",
              " 1532,\n",
              " 186,\n",
              " 1404,\n",
              " 1652,\n",
              " 152,\n",
              " 322,\n",
              " 327,\n",
              " 760,\n",
              " 863,\n",
              " 912,\n",
              " 958,\n",
              " 1206,\n",
              " 1400,\n",
              " 1471,\n",
              " 1011,\n",
              " 155,\n",
              " 453,\n",
              " 1349,\n",
              " 1414,\n",
              " 703,\n",
              " 768,\n",
              " 421,\n",
              " 1881,\n",
              " 46,\n",
              " 1390,\n",
              " 1166,\n",
              " 159,\n",
              " 588,\n",
              " 583,\n",
              " 1990,\n",
              " 45,\n",
              " 273,\n",
              " 637,\n",
              " 129,\n",
              " 573,\n",
              " 832,\n",
              " 898,\n",
              " 952,\n",
              " 1382,\n",
              " 1704,\n",
              " 44,\n",
              " 63,\n",
              " 391,\n",
              " 484,\n",
              " 1482,\n",
              " 1789,\n",
              " 1960,\n",
              " 1468,\n",
              " 1896,\n",
              " 1738,\n",
              " 1092,\n",
              " 2,\n",
              " 286,\n",
              " 303,\n",
              " 646,\n",
              " 790,\n",
              " 807,\n",
              " 1149,\n",
              " 1196,\n",
              " 1447,\n",
              " 1485,\n",
              " 641,\n",
              " 1607,\n",
              " 1909,\n",
              " 1772,\n",
              " 55,\n",
              " 1512,\n",
              " 737,\n",
              " 429,\n",
              " 814,\n",
              " 239,\n",
              " 805,\n",
              " 1351,\n",
              " 1601,\n",
              " 1799,\n",
              " 561,\n",
              " 1684,\n",
              " 1555,\n",
              " 134,\n",
              " 600,\n",
              " 606,\n",
              " 885,\n",
              " 1129,\n",
              " 1115,\n",
              " 1639,\n",
              " 1168,\n",
              " 1178,\n",
              " 1590,\n",
              " 1815,\n",
              " 337,\n",
              " 873,\n",
              " 795,\n",
              " 1478,\n",
              " 677,\n",
              " 747,\n",
              " 749,\n",
              " 1720,\n",
              " 1827,\n",
              " 1619,\n",
              " 1016,\n",
              " 682,\n",
              " 1172,\n",
              " 1319,\n",
              " 334,\n",
              " 1812,\n",
              " 1513,\n",
              " 1391,\n",
              " 1497,\n",
              " 111,\n",
              " 505,\n",
              " 603,\n",
              " 649,\n",
              " 1641,\n",
              " 1578,\n",
              " 856,\n",
              " 1334,\n",
              " 593,\n",
              " 854,\n",
              " 1473,\n",
              " 103,\n",
              " 299,\n",
              " 629,\n",
              " 1280,\n",
              " 483,\n",
              " 146,\n",
              " 638,\n",
              " 1320,\n",
              " 1674,\n",
              " 965,\n",
              " 1142,\n",
              " 1229,\n",
              " 1053,\n",
              " 971,\n",
              " 592,\n",
              " 724,\n",
              " 852,\n",
              " 1739,\n",
              " 228,\n",
              " 192,\n",
              " 206,\n",
              " 283,\n",
              " 364,\n",
              " 387,\n",
              " 1010,\n",
              " 1041,\n",
              " 1235,\n",
              " 1459,\n",
              " 1688,\n",
              " 1695,\n",
              " 1891,\n",
              " 452,\n",
              " 1233,\n",
              " 0,\n",
              " 1792,\n",
              " 1440,\n",
              " 740,\n",
              " 414,\n",
              " 660,\n",
              " 1643,\n",
              " 667,\n",
              " 617,\n",
              " 1993,\n",
              " 26,\n",
              " 65,\n",
              " 1421,\n",
              " 325,\n",
              " 1947,\n",
              " 229,\n",
              " 294,\n",
              " 339,\n",
              " 378,\n",
              " 392,\n",
              " 769,\n",
              " 789,\n",
              " 664,\n",
              " 612,\n",
              " 1389,\n",
              " 288,\n",
              " 491,\n",
              " 56,\n",
              " 71,\n",
              " 302,\n",
              " 342,\n",
              " 345,\n",
              " 350,\n",
              " 451,\n",
              " 704,\n",
              " 728,\n",
              " 397,\n",
              " 508,\n",
              " 510,\n",
              " 800,\n",
              " 1147,\n",
              " 1658,\n",
              " 1941,\n",
              " 1069,\n",
              " 1283,\n",
              " 656,\n",
              " 1028,\n",
              " 363,\n",
              " 1300,\n",
              " 1375,\n",
              " 1436,\n",
              " 1872,\n",
              " 1201,\n",
              " 1101,\n",
              " 314,\n",
              " 1983,\n",
              " 1813,\n",
              " 1384,\n",
              " 1651,\n",
              " 439,\n",
              " 1084,\n",
              " 96,\n",
              " 1484,\n",
              " 1631,\n",
              " 1818,\n",
              " 13,\n",
              " 607,\n",
              " 518,\n",
              " 191,\n",
              " 267,\n",
              " 290,\n",
              " 291,\n",
              " 458,\n",
              " 543,\n",
              " 598,\n",
              " 602,\n",
              " 824,\n",
              " 867,\n",
              " 914,\n",
              " 937,\n",
              " 743,\n",
              " 225,\n",
              " 1838,\n",
              " 802,\n",
              " 408,\n",
              " 1043,\n",
              " 563,\n",
              " 639,\n",
              " 1579,\n",
              " 1270,\n",
              " 144,\n",
              " 502,\n",
              " 1425,\n",
              " 1879,\n",
              " 128,\n",
              " 1256,\n",
              " 257,\n",
              " 1342,\n",
              " 1241,\n",
              " 1289,\n",
              " 1917,\n",
              " 1893,\n",
              " 900,\n",
              " 176,\n",
              " 1148,\n",
              " 1729,\n",
              " 1549,\n",
              " 1132,\n",
              " 987,\n",
              " 48,\n",
              " 232,\n",
              " 1849,\n",
              " 138,\n",
              " 714,\n",
              " 1593,\n",
              " 685,\n",
              " 1038,\n",
              " 1073,\n",
              " 1401,\n",
              " 605,\n",
              " 116,\n",
              " 808,\n",
              " 913,\n",
              " 1759,\n",
              " 1913,\n",
              " 431,\n",
              " 669,\n",
              " 925,\n",
              " 1338,\n",
              " 316,\n",
              " 1225,\n",
              " 1842,\n",
              " 710,\n",
              " 1347,\n",
              " 813,\n",
              " 1080,\n",
              " 211,\n",
              " 1307,\n",
              " 417,\n",
              " 652,\n",
              " 820,\n",
              " 902,\n",
              " 1435,\n",
              " 200,\n",
              " 393,\n",
              " 668,\n",
              " 745,\n",
              " 25,\n",
              " 261,\n",
              " 1560,\n",
              " 217,\n",
              " 1621,\n",
              " 1737,\n",
              " 1592,\n",
              " 338,\n",
              " 636,\n",
              " 1374,\n",
              " 1277,\n",
              " 1203,\n",
              " 121,\n",
              " 528,\n",
              " 627,\n",
              " 1061,\n",
              " 1001,\n",
              " 157,\n",
              " 413,\n",
              " 1137,\n",
              " 1328,\n",
              " 1790,\n",
              " 21,\n",
              " 1411,\n",
              " 54,\n",
              " 440,\n",
              " 1108,\n",
              " 1357,\n",
              " 1959,\n",
              " 752,\n",
              " 1052,\n",
              " 1219,\n",
              " 62,\n",
              " 501,\n",
              " 1045,\n",
              " 12,\n",
              " 1226,\n",
              " 1027,\n",
              " 1122,\n",
              " 888,\n",
              " 1285,\n",
              " 1625,\n",
              " 115,\n",
              " 131,\n",
              " 859,\n",
              " 76,\n",
              " 1000,\n",
              " 1986,\n",
              " 1732,\n",
              " 1807,\n",
              " 1589,\n",
              " 798,\n",
              " 1176,\n",
              " 1925,\n",
              " 1964,\n",
              " 1966,\n",
              " 1696,\n",
              " 42,\n",
              " 631,\n",
              " 52,\n",
              " 80,\n",
              " 604,\n",
              " 1171,\n",
              " 1365,\n",
              " 355,\n",
              " 356,\n",
              " 362,\n",
              " 382,\n",
              " 675,\n",
              " 939,\n",
              " 1048,\n",
              " 1114,\n",
              " 1135,\n",
              " 1243,\n",
              " 1352,\n",
              " 1709,\n",
              " 1902,\n",
              " 1907,\n",
              " 1946,\n",
              " 1976,\n",
              " 823,\n",
              " 1638,\n",
              " 1876,\n",
              " 935,\n",
              " 1764,\n",
              " 269,\n",
              " 1258,\n",
              " 1724,\n",
              " 1856,\n",
              " 1854,\n",
              " 878,\n",
              " 1899,\n",
              " 264,\n",
              " 70,\n",
              " 271,\n",
              " 398,\n",
              " 521,\n",
              " 582,\n",
              " 585,\n",
              " 950,\n",
              " 1385,\n",
              " 1449,\n",
              " 1518,\n",
              " 1541,\n",
              " 1725,\n",
              " 1821,\n",
              " 1228,\n",
              " 30,\n",
              " 38,\n",
              " 1521,\n",
              " 1427,\n",
              " 34,\n",
              " 75,\n",
              " 81,\n",
              " 812,\n",
              " 1804,\n",
              " 591,\n",
              " 570,\n",
              " 1246,\n",
              " 1659,\n",
              " 1861,\n",
              " 674,\n",
              " 250,\n",
              " 416,\n",
              " 919,\n",
              " 949,\n",
              " 1845,\n",
              " 344,\n",
              " 1100,\n",
              " 1428,\n",
              " 1496,\n",
              " 1533,\n",
              " 1605,\n",
              " 1644,\n",
              " 172,\n",
              " 599,\n",
              " 1634,\n",
              " 1690,\n",
              " 1091,\n",
              " 781,\n",
              " 102,\n",
              " 1988,\n",
              " 465,\n",
              " 837,\n",
              " 1162,\n",
              " 1701,\n",
              " 1848,\n",
              " 1906,\n",
              " 170,\n",
              " 329,\n",
              " 514,\n",
              " 622,\n",
              " 907,\n",
              " 1068,\n",
              " 1534,\n",
              " 1646,\n",
              " 1919,\n",
              " 282,\n",
              " 248,\n",
              " 1600,\n",
              " 219,\n",
              " 374,\n",
              " 687,\n",
              " 833,\n",
              " 1144,\n",
              " 1650,\n",
              " 1847,\n",
              " 276,\n",
              " 323,\n",
              " 332,\n",
              " 460,\n",
              " 494,\n",
              " 727,\n",
              " 336,\n",
              " 1942,\n",
              " 1522,\n",
              " 1924,\n",
              " 615,\n",
              " 368,\n",
              " 165,\n",
              " 966,\n",
              " 985,\n",
              " 1596,\n",
              " 908,\n",
              " 975,\n",
              " 944,\n",
              " 1287,\n",
              " 1776,\n",
              " 946,\n",
              " 774,\n",
              " 1803,\n",
              " 1875,\n",
              " 133,\n",
              " 1257,\n",
              " 1972,\n",
              " 28,\n",
              " 252,\n",
              " 262,\n",
              " 298,\n",
              " 349,\n",
              " 385,\n",
              " 470,\n",
              " 506,\n",
              " 625,\n",
              " 630,\n",
              " 678,\n",
              " 732,\n",
              " 750,\n",
              " 765,\n",
              " 771,\n",
              " 775,\n",
              " 988,\n",
              " 989,\n",
              " 1042,\n",
              " 1079,\n",
              " 1128,\n",
              " 1293,\n",
              " 1410,\n",
              " 1475,\n",
              " 1499,\n",
              " 1612,\n",
              " 1718,\n",
              " 1762,\n",
              " 1910,\n",
              " 1954,\n",
              " 943,\n",
              " 1087,\n",
              " 179,\n",
              " 3,\n",
              " 174,\n",
              " 931,\n",
              " 951,\n",
              " 371,\n",
              " 1694,\n",
              " 1661,\n",
              " 101,\n",
              " 33,\n",
              " 149,\n",
              " 1157,\n",
              " 83,\n",
              " 1698,\n",
              " 1747,\n",
              " 974,\n",
              " 1126,\n",
              " 1332,\n",
              " 1500,\n",
              " 1558,\n",
              " 1689,\n",
              " 865,\n",
              " 1998,\n",
              " 797,\n",
              " 1971,\n",
              " 1107,\n",
              " 1064,\n",
              " 1406,\n",
              " 1160,\n",
              " 712,\n",
              " 1465,\n",
              " 1681,\n",
              " 1905,\n",
              " 1030,\n",
              " 616,\n",
              " 253,\n",
              " 567,\n",
              " 1356,\n",
              " 1360,\n",
              " 1711,\n",
              " 476,\n",
              " 910,\n",
              " 1811,\n",
              " 840,\n",
              " 1040,\n",
              " 1204,\n",
              " 1486,\n",
              " 986,\n",
              " 1540,\n",
              " 1516,\n",
              " 1251,\n",
              " 610,\n",
              " 871,\n",
              " 438,\n",
              " 93,\n",
              " 255,\n",
              " 1333,\n",
              " 1451,\n",
              " 1103,\n",
              " 94,\n",
              " 99,\n",
              " 126,\n",
              " 243,\n",
              " 270,\n",
              " 430,\n",
              " 541,\n",
              " 1089,\n",
              " 1182,\n",
              " 1208,\n",
              " 1216,\n",
              " 1276,\n",
              " 1481,\n",
              " 1706,\n",
              " 372,\n",
              " 24,\n",
              " 1296,\n",
              " 462,\n",
              " 1527,\n",
              " 279,\n",
              " 1119,\n",
              " 212,\n",
              " 1265,\n",
              " 487,\n",
              " 180,\n",
              " 1097,\n",
              " 1098,\n",
              " 1324,\n",
              " 1743,\n",
              " 580,\n",
              " 1895,\n",
              " 384,\n",
              " 613,\n",
              " 1788,\n",
              " 1878,\n",
              " 1104,\n",
              " 117,\n",
              " 1745,\n",
              " 1865,\n",
              " 8,\n",
              " 401,\n",
              " 447,\n",
              " 1006,\n",
              " 1174,\n",
              " 1195,\n",
              " 1350,\n",
              " 1361,\n",
              " 1548,\n",
              " 1649,\n",
              " 1675,\n",
              " 1805,\n",
              " 1903,\n",
              " 1829,\n",
              " 1078,\n",
              " 511,\n",
              " 1897,\n",
              " 847,\n",
              " 731,\n",
              " 756,\n",
              " 197,\n",
              " 1543,\n",
              " 1472,\n",
              " 829,\n",
              " 459,\n",
              " 858,\n",
              " 1253,\n",
              " 173,\n",
              " 545,\n",
              " 881,\n",
              " 1376,\n",
              " 1819,\n",
              " 1450,\n",
              " 848,\n",
              " 72,\n",
              " 148,\n",
              " 658,\n",
              " 701,\n",
              " 766,\n",
              " 1736,\n",
              " 809,\n",
              " 572,\n",
              " 16,\n",
              " 140,\n",
              " 202,\n",
              " 489,\n",
              " 512,\n",
              " 695,\n",
              " 735,\n",
              " 742,\n",
              " 770,\n",
              " 973,\n",
              " 993,\n",
              " 1096,\n",
              " 1260,\n",
              " 1295,\n",
              " 1305,\n",
              " 1355,\n",
              " 1573,\n",
              " 1574,\n",
              " 1586,\n",
              " 1632,\n",
              " 1749,\n",
              " 1773,\n",
              " 1970,\n",
              " 215,\n",
              " 15,\n",
              " 37,\n",
              " 194,\n",
              " 199,\n",
              " 201,\n",
              " 263,\n",
              " 360,\n",
              " 461,\n",
              " 522,\n",
              " 523,\n",
              " 547,\n",
              " 553,\n",
              " 671,\n",
              " 979,\n",
              " 1031,\n",
              " 1033,\n",
              " 1093,\n",
              " 1109,\n",
              " 1152,\n",
              " 1254,\n",
              " 1302,\n",
              " 1314,\n",
              " 1348,\n",
              " 1354,\n",
              " 1377,\n",
              " 1434,\n",
              " 1477,\n",
              " 1504,\n",
              " 1608,\n",
              " 1691,\n",
              " 1710,\n",
              " 1755,\n",
              " 1782,\n",
              " 1796,\n",
              " 1952,\n",
              " 1953,\n",
              " 984,\n",
              " 844,\n",
              " 524,\n",
              " 601,\n",
              " 426,\n",
              " 1210,\n",
              " 1165,\n",
              " 488,\n",
              " 366,\n",
              " 1667,\n",
              " 1938,\n",
              " 1179,\n",
              " 1613,\n",
              " 1515,\n",
              " 1537,\n",
              " 1666,\n",
              " 1686,\n",
              " 1539,\n",
              " 207,\n",
              " 281,\n",
              " 549,\n",
              " 1528,\n",
              " 1779,\n",
              " 1968,\n",
              " 22,\n",
              " 1538,\n",
              " 359,\n",
              " 386,\n",
              " 389,\n",
              " 415,\n",
              " 475,\n",
              " 517,\n",
              " 530,\n",
              " 581,\n",
              " 1076,\n",
              " 1088,\n",
              " 1116,\n",
              " 1255,\n",
              " 1281,\n",
              " 1290,\n",
              " 1585,\n",
              " 1609,\n",
              " 1635,\n",
              " 1758,\n",
              " 1786,\n",
              " 1892,\n",
              " 584,\n",
              " 777,\n",
              " 815,\n",
              " 915,\n",
              " 917,\n",
              " 927,\n",
              " 1200,\n",
              " 1765,\n",
              " 104,\n",
              " 324,\n",
              " 686,\n",
              " 1026,\n",
              " 1530,\n",
              " 1161,\n",
              " 423,\n",
              " 535,\n",
              " 82,\n",
              " 826,\n",
              " 849,\n",
              " 1039,\n",
              " 1099,\n",
              " 1194,\n",
              " 1212,\n",
              " 1213,\n",
              " 1825,\n",
              " 1836,\n",
              " 1883,\n",
              " 1207,\n",
              " 1367,\n",
              " 424,\n",
              " 1615,\n",
              " 634,\n",
              " 1419,\n",
              " 1003,\n",
              " 538,\n",
              " 1618,\n",
              " 1511,\n",
              " 178,\n",
              " 127,\n",
              " 690,\n",
              " 442,\n",
              " 1297,\n",
              " 614,\n",
              " 1978,\n",
              " 942,\n",
              " 1395,\n",
              " 799,\n",
              " 889,\n",
              " 1956,\n",
              " 1240,\n",
              " 1,\n",
              " 540,\n",
              " 507,\n",
              " 1331,\n",
              " 1662,\n",
              " 527,\n",
              " 967,\n",
              " 961,\n",
              " 862,\n",
              " 1509,\n",
              " 1544,\n",
              " 185,\n",
              " 932,\n",
              " 1227,\n",
              " 1131,\n",
              " 106,\n",
              " 449,\n",
              " 434,\n",
              " 903,\n",
              " 256,\n",
              " 317,\n",
              " 361,\n",
              " 645,\n",
              " 911,\n",
              " 242,\n",
              " 525,\n",
              " 100,\n",
              " 1542,\n",
              " 792,\n",
              " 1712,\n",
              " 1413,\n",
              " 920,\n",
              " 666,\n",
              " 1957,\n",
              " 648,\n",
              " 1977,\n",
              " 733,\n",
              " 933,\n",
              " 1531,\n",
              " 1506,\n",
              " 67,\n",
              " 1680,\n",
              " 1817,\n",
              " 158,\n",
              " 1209,\n",
              " 672,\n",
              " 61,\n",
              " 188,\n",
              " 258,\n",
              " 266,\n",
              " 306,\n",
              " 427,\n",
              " 531,\n",
              " 692,\n",
              " 896,\n",
              " 904,\n",
              " 959,\n",
              " 1110,\n",
              " 1446,\n",
              " 1479,\n",
              " 1949,\n",
              " 375,\n",
              " 1423,\n",
              " 92,\n",
              " 169,\n",
              " 1778,\n",
              " 855,\n",
              " 1086,\n",
              " 624,\n",
              " 647,\n",
              " 425,\n",
              " 1163,\n",
              " 1460,\n",
              " 57,\n",
              " 930,\n",
              " 1734,\n",
              " 1552,\n",
              " 1806,\n",
              " 1058,\n",
              " 1933,\n",
              " 753,\n",
              " 1630,\n",
              " 1824,\n",
              " 293,\n",
              " 1748,\n",
              " 444,\n",
              " 1008,\n",
              " 1075,\n",
              " 1353,\n",
              " 1886,\n",
              " 135,\n",
              " 213,\n",
              " 1713,\n",
              " 1702,\n",
              " 315,\n",
              " 509,\n",
              " 700,\n",
              " 954,\n",
              " 1252,\n",
              " 1857,\n",
              " 1457,\n",
              " 1197,\n",
              " 594,\n",
              " 922,\n",
              " 1062,\n",
              " 175,\n",
              " 1663,\n",
              " 1766,\n",
              " 1491,\n",
              " 623,\n",
              " 112,\n",
              " 139,\n",
              " 482,\n",
              " 513,\n",
              " 596,\n",
              " 684,\n",
              " 874,\n",
              " 887,\n",
              " 1050,\n",
              " 1192,\n",
              " 1242,\n",
              " 1282,\n",
              " 1321,\n",
              " 1535,\n",
              " 1554,\n",
              " 1744,\n",
              " 1900,\n",
              " 1961,\n",
              " 870,\n",
              " 1405,\n",
              " 1653,\n",
              " 1672,\n",
              " 969,\n",
              " 845,\n",
              " 87,\n",
              " 321,\n",
              " 744,\n",
              " 1013,\n",
              " 1810,\n",
              " 1399,\n",
              " 222,\n",
              " 448,\n",
              " 1120,\n",
              " 1775,\n",
              " 1670,\n",
              " 1044,\n",
              " 1551]"
            ]
          },
          "metadata": {
            "tags": []
          },
          "execution_count": 25
        }
      ]
    },
    {
      "cell_type": "code",
      "metadata": {
        "id": "tRzJSoukuShc",
        "colab_type": "code",
        "colab": {}
      },
      "source": [
        "n_tweet=[]\n",
        "for r,i in enumerate(index):\n",
        "  n_tweet.append(df['tweets'][i])\n",
        "  "
      ],
      "execution_count": 0,
      "outputs": []
    },
    {
      "cell_type": "code",
      "metadata": {
        "id": "SCOZQp0ZuqLv",
        "colab_type": "code",
        "colab": {}
      },
      "source": [
        "def my_function(x):\n",
        "  return list(dict.fromkeys(x))\n",
        "\n",
        "mylist = my_function(n_tweet)\n",
        "mylist=mylist[:10]"
      ],
      "execution_count": 0,
      "outputs": []
    },
    {
      "cell_type": "code",
      "metadata": {
        "id": "yj1cCM5Mu28H",
        "colab_type": "code",
        "outputId": "0eedff5f-4939-4630-ce72-993199561af3",
        "colab": {
          "base_uri": "https://localhost:8080/",
          "height": 34
        }
      },
      "source": [
        "len(mylist)"
      ],
      "execution_count": 0,
      "outputs": [
        {
          "output_type": "execute_result",
          "data": {
            "text/plain": [
              "10"
            ]
          },
          "metadata": {
            "tags": []
          },
          "execution_count": 256
        }
      ]
    },
    {
      "cell_type": "code",
      "metadata": {
        "id": "DstvA2STvblh",
        "colab_type": "code",
        "outputId": "b93fcfe3-b34c-4840-b2c7-57abb0c5fd71",
        "colab": {
          "base_uri": "https://localhost:8080/",
          "height": 187
        }
      },
      "source": [
        "mylist"
      ],
      "execution_count": 0,
      "outputs": [
        {
          "output_type": "execute_result",
          "data": {
            "text/plain": [
              "['RT @AapDoctors: List of 51 Primary &amp; 56 Addl Govt Labs for Corona Virus testing actoss India. Nasal/Oral Swab to be tested by RT-PCR method…',\n",
              " 'RT @AnjaliB_: Hailstorm in Delhi. In light of poor weather conditions and threat of corona virus, Delhi government should provide appropria…',\n",
              " 'RT @jgopikrishnan70: Pappu Diaries seized by Income Tax creating panic to Congress leadership in Delhi and Chhattisgarh https://t.co/pBOoGS…',\n",
              " 'RT @OpIndia_com: Coronavirus in India: Home ministry announces ex-gratia amount of Rs 4 lakhs for the kins of patients killed due to Covid-…',\n",
              " 'Why Pune is reporting an alarming number of cases? Pune is the epicentre of corona virus cases in a India. Uddhav T… https://t.co/7WH1jodyiK',\n",
              " 'RT @sagarikaghose: India 5th country to isolate #COVIDー19 virus &amp; 10 people have been cured. Working in v difficult conditions, India’s val…',\n",
              " 'RT @TOIIndiaNews: Five more coronavirus patients in Pune area; Maharashtra count 31 https://t.co/Z1d4gQDFm1',\n",
              " 'RT @RijuCNN: Why Pune is reporting an alarming number of cases? Pune is the epicentre of corona virus cases in a India. Uddhav Thackeray go…',\n",
              " 'RT @dhirendra_vr: Meet the 17-Year-Old Behind a Website Tracking Coronavirus Cases That Is Now a Vital Global Resource https://t.co/QWof3dC…',\n",
              " \"RT @PTI_News: Three suspected coronavirus patients run away from government hospital in Maharashtra's Ahmednagar district: police\"]"
            ]
          },
          "metadata": {
            "tags": []
          },
          "execution_count": 259
        }
      ]
    },
    {
      "cell_type": "code",
      "metadata": {
        "id": "WdeOvqILWBPH",
        "colab_type": "code",
        "outputId": "948d6294-8553-475a-f15a-c00aa48866e2",
        "colab": {
          "base_uri": "https://localhost:8080/",
          "height": 765
        }
      },
      "source": [
        "print('Query: {}\\n '.format(str(query)))\n",
        "print('Most similar tweets \\n')\n",
        "for r,i in enumerate(mylist):\n",
        "  \n",
        "  print('tweet no={}'.format(r+1))\n",
        "  print(i)\n",
        "  print('\\n')"
      ],
      "execution_count": 0,
      "outputs": [
        {
          "output_type": "stream",
          "text": [
            "Query: Corona Virus Cure and Victims in Delhi\n",
            " \n",
            "Most similar tweets \n",
            "\n",
            "tweet no=1\n",
            "RT @AapDoctors: List of 51 Primary &amp; 56 Addl Govt Labs for Corona Virus testing actoss India. Nasal/Oral Swab to be tested by RT-PCR method…\n",
            "\n",
            "\n",
            "tweet no=2\n",
            "RT @AnjaliB_: Hailstorm in Delhi. In light of poor weather conditions and threat of corona virus, Delhi government should provide appropria…\n",
            "\n",
            "\n",
            "tweet no=3\n",
            "RT @jgopikrishnan70: Pappu Diaries seized by Income Tax creating panic to Congress leadership in Delhi and Chhattisgarh https://t.co/pBOoGS…\n",
            "\n",
            "\n",
            "tweet no=4\n",
            "RT @OpIndia_com: Coronavirus in India: Home ministry announces ex-gratia amount of Rs 4 lakhs for the kins of patients killed due to Covid-…\n",
            "\n",
            "\n",
            "tweet no=5\n",
            "Why Pune is reporting an alarming number of cases? Pune is the epicentre of corona virus cases in a India. Uddhav T… https://t.co/7WH1jodyiK\n",
            "\n",
            "\n",
            "tweet no=6\n",
            "RT @sagarikaghose: India 5th country to isolate #COVIDー19 virus &amp; 10 people have been cured. Working in v difficult conditions, India’s val…\n",
            "\n",
            "\n",
            "tweet no=7\n",
            "RT @TOIIndiaNews: Five more coronavirus patients in Pune area; Maharashtra count 31 https://t.co/Z1d4gQDFm1\n",
            "\n",
            "\n",
            "tweet no=8\n",
            "RT @RijuCNN: Why Pune is reporting an alarming number of cases? Pune is the epicentre of corona virus cases in a India. Uddhav Thackeray go…\n",
            "\n",
            "\n",
            "tweet no=9\n",
            "RT @dhirendra_vr: Meet the 17-Year-Old Behind a Website Tracking Coronavirus Cases That Is Now a Vital Global Resource https://t.co/QWof3dC…\n",
            "\n",
            "\n",
            "tweet no=10\n",
            "RT @PTI_News: Three suspected coronavirus patients run away from government hospital in Maharashtra's Ahmednagar district: police\n",
            "\n",
            "\n"
          ],
          "name": "stdout"
        }
      ]
    },
    {
      "cell_type": "code",
      "metadata": {
        "id": "8_BzKOyXqzSt",
        "colab_type": "code",
        "outputId": "0e0b919a-5a5f-461b-e0ad-1cdcdc545b3b",
        "colab": {
          "base_uri": "https://localhost:8080/",
          "height": 33
        }
      },
      "source": [
        "type(embeddings)"
      ],
      "execution_count": 0,
      "outputs": [
        {
          "output_type": "execute_result",
          "data": {
            "text/plain": [
              "numpy.ndarray"
            ]
          },
          "metadata": {
            "tags": []
          },
          "execution_count": 224
        }
      ]
    },
    {
      "cell_type": "code",
      "metadata": {
        "id": "02shhiBVqhpv",
        "colab_type": "code",
        "colab": {}
      },
      "source": [
        "from numpy import asarray\n",
        "from numpy import savetxt\n",
        "savetxt('embeddings.csv', embeddings, delimiter=',')"
      ],
      "execution_count": 0,
      "outputs": []
    },
    {
      "cell_type": "code",
      "metadata": {
        "id": "vhkKPayQq4ad",
        "colab_type": "code",
        "colab": {}
      },
      "source": [
        "from numpy import loadtxt\n",
        "embeddings_2 = loadtxt('embeddings.csv', delimiter=',')\n"
      ],
      "execution_count": 0,
      "outputs": []
    },
    {
      "cell_type": "code",
      "metadata": {
        "id": "vLmr433bFBy4",
        "colab_type": "code",
        "colab": {}
      },
      "source": [
        "embeddings=embeddings_2"
      ],
      "execution_count": 0,
      "outputs": []
    },
    {
      "cell_type": "code",
      "metadata": {
        "id": "9vtrSt9erTpT",
        "colab_type": "code",
        "outputId": "37a0ed78-f7b8-4d12-c8c2-d751f94664d2",
        "colab": {
          "base_uri": "https://localhost:8080/",
          "height": 131
        }
      },
      "source": [
        "embeddings_2==embeddings"
      ],
      "execution_count": 0,
      "outputs": [
        {
          "output_type": "execute_result",
          "data": {
            "text/plain": [
              "array([[ True,  True,  True, ...,  True,  True,  True],\n",
              "       [ True,  True,  True, ...,  True,  True,  True],\n",
              "       [ True,  True,  True, ...,  True,  True,  True],\n",
              "       ...,\n",
              "       [ True,  True,  True, ...,  True,  True,  True],\n",
              "       [ True,  True,  True, ...,  True,  True,  True],\n",
              "       [ True,  True,  True, ...,  True,  True,  True]])"
            ]
          },
          "metadata": {
            "tags": []
          },
          "execution_count": 227
        }
      ]
    },
    {
      "cell_type": "code",
      "metadata": {
        "id": "tZmj0DyZrsks",
        "colab_type": "code",
        "colab": {}
      },
      "source": [
        "for r,i in enumerate(mylist):\n",
        "  \n",
        "  print('tweet no={}'.format(r+1))\n"
      ],
      "execution_count": 0,
      "outputs": []
    },
    {
      "cell_type": "code",
      "metadata": {
        "id": "CsNqx3cCtxYN",
        "colab_type": "code",
        "outputId": "3a484bba-08bd-454c-e8aa-2d29fa07f3e1",
        "colab": {
          "base_uri": "https://localhost:8080/",
          "height": 34
        }
      },
      "source": [
        "str('hi')==str('hi')"
      ],
      "execution_count": 0,
      "outputs": [
        {
          "output_type": "execute_result",
          "data": {
            "text/plain": [
              "True"
            ]
          },
          "metadata": {
            "tags": []
          },
          "execution_count": 241
        }
      ]
    },
    {
      "cell_type": "code",
      "metadata": {
        "id": "hakbK95Qtz6C",
        "colab_type": "code",
        "colab": {}
      },
      "source": [
        "with open('file.txt', 'w') as f:\n",
        "    for item in mylist:\n",
        "        f.write(\"%s\\n\" % item)\n",
        "f.close()"
      ],
      "execution_count": 0,
      "outputs": []
    },
    {
      "cell_type": "code",
      "metadata": {
        "id": "4pfgagZHwiep",
        "colab_type": "code",
        "colab": {}
      },
      "source": [
        ""
      ],
      "execution_count": 0,
      "outputs": []
    }
  ]
}