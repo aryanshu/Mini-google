{
  "nbformat": 4,
  "nbformat_minor": 0,
  "metadata": {
    "colab": {
      "name": "query_search.ipynb",
      "provenance": [],
      "include_colab_link": true
    },
    "kernelspec": {
      "name": "python3",
      "display_name": "Python 3"
    },
    "accelerator": "GPU"
  },
  "cells": [
    {
      "cell_type": "markdown",
      "metadata": {
        "id": "view-in-github",
        "colab_type": "text"
      },
      "source": [
        "<a href=\"https://colab.research.google.com/github/aryanshu/Mini-google/blob/master/query_search.ipynb\" target=\"_parent\"><img src=\"https://colab.research.google.com/assets/colab-badge.svg\" alt=\"Open In Colab\"/></a>"
      ]
    },
    {
      "cell_type": "code",
      "metadata": {
        "id": "DPUNejb6foIW",
        "colab_type": "code",
        "outputId": "50d08fcb-cadf-4beb-96ac-47bea8400bab",
        "colab": {
          "base_uri": "https://localhost:8080/",
          "height": 118
        }
      },
      "source": [
        "from google.colab import drive\n",
        "drive.mount('/gdrive')"
      ],
      "execution_count": 0,
      "outputs": [
        {
          "output_type": "stream",
          "text": [
            "Go to this URL in a browser: https://accounts.google.com/o/oauth2/auth?client_id=947318989803-6bn6qk8qdgf4n4g3pfee6491hc0brc4i.apps.googleusercontent.com&redirect_uri=urn%3aietf%3awg%3aoauth%3a2.0%3aoob&response_type=code&scope=email%20https%3a%2f%2fwww.googleapis.com%2fauth%2fdocs.test%20https%3a%2f%2fwww.googleapis.com%2fauth%2fdrive%20https%3a%2f%2fwww.googleapis.com%2fauth%2fdrive.photos.readonly%20https%3a%2f%2fwww.googleapis.com%2fauth%2fpeopleapi.readonly\n",
            "\n",
            "Enter your authorization code:\n",
            "··········\n",
            "Mounted at /gdrive\n"
          ],
          "name": "stdout"
        }
      ]
    },
    {
      "cell_type": "code",
      "metadata": {
        "id": "37wSy46MhWUV",
        "colab_type": "code",
        "outputId": "fc82c1bc-61a0-4515-a846-cd66e3f7f120",
        "colab": {
          "base_uri": "https://localhost:8080/",
          "height": 33
        }
      },
      "source": [
        "cd \"/gdrive/My Drive/Colab Notebooks\""
      ],
      "execution_count": 0,
      "outputs": [
        {
          "output_type": "stream",
          "text": [
            "/gdrive/My Drive/Colab Notebooks\n"
          ],
          "name": "stdout"
        }
      ]
    },
    {
      "cell_type": "code",
      "metadata": {
        "id": "wem5weWaiSEp",
        "colab_type": "code",
        "outputId": "55d53cd9-bf80-4080-d06b-043f5d68d7f6",
        "colab": {
          "base_uri": "https://localhost:8080/",
          "height": 119
        }
      },
      "source": [
        "!mkdir encoder\n",
        "!curl -Lo encoder/infersent1.pkl https://dl.fbaipublicfiles.com/infersent/infersent1.pkl\n",
        "!curl -Lo encoder/infersent2.pkl https://dl.fbaipublicfiles.com/infersent/infersent2.pkl"
      ],
      "execution_count": 0,
      "outputs": [
        {
          "output_type": "stream",
          "text": [
            "  % Total    % Received % Xferd  Average Speed   Time    Time     Time  Current\n",
            "                                 Dload  Upload   Total   Spent    Left  Speed\n",
            "100  146M  100  146M    0     0  10.5M      0  0:00:13  0:00:13 --:--:-- 12.2M\n",
            "  % Total    % Received % Xferd  Average Speed   Time    Time     Time  Current\n",
            "                                 Dload  Upload   Total   Spent    Left  Speed\n",
            "100  146M  100  146M    0     0  10.7M      0  0:00:13  0:00:13 --:--:-- 12.3M\n"
          ],
          "name": "stdout"
        }
      ]
    },
    {
      "cell_type": "code",
      "metadata": {
        "id": "5FgDuENoMOPh",
        "colab_type": "code",
        "colab": {}
      },
      "source": [
        "!mkdir GloVe\n",
        "!curl -Lo GloVe/glove.840B.300d.zip http://nlp.stanford.edu/data/glove.840B.300d.zip\n",
        "!unzip GloVe/glove.840B.300d.zip -d GloVe/\n",
        "!mkdir fastText\n",
        "!curl -Lo fastText/crawl-300d-2M.vec.zip https://dl.fbaipublicfiles.com/fasttext/vectors-english/crawl-300d-2M.vec.zip\n",
        "!unzip fastText/crawl-300d-2M.vec.zip -d fastText/"
      ],
      "execution_count": 0,
      "outputs": []
    },
    {
      "cell_type": "code",
      "metadata": {
        "id": "Seb1EY-ghfaZ",
        "colab_type": "code",
        "outputId": "437afa44-66b4-4780-b7ce-cfc4f429fce2",
        "colab": {
          "base_uri": "https://localhost:8080/",
          "height": 33
        }
      },
      "source": [
        "from models import InferSent\n",
        "import torch\n",
        "model_version = 1\n",
        "MODEL_PATH = \"encoder/infersent%s.pkl\" % model_version\n",
        "params_model = {'bsize': 64, 'word_emb_dim': 300, 'enc_lstm_dim': 2048,\n",
        "                'pool_type': 'max', 'dpout_model': 0.0, 'version': model_version}\n",
        "model = InferSent(params_model)\n",
        "model.load_state_dict(torch.load(MODEL_PATH))"
      ],
      "execution_count": 0,
      "outputs": [
        {
          "output_type": "execute_result",
          "data": {
            "text/plain": [
              "<All keys matched successfully>"
            ]
          },
          "metadata": {
            "tags": []
          },
          "execution_count": 3
        }
      ]
    },
    {
      "cell_type": "code",
      "metadata": {
        "id": "TJYz_BoFkbl6",
        "colab_type": "code",
        "outputId": "9661334b-08be-415f-8ffd-5d20e41dbb97",
        "colab": {
          "base_uri": "https://localhost:8080/",
          "height": 66
        }
      },
      "source": [
        "import nltk\n",
        "nltk.download('punkt')"
      ],
      "execution_count": 0,
      "outputs": [
        {
          "output_type": "stream",
          "text": [
            "[nltk_data] Downloading package punkt to /root/nltk_data...\n",
            "[nltk_data]   Unzipping tokenizers/punkt.zip.\n"
          ],
          "name": "stdout"
        },
        {
          "output_type": "execute_result",
          "data": {
            "text/plain": [
              "True"
            ]
          },
          "metadata": {
            "tags": []
          },
          "execution_count": 4
        }
      ]
    },
    {
      "cell_type": "code",
      "metadata": {
        "id": "yvdCv0mxkpiC",
        "colab_type": "code",
        "colab": {}
      },
      "source": [
        "\n",
        "# Keep it on CPU or put it on GPU\n",
        "use_cuda = True\n",
        "model = model.cuda() if use_cuda else model"
      ],
      "execution_count": 0,
      "outputs": []
    },
    {
      "cell_type": "code",
      "metadata": {
        "id": "h-iwPv4Vkwuw",
        "colab_type": "code",
        "colab": {}
      },
      "source": [
        "W2V_PATH = 'GloVe/glove.840B.300d.txt' if model_version == 1 else 'fastText/crawl-300d-2M.vec'\n",
        "model.set_w2v_path(W2V_PATH)"
      ],
      "execution_count": 0,
      "outputs": []
    },
    {
      "cell_type": "code",
      "metadata": {
        "id": "GGudEAsyl7za",
        "colab_type": "code",
        "colab": {}
      },
      "source": [
        "import pandas as pd\n",
        "import numpy as np"
      ],
      "execution_count": 0,
      "outputs": []
    },
    {
      "cell_type": "code",
      "metadata": {
        "id": "rSXLilJdGzgX",
        "colab_type": "code",
        "outputId": "68db1cb1-3de3-493b-e687-74ede8cff2c8",
        "colab": {
          "base_uri": "https://localhost:8080/",
          "height": 191
        }
      },
      "source": [
        "df=pd.read_csv('live_tweet.csv')\n",
        "df.head()"
      ],
      "execution_count": 0,
      "outputs": [
        {
          "output_type": "execute_result",
          "data": {
            "text/html": [
              "<div>\n",
              "<style scoped>\n",
              "    .dataframe tbody tr th:only-of-type {\n",
              "        vertical-align: middle;\n",
              "    }\n",
              "\n",
              "    .dataframe tbody tr th {\n",
              "        vertical-align: top;\n",
              "    }\n",
              "\n",
              "    .dataframe thead th {\n",
              "        text-align: right;\n",
              "    }\n",
              "</style>\n",
              "<table border=\"1\" class=\"dataframe\">\n",
              "  <thead>\n",
              "    <tr style=\"text-align: right;\">\n",
              "      <th></th>\n",
              "      <th>Unnamed: 0</th>\n",
              "      <th>tweets</th>\n",
              "    </tr>\n",
              "  </thead>\n",
              "  <tbody>\n",
              "    <tr>\n",
              "      <th>0</th>\n",
              "      <td>0</td>\n",
              "      <td>@RaniaKhalek People should understand that vir...</td>\n",
              "    </tr>\n",
              "    <tr>\n",
              "      <th>1</th>\n",
              "      <td>1</td>\n",
              "      <td>RT @bainjal: Leaked audio of Finance Minister ...</td>\n",
              "    </tr>\n",
              "    <tr>\n",
              "      <th>2</th>\n",
              "      <td>2</td>\n",
              "      <td>RT @drharshvardhan: Don’t chase the Sanitizer\\...</td>\n",
              "    </tr>\n",
              "    <tr>\n",
              "      <th>3</th>\n",
              "      <td>3</td>\n",
              "      <td>RT @DrAMSinghvi: Bill moved by me in the Rajya...</td>\n",
              "    </tr>\n",
              "    <tr>\n",
              "      <th>4</th>\n",
              "      <td>4</td>\n",
              "      <td>@F1 can we have an event hosted in India under...</td>\n",
              "    </tr>\n",
              "  </tbody>\n",
              "</table>\n",
              "</div>"
            ],
            "text/plain": [
              "   Unnamed: 0                                             tweets\n",
              "0           0  @RaniaKhalek People should understand that vir...\n",
              "1           1  RT @bainjal: Leaked audio of Finance Minister ...\n",
              "2           2  RT @drharshvardhan: Don’t chase the Sanitizer\\...\n",
              "3           3  RT @DrAMSinghvi: Bill moved by me in the Rajya...\n",
              "4           4  @F1 can we have an event hosted in India under..."
            ]
          },
          "metadata": {
            "tags": []
          },
          "execution_count": 41
        }
      ]
    },
    {
      "cell_type": "code",
      "metadata": {
        "id": "Oc60n21slUHy",
        "colab_type": "code",
        "outputId": "91e53118-54f0-4a97-ca1e-154b6dda67bb",
        "colab": {
          "base_uri": "https://localhost:8080/",
          "height": 33
        }
      },
      "source": [
        "len(df)"
      ],
      "execution_count": 0,
      "outputs": [
        {
          "output_type": "execute_result",
          "data": {
            "text/plain": [
              "20056"
            ]
          },
          "metadata": {
            "tags": []
          },
          "execution_count": 42
        }
      ]
    },
    {
      "cell_type": "code",
      "metadata": {
        "id": "NfaFiHHfSwko",
        "colab_type": "code",
        "colab": {}
      },
      "source": [
        "sentences=df['tweets'].tolist()"
      ],
      "execution_count": 0,
      "outputs": []
    },
    {
      "cell_type": "code",
      "metadata": {
        "id": "9Pb05y6rk1H6",
        "colab_type": "code",
        "outputId": "05c7f144-d9c8-480e-a1aa-cc4c5735a9de",
        "colab": {
          "base_uri": "https://localhost:8080/",
          "height": 50
        }
      },
      "source": [
        "model.build_vocab(sentences, tokenize=True)"
      ],
      "execution_count": 0,
      "outputs": [
        {
          "output_type": "stream",
          "text": [
            "Found 14542(/28001) words with w2v vectors\n",
            "Vocab size : 14542\n"
          ],
          "name": "stdout"
        }
      ]
    },
    {
      "cell_type": "code",
      "metadata": {
        "id": "ED9ceztUeWFf",
        "colab_type": "code",
        "outputId": "47c2ffe6-b298-4fd7-e441-bab88fb8be6e",
        "colab": {
          "base_uri": "https://localhost:8080/",
          "height": 33
        }
      },
      "source": [
        "query=input()\n",
        "sent2=[query]"
      ],
      "execution_count": 0,
      "outputs": [
        {
          "output_type": "stream",
          "text": [
            "Delhi riots\n"
          ],
          "name": "stdout"
        }
      ]
    },
    {
      "cell_type": "code",
      "metadata": {
        "id": "emlRuhyoeyWj",
        "colab_type": "code",
        "outputId": "af5b0299-4196-46c0-a06c-bdba8aa35044",
        "colab": {
          "base_uri": "https://localhost:8080/",
          "height": 33
        }
      },
      "source": [
        "sent2"
      ],
      "execution_count": 0,
      "outputs": [
        {
          "output_type": "execute_result",
          "data": {
            "text/plain": [
              "['Delhi riots']"
            ]
          },
          "metadata": {
            "tags": []
          },
          "execution_count": 14
        }
      ]
    },
    {
      "cell_type": "code",
      "metadata": {
        "id": "g-78_KzrX3gE",
        "colab_type": "code",
        "outputId": "45d8d289-c7ca-4a95-c415-1a4fce41359e",
        "colab": {
          "base_uri": "https://localhost:8080/",
          "height": 50
        }
      },
      "source": [
        "model.update_vocab(sent2)"
      ],
      "execution_count": 0,
      "outputs": [
        {
          "output_type": "stream",
          "text": [
            "Found 0(/1) words with w2v vectors\n",
            "New vocab size : 4533 (added 0 words)\n"
          ],
          "name": "stdout"
        }
      ]
    },
    {
      "cell_type": "code",
      "metadata": {
        "id": "fbZmMhhcYg1X",
        "colab_type": "code",
        "outputId": "59abd35e-099c-4264-d859-e9a9d7c92dda",
        "colab": {
          "base_uri": "https://localhost:8080/",
          "height": 33
        }
      },
      "source": [
        "embeddings = model.encode(sentences, bsize=128)\n",
        "print('nb sentences encoded : {0}'.format(len(embeddings)))"
      ],
      "execution_count": 0,
      "outputs": [
        {
          "output_type": "stream",
          "text": [
            "nb sentences encoded : 20056\n"
          ],
          "name": "stdout"
        }
      ]
    },
    {
      "cell_type": "code",
      "metadata": {
        "id": "U0kFt47Tk_ff",
        "colab_type": "code",
        "outputId": "ca6da7fb-a3d9-4e22-dae6-91e451064023",
        "colab": {
          "base_uri": "https://localhost:8080/",
          "height": 66
        }
      },
      "source": [
        "#embeddings = model.encode(sentences, bsize=128, tokenize=False, verbose=True)\n",
        "#print('nb sentences encoded : {0}'.format(len(embeddings)))"
      ],
      "execution_count": 0,
      "outputs": [
        {
          "output_type": "stream",
          "text": [
            "Nb words kept : 29723/39403 (75.4%)\n",
            "Speed : 37.6 sentences/s (cpu mode, bsize=128)\n",
            "nb sentences encoded : 2000\n"
          ],
          "name": "stdout"
        }
      ]
    },
    {
      "cell_type": "code",
      "metadata": {
        "id": "JlylbKY9lL6C",
        "colab_type": "code",
        "colab": {}
      },
      "source": [
        "def cosine(u, v):\n",
        "    return np.dot(u, v) / (np.linalg.norm(u) * np.linalg.norm(v))"
      ],
      "execution_count": 0,
      "outputs": []
    },
    {
      "cell_type": "code",
      "metadata": {
        "id": "Eq0PMFUlILkO",
        "colab_type": "code",
        "outputId": "04e6bd5e-b5de-4116-a34a-9c9db00151b7",
        "colab": {
          "base_uri": "https://localhost:8080/",
          "height": 50
        }
      },
      "source": [
        "embeddings[1]"
      ],
      "execution_count": 0,
      "outputs": [
        {
          "output_type": "execute_result",
          "data": {
            "text/plain": [
              "array([0.05731931, 0.13585961, 0.11496196, ..., 0.        , 0.08438367,\n",
              "       0.07925383], dtype=float32)"
            ]
          },
          "metadata": {
            "tags": []
          },
          "execution_count": 17
        }
      ]
    },
    {
      "cell_type": "code",
      "metadata": {
        "id": "ao3wDq_ifcj4",
        "colab_type": "code",
        "outputId": "d142e767-1ef9-47d6-b312-95c567a9b7dd",
        "colab": {
          "base_uri": "https://localhost:8080/",
          "height": 33
        }
      },
      "source": [
        "query2=model.encode(sent2)[0]\n",
        "len(query2)"
      ],
      "execution_count": 0,
      "outputs": [
        {
          "output_type": "execute_result",
          "data": {
            "text/plain": [
              "4096"
            ]
          },
          "metadata": {
            "tags": []
          },
          "execution_count": 18
        }
      ]
    },
    {
      "cell_type": "code",
      "metadata": {
        "id": "XaKmtO5JRPf8",
        "colab_type": "code",
        "colab": {}
      },
      "source": [
        "import time\n",
        "start=time.time() \n",
        "label=[]\n",
        "query2=model.encode(sent2)[0]\n",
        "for i in range(len(embeddings)):\n",
        "  \n",
        "  r=cosine(query2,embeddings[i])\n",
        "  label.append([i,r])\n",
        "  "
      ],
      "execution_count": 0,
      "outputs": []
    },
    {
      "cell_type": "code",
      "metadata": {
        "id": "nXkl_04kR1xT",
        "colab_type": "code",
        "outputId": "761829e1-d37a-45ea-bf0e-7979e5d1603f",
        "colab": {
          "base_uri": "https://localhost:8080/",
          "height": 180
        }
      },
      "source": [
        "label[:10]"
      ],
      "execution_count": 0,
      "outputs": [
        {
          "output_type": "execute_result",
          "data": {
            "text/plain": [
              "[[0, 0.10443588324728266],\n",
              " [1, 0.24265742600068482],\n",
              " [2, 0.08106836554533055],\n",
              " [3, 0.20437415074940335],\n",
              " [4, 0.22912096199077736],\n",
              " [5, 0.04433247786417467],\n",
              " [6, 0.12426184153807181],\n",
              " [7, 0.21790849073462232],\n",
              " [8, 0.10261531039362988],\n",
              " [9, 0.31183878629741285]]"
            ]
          },
          "metadata": {
            "tags": []
          },
          "execution_count": 34
        }
      ]
    },
    {
      "cell_type": "code",
      "metadata": {
        "id": "9Q2daCfILBiu",
        "colab_type": "code",
        "colab": {}
      },
      "source": [
        "label=sorted(label,key=lambda l:l[1], reverse=True)\n"
      ],
      "execution_count": 0,
      "outputs": []
    },
    {
      "cell_type": "code",
      "metadata": {
        "id": "_nMROr9GZuJj",
        "colab_type": "code",
        "outputId": "7e827b2b-ab6f-4b12-e675-3b4e610ffeb3",
        "colab": {
          "base_uri": "https://localhost:8080/",
          "height": 423
        }
      },
      "source": [
        "\n",
        "label[:25]"
      ],
      "execution_count": 0,
      "outputs": [
        {
          "output_type": "execute_result",
          "data": {
            "text/plain": [
              "[[437, 0.39349751549451395],\n",
              " [1356, 0.36132332373740994],\n",
              " [99, 0.331307313532439],\n",
              " [482, 0.3309579759729943],\n",
              " [539, 0.3309579759729943],\n",
              " [882, 0.3309579759729943],\n",
              " [966, 0.3309579759729943],\n",
              " [1064, 0.3309579759729943],\n",
              " [1506, 0.3309579759729943],\n",
              " [1062, 0.33001788587372743],\n",
              " [700, 0.3300178841825376],\n",
              " [866, 0.3300178841825376],\n",
              " [1707, 0.3300178841825376],\n",
              " [78, 0.32879012965300924],\n",
              " [1292, 0.32728869515950587],\n",
              " [736, 0.32220124408816625],\n",
              " [1976, 0.319308965642642],\n",
              " [175, 0.31421526358113555],\n",
              " [1258, 0.31421526358113555],\n",
              " [1538, 0.31421526358113555],\n",
              " [1933, 0.31421526358113555],\n",
              " [9, 0.31183878629741285],\n",
              " [432, 0.31183878629741285],\n",
              " [1270, 0.31183878629741285],\n",
              " [1285, 0.31183878629741285]]"
            ]
          },
          "metadata": {
            "tags": []
          },
          "execution_count": 36
        }
      ]
    },
    {
      "cell_type": "code",
      "metadata": {
        "id": "lxGSuJPHuA_G",
        "colab_type": "code",
        "colab": {}
      },
      "source": [
        "index_2=[i[1] for i in label[:10]]"
      ],
      "execution_count": 0,
      "outputs": []
    },
    {
      "cell_type": "code",
      "metadata": {
        "id": "Ws3Tchv4EnoM",
        "colab_type": "code",
        "outputId": "46fc4835-582e-458e-8ea9-b85753c2405e",
        "colab": {
          "base_uri": "https://localhost:8080/",
          "height": 33
        }
      },
      "source": [
        "import statistics \n",
        "x = statistics.mean(index_2)\n",
        "print(x)"
      ],
      "execution_count": 0,
      "outputs": [
        {
          "output_type": "stream",
          "text": [
            "0.34018938944760563\n"
          ],
          "name": "stdout"
        }
      ]
    },
    {
      "cell_type": "code",
      "metadata": {
        "id": "9XM5ApvlU_lU",
        "colab_type": "code",
        "colab": {}
      },
      "source": [
        "index=[i[0] for i in label[:1000]]\n"
      ],
      "execution_count": 0,
      "outputs": []
    },
    {
      "cell_type": "code",
      "metadata": {
        "id": "BFgwMnRJWNCr",
        "colab_type": "code",
        "outputId": "5a9f7d15-db5c-42e5-e5da-ad661d34c0da",
        "colab": {
          "base_uri": "https://localhost:8080/",
          "height": 33
        }
      },
      "source": [
        "len(index)"
      ],
      "execution_count": 0,
      "outputs": [
        {
          "output_type": "execute_result",
          "data": {
            "text/plain": [
              "1000"
            ]
          },
          "metadata": {
            "tags": []
          },
          "execution_count": 24
        }
      ]
    },
    {
      "cell_type": "code",
      "metadata": {
        "id": "P19BnFSqMKek",
        "colab_type": "code",
        "colab": {}
      },
      "source": [
        "index"
      ],
      "execution_count": 0,
      "outputs": []
    },
    {
      "cell_type": "code",
      "metadata": {
        "id": "tRzJSoukuShc",
        "colab_type": "code",
        "colab": {}
      },
      "source": [
        "n_tweet=[]\n",
        "for r,i in enumerate(index):\n",
        "  n_tweet.append(df['tweets'][i])\n",
        "  "
      ],
      "execution_count": 0,
      "outputs": []
    },
    {
      "cell_type": "code",
      "metadata": {
        "id": "SCOZQp0ZuqLv",
        "colab_type": "code",
        "colab": {}
      },
      "source": [
        "def my_function(x):\n",
        "  return list(dict.fromkeys(x))\n",
        "\n",
        "mylist = my_function(n_tweet)\n",
        "mylist=mylist[:10]"
      ],
      "execution_count": 0,
      "outputs": []
    },
    {
      "cell_type": "code",
      "metadata": {
        "id": "yj1cCM5Mu28H",
        "colab_type": "code",
        "outputId": "0eedff5f-4939-4630-ce72-993199561af3",
        "colab": {
          "base_uri": "https://localhost:8080/",
          "height": 34
        }
      },
      "source": [
        "len(mylist)"
      ],
      "execution_count": 0,
      "outputs": [
        {
          "output_type": "execute_result",
          "data": {
            "text/plain": [
              "10"
            ]
          },
          "metadata": {
            "tags": []
          },
          "execution_count": 256
        }
      ]
    },
    {
      "cell_type": "code",
      "metadata": {
        "id": "DstvA2STvblh",
        "colab_type": "code",
        "outputId": "b93fcfe3-b34c-4840-b2c7-57abb0c5fd71",
        "colab": {
          "base_uri": "https://localhost:8080/",
          "height": 187
        }
      },
      "source": [
        "mylist"
      ],
      "execution_count": 0,
      "outputs": [
        {
          "output_type": "execute_result",
          "data": {
            "text/plain": [
              "['RT @AapDoctors: List of 51 Primary &amp; 56 Addl Govt Labs for Corona Virus testing actoss India. Nasal/Oral Swab to be tested by RT-PCR method…',\n",
              " 'RT @AnjaliB_: Hailstorm in Delhi. In light of poor weather conditions and threat of corona virus, Delhi government should provide appropria…',\n",
              " 'RT @jgopikrishnan70: Pappu Diaries seized by Income Tax creating panic to Congress leadership in Delhi and Chhattisgarh https://t.co/pBOoGS…',\n",
              " 'RT @OpIndia_com: Coronavirus in India: Home ministry announces ex-gratia amount of Rs 4 lakhs for the kins of patients killed due to Covid-…',\n",
              " 'Why Pune is reporting an alarming number of cases? Pune is the epicentre of corona virus cases in a India. Uddhav T… https://t.co/7WH1jodyiK',\n",
              " 'RT @sagarikaghose: India 5th country to isolate #COVIDー19 virus &amp; 10 people have been cured. Working in v difficult conditions, India’s val…',\n",
              " 'RT @TOIIndiaNews: Five more coronavirus patients in Pune area; Maharashtra count 31 https://t.co/Z1d4gQDFm1',\n",
              " 'RT @RijuCNN: Why Pune is reporting an alarming number of cases? Pune is the epicentre of corona virus cases in a India. Uddhav Thackeray go…',\n",
              " 'RT @dhirendra_vr: Meet the 17-Year-Old Behind a Website Tracking Coronavirus Cases That Is Now a Vital Global Resource https://t.co/QWof3dC…',\n",
              " \"RT @PTI_News: Three suspected coronavirus patients run away from government hospital in Maharashtra's Ahmednagar district: police\"]"
            ]
          },
          "metadata": {
            "tags": []
          },
          "execution_count": 259
        }
      ]
    },
    {
      "cell_type": "code",
      "metadata": {
        "id": "WdeOvqILWBPH",
        "colab_type": "code",
        "outputId": "948d6294-8553-475a-f15a-c00aa48866e2",
        "colab": {
          "base_uri": "https://localhost:8080/",
          "height": 765
        }
      },
      "source": [
        "print('Query: {}\\n '.format(str(query)))\n",
        "print('Most similar tweets \\n')\n",
        "for r,i in enumerate(mylist):\n",
        "  \n",
        "  print('tweet no={}'.format(r+1))\n",
        "  print(i)\n",
        "  print('\\n')"
      ],
      "execution_count": 0,
      "outputs": [
        {
          "output_type": "stream",
          "text": [
            "Query: Corona Virus Cure and Victims in Delhi\n",
            " \n",
            "Most similar tweets \n",
            "\n",
            "tweet no=1\n",
            "RT @AapDoctors: List of 51 Primary &amp; 56 Addl Govt Labs for Corona Virus testing actoss India. Nasal/Oral Swab to be tested by RT-PCR method…\n",
            "\n",
            "\n",
            "tweet no=2\n",
            "RT @AnjaliB_: Hailstorm in Delhi. In light of poor weather conditions and threat of corona virus, Delhi government should provide appropria…\n",
            "\n",
            "\n",
            "tweet no=3\n",
            "RT @jgopikrishnan70: Pappu Diaries seized by Income Tax creating panic to Congress leadership in Delhi and Chhattisgarh https://t.co/pBOoGS…\n",
            "\n",
            "\n",
            "tweet no=4\n",
            "RT @OpIndia_com: Coronavirus in India: Home ministry announces ex-gratia amount of Rs 4 lakhs for the kins of patients killed due to Covid-…\n",
            "\n",
            "\n",
            "tweet no=5\n",
            "Why Pune is reporting an alarming number of cases? Pune is the epicentre of corona virus cases in a India. Uddhav T… https://t.co/7WH1jodyiK\n",
            "\n",
            "\n",
            "tweet no=6\n",
            "RT @sagarikaghose: India 5th country to isolate #COVIDー19 virus &amp; 10 people have been cured. Working in v difficult conditions, India’s val…\n",
            "\n",
            "\n",
            "tweet no=7\n",
            "RT @TOIIndiaNews: Five more coronavirus patients in Pune area; Maharashtra count 31 https://t.co/Z1d4gQDFm1\n",
            "\n",
            "\n",
            "tweet no=8\n",
            "RT @RijuCNN: Why Pune is reporting an alarming number of cases? Pune is the epicentre of corona virus cases in a India. Uddhav Thackeray go…\n",
            "\n",
            "\n",
            "tweet no=9\n",
            "RT @dhirendra_vr: Meet the 17-Year-Old Behind a Website Tracking Coronavirus Cases That Is Now a Vital Global Resource https://t.co/QWof3dC…\n",
            "\n",
            "\n",
            "tweet no=10\n",
            "RT @PTI_News: Three suspected coronavirus patients run away from government hospital in Maharashtra's Ahmednagar district: police\n",
            "\n",
            "\n"
          ],
          "name": "stdout"
        }
      ]
    },
    {
      "cell_type": "code",
      "metadata": {
        "id": "8_BzKOyXqzSt",
        "colab_type": "code",
        "outputId": "0e0b919a-5a5f-461b-e0ad-1cdcdc545b3b",
        "colab": {
          "base_uri": "https://localhost:8080/",
          "height": 33
        }
      },
      "source": [
        "type(embeddings)"
      ],
      "execution_count": 0,
      "outputs": [
        {
          "output_type": "execute_result",
          "data": {
            "text/plain": [
              "numpy.ndarray"
            ]
          },
          "metadata": {
            "tags": []
          },
          "execution_count": 224
        }
      ]
    },
    {
      "cell_type": "code",
      "metadata": {
        "id": "02shhiBVqhpv",
        "colab_type": "code",
        "colab": {}
      },
      "source": [
        "from numpy import asarray\n",
        "from numpy import savetxt\n",
        "savetxt('embeddings.csv', embeddings, delimiter=',')"
      ],
      "execution_count": 0,
      "outputs": []
    },
    {
      "cell_type": "code",
      "metadata": {
        "id": "vhkKPayQq4ad",
        "colab_type": "code",
        "colab": {}
      },
      "source": [
        "from numpy import loadtxt\n",
        "embeddings_2 = loadtxt('embeddings.csv', delimiter=',')\n"
      ],
      "execution_count": 0,
      "outputs": []
    },
    {
      "cell_type": "code",
      "metadata": {
        "id": "vLmr433bFBy4",
        "colab_type": "code",
        "colab": {}
      },
      "source": [
        "embeddings=embeddings_2"
      ],
      "execution_count": 0,
      "outputs": []
    },
    {
      "cell_type": "code",
      "metadata": {
        "id": "9vtrSt9erTpT",
        "colab_type": "code",
        "outputId": "37a0ed78-f7b8-4d12-c8c2-d751f94664d2",
        "colab": {
          "base_uri": "https://localhost:8080/",
          "height": 131
        }
      },
      "source": [
        "embeddings_2==embeddings"
      ],
      "execution_count": 0,
      "outputs": [
        {
          "output_type": "execute_result",
          "data": {
            "text/plain": [
              "array([[ True,  True,  True, ...,  True,  True,  True],\n",
              "       [ True,  True,  True, ...,  True,  True,  True],\n",
              "       [ True,  True,  True, ...,  True,  True,  True],\n",
              "       ...,\n",
              "       [ True,  True,  True, ...,  True,  True,  True],\n",
              "       [ True,  True,  True, ...,  True,  True,  True],\n",
              "       [ True,  True,  True, ...,  True,  True,  True]])"
            ]
          },
          "metadata": {
            "tags": []
          },
          "execution_count": 227
        }
      ]
    },
    {
      "cell_type": "code",
      "metadata": {
        "id": "tZmj0DyZrsks",
        "colab_type": "code",
        "colab": {}
      },
      "source": [
        "for r,i in enumerate(mylist):\n",
        "  \n",
        "  print('tweet no={}'.format(r+1))\n"
      ],
      "execution_count": 0,
      "outputs": []
    },
    {
      "cell_type": "code",
      "metadata": {
        "id": "CsNqx3cCtxYN",
        "colab_type": "code",
        "outputId": "3a484bba-08bd-454c-e8aa-2d29fa07f3e1",
        "colab": {
          "base_uri": "https://localhost:8080/",
          "height": 34
        }
      },
      "source": [
        "str('hi')==str('hi')"
      ],
      "execution_count": 0,
      "outputs": [
        {
          "output_type": "execute_result",
          "data": {
            "text/plain": [
              "True"
            ]
          },
          "metadata": {
            "tags": []
          },
          "execution_count": 241
        }
      ]
    },
    {
      "cell_type": "code",
      "metadata": {
        "id": "hakbK95Qtz6C",
        "colab_type": "code",
        "colab": {}
      },
      "source": [
        "with open('file.txt', 'w') as f:\n",
        "    for item in mylist:\n",
        "        f.write(\"%s\\n\" % item)\n",
        "f.close()"
      ],
      "execution_count": 0,
      "outputs": []
    },
    {
      "cell_type": "code",
      "metadata": {
        "id": "4pfgagZHwiep",
        "colab_type": "code",
        "colab": {}
      },
      "source": [
        ""
      ],
      "execution_count": 0,
      "outputs": []
    }
  ]
}